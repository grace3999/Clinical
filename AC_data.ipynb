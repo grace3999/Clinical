{
 "cells": [
  {
   "cell_type": "markdown",
   "metadata": {},
   "source": [
    "Goal of analysis script is to pull in excel file of deidentified alcohol data and analyze"
   ]
  },
  {
   "cell_type": "markdown",
   "metadata": {},
   "source": [
    "Import modules"
   ]
  },
  {
   "cell_type": "code",
   "execution_count": null,
   "metadata": {},
   "outputs": [],
   "source": [
    "import pandas as pd\n",
    "import numpy as np\n",
    "import re\n",
    "import os\n",
    "from scipy import stats\n",
    "\n",
    "# visualization\n",
    "%matplotlib inline\n",
    "import matplotlib.pyplot as plt\n",
    "import seaborn as sns"
   ]
  },
  {
   "cell_type": "code",
   "execution_count": null,
   "metadata": {},
   "outputs": [],
   "source": [
    "pd.set_option('display.max_rows', 500)\n",
    "pd.set_option('display.max_columns', 500)\n",
    "pd.set_option('display.width', 1000)"
   ]
  },
  {
   "cell_type": "markdown",
   "metadata": {},
   "source": [
    "Open dialog box and prompt user to select file containing the data "
   ]
  },
  {
   "cell_type": "code",
   "execution_count": null,
   "metadata": {
    "scrolled": true
   },
   "outputs": [],
   "source": [
    "from tkinter import filedialog\n",
    "from tkinter import *\n",
    " \n",
    "root = Tk()\n",
    "root.filename =  filedialog.askopenfilename(initialdir = \"/\",title = \"Select file\",filetypes = ((\"jpeg files\",\"*.jpg\"),(\"all files\",\"*.*\")))\n",
    "print (root.filename)"
   ]
  },
  {
   "cell_type": "markdown",
   "metadata": {},
   "source": [
    "Create pandas dataframe from excel file"
   ]
  },
  {
   "cell_type": "code",
   "execution_count": null,
   "metadata": {},
   "outputs": [],
   "source": [
    "data = pd.read_csv(root.filename)\n",
    "df = pd.DataFrame(data = data)\n",
    "print(df.shape)\n",
    "df = df[(df['Group'] != 'STBI') & (df['Group'] != 'VTBI') & (df['Group'] != 'NDC')]\n",
    "print(df.shape)\n",
    "df['Number'] = np.arange(len(df.index))\n",
    "df.replace(to_replace='TBI', value='mTBI', inplace=True) \n",
    "df.set_index(['Number', 'Group'], inplace = True)\n",
    "df.head()"
   ]
  },
  {
   "cell_type": "code",
   "execution_count": null,
   "metadata": {},
   "outputs": [],
   "source": [
    "df.rename(columns = {'PSQItot': 'Sleep_tot', \n",
    "                     'LECTotal': 'LifeEvents_tot', \n",
    "                     'PSQItot': 'Sleep_tot', \n",
    "                     'QKOIorA': 'KnockOut_dep', \n",
    "                     'QKOExpMil': 'KnockOut_mil', \n",
    "                     'QKOAllMil': 'KnockOut_anymil', \n",
    "                     'QKOLife': 'KnockOut_life', \n",
    "                     'QBlstExp': 'Blast_mil', \n",
    "                    'QBEIorA': 'Blast_dep'}, inplace = True)"
   ]
  },
  {
   "cell_type": "code",
   "execution_count": null,
   "metadata": {},
   "outputs": [],
   "source": [
    "df.groupby([\"Group\"]).describe()"
   ]
  },
  {
   "cell_type": "markdown",
   "metadata": {},
   "source": [
    "We will use IQR (interquartile range) to determine outliers within each group. We will use the definition of outlier as any data point more than 1.5 IQRs below the first quartile or above the third quartile."
   ]
  },
  {
   "cell_type": "code",
   "execution_count": null,
   "metadata": {},
   "outputs": [],
   "source": [
    "#create new data frame organized by group so we can compute outliers for each group individually\n",
    "unstack = df.unstack(level = -1)\n",
    "unstack.head()"
   ]
  },
  {
   "cell_type": "code",
   "execution_count": null,
   "metadata": {},
   "outputs": [],
   "source": [
    "#compute quartiles, IQRs, and bounds for each parameter for each group\n",
    "quartile_1 = unstack.quantile(0.25)\n",
    "quartile_3 = unstack.quantile(0.75)\n",
    "iqr = quartile_3 - quartile_1\n",
    "lower_bound = quartile_1 - (iqr * 1.5)\n",
    "upper_bound = quartile_3 + (iqr * 1.5)\n",
    "lower_bound.head()"
   ]
  },
  {
   "cell_type": "code",
   "execution_count": null,
   "metadata": {},
   "outputs": [],
   "source": [
    "#use bounds to exclude any data points outside of the bounds (outliers will be replaced with NaN)\n",
    "outliers = unstack[(unstack <= upper_bound) & (unstack >= lower_bound)]\n",
    "#stack to return dataframe to original orientation\n",
    "df_no_outliers = outliers.stack()\n",
    "df_no_outliers = df_no_outliers.reset_index().drop('Number', axis = 1)\n",
    "print(df_no_outliers.shape)\n",
    "df_no_outliers.head()"
   ]
  },
  {
   "cell_type": "code",
   "execution_count": null,
   "metadata": {},
   "outputs": [],
   "source": [
    "df_no_outliers.info()"
   ]
  },
  {
   "cell_type": "code",
   "execution_count": null,
   "metadata": {},
   "outputs": [],
   "source": [
    "print(df_no_outliers.count(axis = 0).sort_values())"
   ]
  },
  {
   "cell_type": "code",
   "execution_count": null,
   "metadata": {},
   "outputs": [],
   "source": [
    "#create AUDIT-C dataframe\n",
    "audit = pd.DataFrame(data = df_no_outliers[df_no_outliers.columns[0:5]])\n",
    "print(audit.shape)\n",
    "print(audit.count(axis = 0).sort_values())\n",
    "audit.head()"
   ]
  },
  {
   "cell_type": "code",
   "execution_count": null,
   "metadata": {},
   "outputs": [],
   "source": [
    "#Get value counts (as percent) for each group and each parameter for vizualization purposes\n",
    "AUDIT1 = audit.groupby(['Group']).AUDIT1.value_counts(normalize = True)\n",
    "AUDIT2 = audit.groupby(['Group']).AUDIT2.value_counts(normalize = True)\n",
    "AUDIT3 = audit.groupby(['Group']).AUDIT3.value_counts(normalize = True)\n",
    "AUDITtot = audit.groupby(['Group']).AUDITtot.value_counts(normalize = True)\n",
    "AUDIT_counts_norm = pd.concat([AUDIT1, AUDIT2, AUDIT3, AUDITtot], axis = 1)\n",
    "AUDIT_counts_norm.fillna(value = 0, axis =0, inplace = True)\n",
    "AUDIT_index_norm = AUDIT_counts_norm\n",
    "AUDIT_counts_norm.reset_index(inplace = True)\n",
    "AUDIT_counts_norm.rename(columns = {'level_0': 'Group', 'level_1': 'Score'}, inplace = True)\n",
    "AUDIT_counts_norm"
   ]
  },
  {
   "cell_type": "code",
   "execution_count": null,
   "metadata": {},
   "outputs": [],
   "source": [
    "#value counts non-normalized for viz and stats\n",
    "AUDIT1 = audit.groupby(['Group']).AUDIT1.value_counts()\n",
    "AUDIT2 = audit.groupby(['Group']).AUDIT2.value_counts()\n",
    "AUDIT3 = audit.groupby(['Group']).AUDIT3.value_counts()\n",
    "AUDITtot = audit.groupby(['Group']).AUDITtot.value_counts()\n",
    "AUDIT_counts = pd.concat([AUDIT1, AUDIT2, AUDIT3, AUDITtot], axis = 1)\n",
    "AUDIT_counts.fillna(value = 0, axis =0, inplace = True)\n",
    "AUDIT_index = AUDIT_counts\n",
    "AUDIT_counts.reset_index(inplace = True)\n",
    "AUDIT_counts.rename(columns = {'level_0': 'Group', 'level_1': 'Score'}, inplace = True)\n",
    "AUDIT_counts.head(30)"
   ]
  },
  {
   "cell_type": "code",
   "execution_count": null,
   "metadata": {},
   "outputs": [],
   "source": [
    "colors = ['blue', 'red']"
   ]
  },
  {
   "cell_type": "code",
   "execution_count": null,
   "metadata": {},
   "outputs": [],
   "source": [
    "#add extra rows to dataframe for graphing and stats\n",
    "def extra_levels(data, i, j):\n",
    "    x = 0\n",
    "    while x < j:\n",
    "        extra_level = pd.DataFrame(data = ['DC', i, 0, 0, 0, 0]).T\n",
    "        extra_level.columns = ['Group', 'Score', 'AUDIT1', 'AUDIT2', 'AUDIT3', 'AUDITtot']\n",
    "        data = pd.concat([data, extra_level], axis = 0, ignore_index=True)\n",
    "        i = i + 1\n",
    "        x = x + 1\n",
    "    return data"
   ]
  },
  {
   "cell_type": "code",
   "execution_count": null,
   "metadata": {},
   "outputs": [],
   "source": [
    "AUDIT_chi_data = extra_levels(AUDIT_index, 8, 3)\n",
    "AUDIT_chi_data.shape"
   ]
  },
  {
   "cell_type": "code",
   "execution_count": null,
   "metadata": {},
   "outputs": [],
   "source": [
    "AUDIT_counts_4 = AUDIT_counts_norm[AUDIT_counts_norm['Score'] < 5]\n",
    "AUDIT_counts_2 = AUDIT_counts_norm[AUDIT_counts_norm['Score'] < 3]\n",
    "AUDIT_counts_2"
   ]
  },
  {
   "cell_type": "code",
   "execution_count": null,
   "metadata": {
    "scrolled": true
   },
   "outputs": [],
   "source": [
    "plt.figure(figsize=(25,20))\n",
    "sns.barplot(x = 'Score', y = 'AUDITtot', hue = 'Group', data = AUDIT_counts_norm, alpha=0.9, palette = colors)\n",
    "plt.title('AUDIT-C: Total score (normalized)', fontsize = 50)\n",
    "plt.ylabel('Count', fontsize=60)\n",
    "plt.yticks(fontsize = 30)\n",
    "plt.xlabel('Score', fontsize=60)\n",
    "plt.xticks(fontsize = 30)\n",
    "plt.legend(loc = 'upper right', fontsize=30)\n",
    "#plt.text(1, 1, 'p < .085 ', fontsize=30)\n",
    "#plt.show()\n",
    "plt.savefig('AUDIT-C_total.jpeg')"
   ]
  },
  {
   "cell_type": "code",
   "execution_count": null,
   "metadata": {},
   "outputs": [],
   "source": [
    "stats.chi2_contingency([AUDIT_chi_data.AUDITtot[AUDIT_chi_data.Group == 'mTBI'], AUDIT_chi_data.AUDITtot[AUDIT_chi_data.Group == 'DC']])"
   ]
  },
  {
   "cell_type": "code",
   "execution_count": null,
   "metadata": {},
   "outputs": [],
   "source": [
    "stats.mannwhitneyu(audit[audit.Group == 'mTBI'].AUDITtot.dropna(axis = 0), audit[audit.Group == 'DC'].AUDITtot.dropna(axis = 0), alternative = 'greater')"
   ]
  },
  {
   "cell_type": "code",
   "execution_count": null,
   "metadata": {},
   "outputs": [],
   "source": [
    "plt.figure(figsize=(25,20))\n",
    "sns.barplot(x = 'Score', y = 'AUDIT1', hue = 'Group', data = AUDIT_counts_4, alpha=0.9, palette = colors)\n",
    "plt.title('Q1: How often do you have a drink containing alcohol?', fontsize = 50)\n",
    "plt.ylabel('Count', fontsize=60)\n",
    "plt.yticks(fontsize = 30)\n",
    "plt.xlabel('Score', fontsize=60)\n",
    "plt.xticks(fontsize = 30)\n",
    "plt.legend(loc = 'upper right', fontsize=30)\n",
    "#plt.text(3.2, 32.6, 'p < .045 ', fontsize=30)\n",
    "#plt.show()\n",
    "plt.savefig('AUDIT-C_q1.jpeg')"
   ]
  },
  {
   "cell_type": "code",
   "execution_count": null,
   "metadata": {},
   "outputs": [],
   "source": [
    "stats.chi2_contingency([AUDIT_counts_4.AUDIT1[AUDIT_counts_4.Group == 'mTBI'], AUDIT_counts_4.AUDIT1[AUDIT_counts_4.Group == 'DC']])"
   ]
  },
  {
   "cell_type": "code",
   "execution_count": null,
   "metadata": {},
   "outputs": [],
   "source": [
    "stats.mannwhitneyu(audit[audit.Group == 'mTBI'].AUDIT1.dropna(axis = 0), audit[audit.Group == 'DC'].AUDIT1.dropna(axis = 0), alternative = 'greater')"
   ]
  },
  {
   "cell_type": "code",
   "execution_count": null,
   "metadata": {},
   "outputs": [],
   "source": [
    "plt.figure(figsize=(25,20))\n",
    "sns.barplot(x = 'Score', y = 'AUDIT2', hue = 'Group', data = AUDIT_counts_4, alpha=0.9, palette = colors)\n",
    "plt.title('Q2: How many drinks containing alcohol \\n do you have on a typical day when you are drinking?', fontsize = 50)\n",
    "plt.ylabel('Count', fontsize=60)\n",
    "plt.yticks(fontsize = 30)\n",
    "plt.xlabel('Score', fontsize=60)\n",
    "plt.xticks(fontsize = 30)\n",
    "plt.legend(loc = 'upper right', fontsize=30)\n",
    "#plt.text(3.2, 67, 'p < .043 ', fontsize=30)\n",
    "#plt.show()\n",
    "\n",
    "plt.savefig('AUDIT-C_q2.jpeg')"
   ]
  },
  {
   "cell_type": "code",
   "execution_count": null,
   "metadata": {},
   "outputs": [],
   "source": [
    "stats.chi2_contingency([AUDIT_counts_4.AUDIT2[AUDIT_counts_4.Group == 'mTBI'], AUDIT_counts_4.AUDIT2[AUDIT_counts_4.Group == 'DC']])"
   ]
  },
  {
   "cell_type": "code",
   "execution_count": null,
   "metadata": {},
   "outputs": [],
   "source": [
    "stats.mannwhitneyu(audit[audit.Group == 'mTBI'].AUDIT2.dropna(axis = 0), audit[audit.Group == 'DC'].AUDIT2.dropna(axis = 0), alternative = 'greater')"
   ]
  },
  {
   "cell_type": "code",
   "execution_count": null,
   "metadata": {},
   "outputs": [],
   "source": [
    "plt.figure(figsize=(25,20))\n",
    "sns.barplot(x = 'Score', y = 'AUDIT3', hue = 'Group', data = AUDIT_counts_2, alpha=0.9, palette = colors)\n",
    "plt.title('Q3: How often do you have six or more drinks on one occasion?', fontsize = 50)\n",
    "plt.ylabel('Count', fontsize=60)\n",
    "plt.yticks(fontsize = 30)\n",
    "plt.xlabel('Score', fontsize=60)\n",
    "plt.xticks(fontsize = 30)\n",
    "plt.legend(loc = 'upper right', fontsize=30)\n",
    "#plt.text(1.75, 42, 'p > .05 ', fontsize=30)\n",
    "#plt.show()\n",
    "\n",
    "plt.savefig('AUDIT-C_q3.jpeg')"
   ]
  },
  {
   "cell_type": "code",
   "execution_count": null,
   "metadata": {},
   "outputs": [],
   "source": [
    "stats.chi2_contingency([AUDIT_counts_2.AUDIT3[AUDIT_counts_2.Group == 'mTBI'], AUDIT_counts_2.AUDIT3[AUDIT_counts_2.Group == 'DC']])"
   ]
  },
  {
   "cell_type": "code",
   "execution_count": null,
   "metadata": {},
   "outputs": [],
   "source": [
    "stats.mannwhitneyu(audit[audit.Group == 'mTBI'].AUDIT3.dropna(axis = 0), audit[audit.Group == 'DC'].AUDIT3.dropna(axis = 0), alternative = 'greater')"
   ]
  },
  {
   "cell_type": "code",
   "execution_count": null,
   "metadata": {},
   "outputs": [],
   "source": [
    "#do AUDIT-C scores correlate differently across groups?\n",
    "pp = sns.pairplot(audit.dropna(axis = 0), hue = 'Group', kind = \"reg\", dropna = True)\n",
    "pp.axes[0,0].set_ylim([0,5])\n",
    "pp.axes[1,0].set_ylim([0,5])\n",
    "pp.axes[2,0].set_ylim([0,3])\n",
    "pp.axes[3,0].set_xlim([0,11])\n",
    "pp.axes[0,0].set_xlim([0,4])\n",
    "pp.axes[0,1].set_xlim([0,4])\n",
    "pp.axes[0,2].set_xlim([0,2])\n",
    "pp.axes[0,3].set_xlim([0,10])"
   ]
  },
  {
   "cell_type": "code",
   "execution_count": null,
   "metadata": {},
   "outputs": [],
   "source": [
    "df_no_outliers.columns.values"
   ]
  },
  {
   "cell_type": "code",
   "execution_count": null,
   "metadata": {},
   "outputs": [],
   "source": [
    "df_dep_var = ['AUDIT1', 'AUDIT2', 'AUDIT3', 'AUDITtot', 'Sleep_tot', 'PHQTot', \n",
    "       'PCLTot', 'CAPSTotal', 'PTSD_YN', 'LifeEvents_tot', 'NSITot',\n",
    "       'KnockOut_dep', 'KnockOut_mil', 'KnockOut_anymil', 'KnockOut_life',\n",
    "       'Blast_mil', 'QBEACRM', 'Blast_dep', 'DA', 'DOPA', 'NE', 'LPHRate', 'LPBPSys', 'LPBPDias']"
   ]
  },
  {
   "cell_type": "code",
   "execution_count": null,
   "metadata": {},
   "outputs": [],
   "source": [
    "#does AUDIT-C scores correlate with other measures differently across groups?\n",
    "sns.pairplot(df_no_outliers, x_vars = df_dep_var, y_vars = ['AUDIT1', 'AUDIT2', 'AUDIT3', 'AUDITtot'], hue = 'Group', kind = \"reg\", dropna=True)"
   ]
  },
  {
   "cell_type": "code",
   "execution_count": null,
   "metadata": {},
   "outputs": [],
   "source": [
    "#does AUDIT-C scores correlate with other measures within the TBI group?\n",
    "sns.pairplot(df_no_outliers[df_no_outliers.Group == 'mTBI'], x_vars = df_dep_var, y_vars = ['AUDIT1', 'AUDIT2', 'AUDIT3', 'AUDITtot'], kind = \"reg\", dropna=True)"
   ]
  },
  {
   "cell_type": "code",
   "execution_count": null,
   "metadata": {},
   "outputs": [],
   "source": [
    "#within the blast group, what parameters correlate?\n",
    "corr = df_no_outliers[df_no_outliers['Group'] == 'mTBI'].corr()\n",
    "fig, ax = plt.subplots(figsize=(20, 20))\n",
    "sns.heatmap(corr, annot=True)"
   ]
  },
  {
   "cell_type": "code",
   "execution_count": null,
   "metadata": {},
   "outputs": [],
   "source": [
    "#Create dataframe of data from CSF measurements\n",
    "df_monoamines = df_no_outliers[['Group', 'DA', 'DOPA', 'NE']]"
   ]
  },
  {
   "cell_type": "code",
   "execution_count": null,
   "metadata": {},
   "outputs": [],
   "source": [
    "print(df_monoamines.shape)\n",
    "print(df_monoamines.count(axis = 0).sort_values())\n",
    "df_monoamines.dropna(axis = 0, inplace = True)\n",
    "#df_monoamines = df_monoamines[df_monoamines.DA > 0] \n",
    "print(df_monoamines.shape)\n",
    "df_monoamines.head()"
   ]
  },
  {
   "cell_type": "code",
   "execution_count": null,
   "metadata": {},
   "outputs": [],
   "source": [
    "#Bar plot CSF DA between groups\n",
    "plt.figure(figsize=(10,10))\n",
    "sns.barplot(x=\"Group\", y=\"DA\", data=df_no_outliers, alpha = 0.9, palette = colors)\n",
    "plt.ylabel('CSF DA (pg/ml)', fontsize=40)\n",
    "plt.yticks(fontsize = 25)\n",
    "plt.xlabel(' ', fontsize=40)\n",
    "plt.xticks(fontsize = 25)\n",
    "\n",
    "#plt.show()\n",
    "\n",
    "plt.savefig('DA_bar.jpeg')"
   ]
  },
  {
   "cell_type": "code",
   "execution_count": null,
   "metadata": {},
   "outputs": [],
   "source": [
    "stats.ttest_ind(df_monoamines[df_monoamines.Group == 'DC']['DA'], df_monoamines[df_monoamines.Group == 'mTBI']['DA'])"
   ]
  },
  {
   "cell_type": "code",
   "execution_count": null,
   "metadata": {},
   "outputs": [],
   "source": [
    "sns.barplot(x=\"Group\", y=\"DOPA\", data=df_no_outliers)"
   ]
  },
  {
   "cell_type": "code",
   "execution_count": null,
   "metadata": {},
   "outputs": [],
   "source": [
    "stats.ttest_ind(df_monoamines[df_monoamines.Group == 'DC']['DOPA'], df_monoamines[df_monoamines.Group == 'mTBI']['DOPA'])"
   ]
  },
  {
   "cell_type": "code",
   "execution_count": null,
   "metadata": {},
   "outputs": [],
   "source": [
    "sns.barplot(x=\"Group\", y=\"NE\", data=df_no_outliers)"
   ]
  },
  {
   "cell_type": "code",
   "execution_count": null,
   "metadata": {},
   "outputs": [],
   "source": [
    "stats.ttest_ind(df_monoamines[df_monoamines.Group == 'DC']['NE'], df_monoamines[df_monoamines.Group == 'mTBI']['NE'])"
   ]
  },
  {
   "cell_type": "code",
   "execution_count": null,
   "metadata": {},
   "outputs": [],
   "source": [
    "#Create new dataframe with only participants who have CSF DA data\n",
    "df_DA = df_no_outliers[df_no_outliers.DA > 0]"
   ]
  },
  {
   "cell_type": "code",
   "execution_count": null,
   "metadata": {},
   "outputs": [],
   "source": [
    "#does CSF DA correlate with other measures differently across groups?\n",
    "sns.pairplot(df_DA, x_vars = df_dep_var, y_vars = ['DA'], hue = 'Group', kind = \"reg\", dropna=True)"
   ]
  },
  {
   "cell_type": "code",
   "execution_count": null,
   "metadata": {},
   "outputs": [],
   "source": [
    "corr = df_DA.groupby([\"Group\"]).corr()\n",
    "fig, ax = plt.subplots(figsize=(20, 20))\n",
    "sns.heatmap(corr, annot=True)"
   ]
  },
  {
   "cell_type": "code",
   "execution_count": null,
   "metadata": {},
   "outputs": [],
   "source": [
    "#does CSF DA correlate with other measures differently?\n",
    "sns.pairplot(df_DA[df_DA.Group == 'mTBI'], x_vars = df_dep_var, y_vars = ['DA'], kind = \"reg\", dropna=True)"
   ]
  },
  {
   "cell_type": "code",
   "execution_count": null,
   "metadata": {},
   "outputs": [],
   "source": [
    "#create pearson correlation statistic function\n",
    "def da_pearson(data, group, param):\n",
    "    r_value, p_value = stats.pearsonr(data[(data.Group == group) & (data[param] > 0)][param], \n",
    "               data[(data.Group == group) & (data[param] > 0)]['DA'])\n",
    "    return r_value, p_value"
   ]
  },
  {
   "cell_type": "code",
   "execution_count": null,
   "metadata": {},
   "outputs": [],
   "source": [
    "#use pearson function across parameters to see if DA significantly correlates\n",
    "scores = {}\n",
    "for param in df_dep_var:\n",
    "    score = da_pearson(df_DA, 'mTBI', param)\n",
    "    scores[param] = score"
   ]
  },
  {
   "cell_type": "code",
   "execution_count": null,
   "metadata": {},
   "outputs": [],
   "source": [
    "scores"
   ]
  },
  {
   "cell_type": "code",
   "execution_count": null,
   "metadata": {},
   "outputs": [],
   "source": [
    "plt.figure(figsize=(10,10))\n",
    "sns.regplot(data = df_DA[df_DA.Group == 'mTBI'], x = 'Blast_dep', y = 'DA', color = 'r')\n",
    "#sns.regplot(data = df_DA[df_DA.Group == 'DC'], x = 'Blast_dep', y = 'DA', color = 'b')\n",
    "plt.ylabel('CSF DA (pg/ml)', fontsize=40)\n",
    "plt.yticks(fontsize = 25)\n",
    "plt.xlabel('Blast exposures ', fontsize=40)\n",
    "plt.text(30, 27, 'p < .05', fontsize=20)\n",
    "plt.xticks(fontsize = 25)\n",
    "\n",
    "plt.savefig('DAvsBlast.jpeg')"
   ]
  },
  {
   "cell_type": "code",
   "execution_count": null,
   "metadata": {},
   "outputs": [],
   "source": [
    "plt.figure(figsize=(10,10))\n",
    "sns.regplot(data = df_DA[df_DA.Group == 'mTBI'], x = 'AUDITtot', y = 'DA', color = 'r')\n",
    "#sns.regplot(data = df_DA[df_DA.Group == 'DC'], x = 'AUDITtot', y = 'DA', color = 'b')\n",
    "plt.ylabel('CSF DA (pg/ml)', fontsize=40)\n",
    "plt.yticks(fontsize = 25)\n",
    "plt.xlabel('AUDIT-C Total', fontsize=40)\n",
    "plt.text(9, 16, 'p > .05', fontsize=20)\n",
    "plt.xticks(fontsize = 25)\n",
    "\n",
    "plt.savefig('DAvsAUDITtot.jpeg')"
   ]
  },
  {
   "cell_type": "code",
   "execution_count": null,
   "metadata": {},
   "outputs": [],
   "source": [
    "plt.figure(figsize=(10,10))\n",
    "sns.regplot(data = df_DA[df_DA.Group == 'mTBI'], x = 'PCLTot', y = 'DA', color = 'r')\n",
    "#sns.regplot(data = df_DA[df_DA.Group == 'DC'], x = 'AUDITtot', y = 'DA', color = 'b')\n",
    "plt.ylabel('CSF DA (pg/ml)', fontsize=40)\n",
    "plt.yticks(fontsize = 25)\n",
    "plt.xlabel('PCL Total', fontsize=40)\n",
    "plt.text(70, 20, 'p < .01', fontsize=20)\n",
    "plt.xticks(fontsize = 25)\n",
    "\n",
    "plt.savefig('DAvsPCLtot.jpeg')"
   ]
  },
  {
   "cell_type": "code",
   "execution_count": null,
   "metadata": {},
   "outputs": [],
   "source": [
    "plt.figure(figsize=(10,10))\n",
    "sns.regplot(data = df_DA[df_DA.Group == 'mTBI'], x = 'NSITot', y = 'DA', color = 'r')\n",
    "#sns.regplot(data = df_DA[df_DA.Group == 'DC'], x = 'AUDITtot', y = 'DA', color = 'b')\n",
    "plt.ylabel('CSF DA (pg/ml)', fontsize=40)\n",
    "plt.yticks(fontsize = 25)\n",
    "plt.xlabel('NSI Total', fontsize=40)\n",
    "plt.text(60, 20, 'p < .06', fontsize=20)\n",
    "plt.xticks(fontsize = 25)\n",
    "\n",
    "plt.savefig('DAvsNSItot.jpeg')"
   ]
  },
  {
   "cell_type": "code",
   "execution_count": null,
   "metadata": {},
   "outputs": [],
   "source": [
    "plt.figure(figsize=(10,10))\n",
    "sns.regplot(data = df_DA[df_DA.Group == 'mTBI'], x = 'PHQTot', y = 'DA', color = 'r')\n",
    "#sns.regplot(data = df_DA[df_DA.Group == 'DC'], x = 'PHQTot', y = 'DA', color = 'b')\n",
    "plt.ylabel('CSF DA (pg/ml)', fontsize=40)\n",
    "plt.yticks(fontsize = 25)\n",
    "plt.xlabel('PHQ9 Total', fontsize=40)\n",
    "plt.text(23, 20, 'p < .05', fontsize=20)\n",
    "plt.xticks(fontsize = 25)\n",
    "\n",
    "plt.savefig('DAvsPHQtot.jpeg')"
   ]
  },
  {
   "cell_type": "code",
   "execution_count": null,
   "metadata": {},
   "outputs": [],
   "source": [
    "param_names = list(df_dep_var)\n",
    "for param in param_names:\n",
    "    df_no_outliers.groupby(\"Group\")[param].mean().plot(kind='bar', yerr=df_no_outliers.groupby(\"Group\")[param].sem())\n",
    "    plt.ylabel([param])\n",
    "    plt.show()"
   ]
  },
  {
   "cell_type": "code",
   "execution_count": null,
   "metadata": {},
   "outputs": [],
   "source": [
    "writer = pd.ExcelWriter('AUDIT_counts.xlsx', engine='xlsxwriter')\n",
    "AUDIT_counts.to_excel(writer, sheet_name='Sheet1')\n",
    "writer.save()"
   ]
  },
  {
   "cell_type": "code",
   "execution_count": null,
   "metadata": {},
   "outputs": [],
   "source": [
    "writer = pd.ExcelWriter('ST.xlsx', engine='xlsxwriter')\n",
    "ST_data.to_excel(writer)\n",
    "writer.save()"
   ]
  }
 ],
 "metadata": {
  "kernelspec": {
   "display_name": "Python 3",
   "language": "python",
   "name": "python3"
  },
  "language_info": {
   "codemirror_mode": {
    "name": "ipython",
    "version": 3
   },
   "file_extension": ".py",
   "mimetype": "text/x-python",
   "name": "python",
   "nbconvert_exporter": "python",
   "pygments_lexer": "ipython3",
   "version": "3.6.7"
  }
 },
 "nbformat": 4,
 "nbformat_minor": 2
}
