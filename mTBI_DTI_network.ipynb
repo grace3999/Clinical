{
 "cells": [
  {
   "cell_type": "code",
   "execution_count": null,
   "metadata": {},
   "outputs": [],
   "source": [
    "#getting and working with data\n",
    "import pandas as pd\n",
    "import numpy as np\n",
    "import re\n",
    "import os\n",
    "import scipy as sp\n",
    "import networkx as nx\n",
    "\n",
    "#visualizing results\n",
    "import matplotlib.pyplot as plt\n",
    "from matplotlib.patches import Patch\n",
    "%matplotlib inline\n",
    "import seaborn as sns\n",
    "sns.set_context('poster')\n",
    "\n",
    "pd.set_option('display.max_rows', 500)\n",
    "pd.set_option('display.max_columns', 500)\n",
    "pd.set_option('display.width', 1000)\n",
    "\n",
    "import warnings; warnings.simplefilter('ignore')\n",
    "np.set_printoptions(suppress=True)\n",
    "\n",
    "\n",
    "from sklearn.preprocessing import StandardScaler\n",
    "from sklearn.preprocessing import RobustScaler\n",
    "from sklearn import metrics\n",
    "from sklearn.manifold import TSNE\n",
    "\n",
    "from sklearn.cluster import KMeans\n",
    "\n",
    "import scipy.cluster.hierarchy as shc"
   ]
  },
  {
   "cell_type": "markdown",
   "metadata": {},
   "source": [
    "### code borrowed heavily from: https://towardsdatascience.com/visualising-stocks-correlations-with-networkx-88f2ee25362e"
   ]
  },
  {
   "cell_type": "markdown",
   "metadata": {},
   "source": [
    "### Get data and create corr matrix"
   ]
  },
  {
   "cell_type": "code",
   "execution_count": null,
   "metadata": {},
   "outputs": [],
   "source": [
    "data_path = '/Users/abbieschindler/Documents/Schindler_Lab/Data/Clinical projects/PeskindTBI/final_data/data_final_earliest.csv'"
   ]
  },
  {
   "cell_type": "code",
   "execution_count": null,
   "metadata": {},
   "outputs": [],
   "source": [
    "#read in csv containing data from all surveys and all visitseqs\n",
    "data = pd.read_csv(data_path, index_col=0)\n",
    "data = pd.DataFrame(data = data)\n",
    "\n",
    "print('Original data shape:\\n', data.shape, '\\n')\n",
    "print(data.info())\n",
    "data.head(1)"
   ]
  },
  {
   "cell_type": "code",
   "execution_count": null,
   "metadata": {},
   "outputs": [],
   "source": [
    "data['Group_num'] = [0.0 if x == 'C' else 1.0 for x in data['Group']]"
   ]
  },
  {
   "cell_type": "code",
   "execution_count": null,
   "metadata": {},
   "outputs": [],
   "source": [
    "data[data['DTI_FA_post_corona_radiata_R'] > 0].groupby('VisitSeq')['Group_num'].value_counts()"
   ]
  },
  {
   "cell_type": "code",
   "execution_count": null,
   "metadata": {},
   "outputs": [],
   "source": [
    "data['DTI_FA_corticospinal'] = data[['DTI_FA_corticospinal_R', 'DTI_FA_corticospinal_L']].mean(axis=1)\n",
    "data['DTI_FA_med_lemniscus'] = data[['DTI_FA_med_lemniscus_R', 'DTI_FA_med_lemniscus_L']].mean(axis=1)\n",
    "data['DTI_FA_inf_cerebll_pedunc'] = data[['DTI_FA_inf_cerebll_pedunc_R', 'DTI_FA_inf_cerebll_pedunc_L']].mean(axis=1)\n",
    "data['DTI_FA_sup_cerebll_pedunc'] = data[['DTI_FA_sup_cerebll_pedunc_R', 'DTI_FA_sup_cerebll_pedunc_L']].mean(axis=1)\n",
    "data['DTI_FA_cerebr_pedunc'] = data[['DTI_FA_cerebr_pedunc_R', 'DTI_FA_cerebr_pedunc_L']].mean(axis=1)\n",
    "data['DTI_FA_ant_int_capsule'] = data[['DTI_FA_ant_int_capsule_R', 'DTI_FA_ant_int_capsule_L']].mean(axis=1)\n",
    "data['DTI_FA_post_int_capsule'] = data[['DTI_FA_post_int_capsule_R', 'DTI_FA_post_int_capsule_L']].mean(axis=1)\n",
    "data['DTI_FA_retrolenticular_int_capsule'] = data[['DTI_FA_retrolenticular_int_capsule_R', 'DTI_FA_retrolenticular_int_capsule_L']].mean(axis=1)\n",
    "data['DTI_FA_ant_corona_radiata'] = data[['DTI_FA_ant_corona_radiata_R', 'DTI_FA_ant_corona_radiata_L']].mean(axis=1)\n",
    "data['DTI_FA_sup_corona_radiata'] = data[['DTI_FA_sup_corona_radiata_R', 'DTI_FA_sup_corona_radiata_L']].mean(axis=1)\n",
    "data['DTI_FA_post_corona_radiata_R'] = data[['DTI_FA_post_corona_radiata_R', 'DTI_FA_post_corona_radiata_L']].mean(axis=1)\n",
    "data['DTI_FA_post_thal_rad'] = data[['DTI_FA_post_thal_rad_R', 'DTI_FA_post_thal_rad_L']].mean(axis=1)\n",
    "data['DTI_FA_sag_stratum'] = data[['DTI_FA_sag_stratum_R', 'DTI_FA_sag_stratum_L']].mean(axis=1)\n",
    "data['DTI_FA_ext_capsule'] = data[['DTI_FA_ext_capsule_R', 'DTI_FA_ext_capsule_L']].mean(axis=1)\n",
    "data['DTI_FA_cingulum_cg'] = data[['DTI_FA_cingulum_cg_R', 'DTI_FA_cingulum_cg_L']].mean(axis=1)\n",
    "data['DTI_FA_cingulum_hipp'] = data[['DTI_FA_cingulum_hipp_R', 'DTI_FA_cingulum_hipp_L']].mean(axis=1)\n",
    "data['DTI_FA_fornix_striaterm'] = data[['DTI_FA_fornix_striaterm_R', 'DTI_FA_fornix_striaterm_L']].mean(axis=1)\n",
    "data['DTI_FA_sup_long_fascic'] = data[['DTI_FA_sup_long_fascic_R', 'DTI_FA_sup_long_fascic_L']].mean(axis=1)\n",
    "data['DTI_FA_sup_frontocc_fascic'] = data[['DTI_FA_sup_frontocc_fascic_R', 'DTI_FA_sup_frontocc_fascic_L']].mean(axis=1)\n",
    "data['DTI_FA_unc_fascic'] = data[['DTI_FA_unc_fascic_R', 'DTI_FA_unc_fascic_L']].mean(axis=1)\n",
    "data['DTI_FA_tapetum'] = data[['DTI_FA_tapetum_R', 'DTI_FA_tapetum_L']].mean(axis=1)"
   ]
  },
  {
   "cell_type": "code",
   "execution_count": null,
   "metadata": {},
   "outputs": [],
   "source": [
    "data_first = data[(data['VisitSeq'] == 1) & (data['DTI_FA_post_corona_radiata_R'] > 0)]\n",
    "\n",
    "data_first_C = data_first[data_first['Group_num'] == 0]\n",
    "data_first_T = data_first[data_first['Group_num'] == 1]\n",
    "\n",
    "DTI_FA = ['DTI_FA_mid_cerebll_pedunc', 'DTI_FA_pontine_xing_tract',\n",
    "       'DTI_FA_genu_cc', 'DTI_FA_body_cc', 'DTI_FA_splenium_cc',\n",
    "       'DTI_FA_fornix', 'DTI_FA_corticospinal',\n",
    "       'DTI_FA_med_lemniscus', 'DTI_FA_inf_cerebll_pedunc',\n",
    "       'DTI_FA_sup_cerebll_pedunc', 'DTI_FA_cerebr_pedunc',\n",
    "       'DTI_FA_ant_int_capsule', 'DTI_FA_post_int_capsule',\n",
    "       'DTI_FA_retrolenticular_int_capsule', 'DTI_FA_ant_corona_radiata',\n",
    "       'DTI_FA_sup_corona_radiata', 'DTI_FA_post_thal_rad',\n",
    "       'DTI_FA_sag_stratum', 'DTI_FA_ext_capsule', 'DTI_FA_cingulum_cg',\n",
    "       'DTI_FA_cingulum_hipp', 'DTI_FA_fornix_striaterm',\n",
    "       'DTI_FA_sup_long_fascic', 'DTI_FA_sup_frontocc_fascic',\n",
    "       'DTI_FA_unc_fascic', 'DTI_FA_tapetum']\n",
    "\n",
    "data_first_C_DTI = data_first_C[DTI_FA].corr()\n",
    "data_first_T_DTI = data_first_T[DTI_FA].corr()\n",
    "\n",
    "regions = data_first_C_DTI.index.values\n",
    "\n",
    "data_first_C_DTI = np.asmatrix(data_first_C_DTI)\n",
    "data_first_T_DTI = np.asmatrix(data_first_T_DTI)"
   ]
  },
  {
   "cell_type": "markdown",
   "metadata": {},
   "source": [
    "### Create and viz network"
   ]
  },
  {
   "cell_type": "code",
   "execution_count": null,
   "metadata": {},
   "outputs": [],
   "source": [
    "#function to create and display networks from the correlatin matrix. \n",
    "\n",
    "def create_corr_network_1(G, corr_direction):\n",
    "    #crates a list for edges and for the weights\n",
    "    edges,weights = zip(*nx.get_edge_attributes(G,'weight').items())\n",
    "\n",
    "    #Creates a copy of the graph\n",
    "    H = G.copy()\n",
    "\n",
    "    ##Checks all the edges and removes some based on corr_direction\n",
    "    edge1, edge2 = zip(*edges)\n",
    "    for e1, e2, w in zip(edge1, edge2, weights):\n",
    "        ##if we only want to see the positive correlations we then delete the edges with weight smaller than 0\n",
    "        if corr_direction == \"positive\":\n",
    "            if w<.5:\n",
    "                H.remove_edge(e1, e2)\n",
    "        ##this part runs if the corr_direction is negative and removes edges with weights equal or largen than 0\n",
    "        if corr_direction == \"negative\":\n",
    "            if w>=0:\n",
    "                H.remove_edge(e1, e2)\n",
    "                \n",
    "    #positions\n",
    "    positions=nx.circular_layout(H)\n",
    "    edges,weights = zip(*nx.get_edge_attributes(H,'weight').items())\n",
    "    \n",
    "    #####calculates the degree of each node\n",
    "    d = nx.degree(H)\n",
    "    #####creates list of nodes and a list their degrees that will be used later for their sizes\n",
    "    nodelist, node_sizes = zip(*d)\n",
    "    \n",
    "    #Figure size\n",
    "    plt.figure(figsize=(15,15))\n",
    "\n",
    "    #draws nodes\n",
    "    nx.draw_networkx_nodes(H,positions,node_color='#DA70D6',nodelist=nodelist,\n",
    "                           #####the node size will be now based on its degree\n",
    "                           node_size=tuple([x**3 for x in node_sizes]),alpha=0.8)\n",
    "    \n",
    "    #Styling for labels\n",
    "    nx.draw_networkx_labels(H, positions, font_size=8, \n",
    "                            font_family='sans-serif')\n",
    "    \n",
    "    ### increases the value of weights, so that they are more visible in the graph\n",
    "    weights = tuple([(1+abs(x))**2 for x in weights])\n",
    "\n",
    "    ###edge colors based on weight direction\n",
    "    if corr_direction == \"positive\":\n",
    "        edge_colour = plt.cm.GnBu \n",
    "    else:\n",
    "        edge_colour = plt.cm.PuRd\n",
    "\n",
    "    #draws the edges\n",
    "    nx.draw_networkx_edges(H, positions, edgelist=edges,style='solid',\n",
    "                      ###adds width=weights and edge_color = weights \n",
    "                      ###so that edges are based on the weight parameter \n",
    "                      ###edge_cmap is for the color scale based on the weight\n",
    "                      ### edge_vmin and edge_vmax assign the min and max weights for the width\n",
    "                      width=weights, edge_color = weights, edge_cmap = edge_colour,\n",
    "                      edge_vmin = min(weights), edge_vmax=max(weights))\n",
    "\n",
    "    # displays the graph without axis\n",
    "    plt.axis('off')\n",
    "    #saves image\n",
    "    plt.savefig(\"part1.png\", format=\"PNG\")\n",
    "    plt.show() "
   ]
  },
  {
   "cell_type": "markdown",
   "metadata": {},
   "source": [
    "#### Sham"
   ]
  },
  {
   "cell_type": "code",
   "execution_count": null,
   "metadata": {},
   "outputs": [],
   "source": [
    "#Crates graph using the data of the correlation matrix\n",
    "G = nx.from_numpy_matrix(data_first_C_DTI)\n",
    "\n",
    "#relabels the nodes to match the  stocks names\n",
    "G = nx.relabel_nodes(G,lambda x: regions[x])"
   ]
  },
  {
   "cell_type": "code",
   "execution_count": null,
   "metadata": {},
   "outputs": [],
   "source": [
    "print(nx.to_connected(G))\n",
    "create_corr_network_1(G, 'negative')"
   ]
  },
  {
   "cell_type": "code",
   "execution_count": null,
   "metadata": {},
   "outputs": [],
   "source": [
    "create_corr_network_1(G, 'positive')"
   ]
  },
  {
   "cell_type": "markdown",
   "metadata": {},
   "source": [
    "#### Blast"
   ]
  },
  {
   "cell_type": "code",
   "execution_count": null,
   "metadata": {},
   "outputs": [],
   "source": [
    "#Crates graph using the data of the correlation matrix\n",
    "G = nx.from_numpy_matrix(data_first_T_DTI)\n",
    "\n",
    "#relabels the nodes to match the  stocks names\n",
    "G = nx.relabel_nodes(G,lambda x: regions[x])"
   ]
  },
  {
   "cell_type": "code",
   "execution_count": null,
   "metadata": {},
   "outputs": [],
   "source": [
    "create_corr_network_1(G, 'negative')"
   ]
  },
  {
   "cell_type": "code",
   "execution_count": null,
   "metadata": {},
   "outputs": [],
   "source": [
    "create_corr_network_1(G, 'positive')"
   ]
  }
 ],
 "metadata": {
  "kernelspec": {
   "display_name": "Python 3",
   "language": "python",
   "name": "python3"
  },
  "language_info": {
   "codemirror_mode": {
    "name": "ipython",
    "version": 3
   },
   "file_extension": ".py",
   "mimetype": "text/x-python",
   "name": "python",
   "nbconvert_exporter": "python",
   "pygments_lexer": "ipython3",
   "version": "3.6.12"
  },
  "toc": {
   "base_numbering": 1,
   "nav_menu": {},
   "number_sections": true,
   "sideBar": true,
   "skip_h1_title": false,
   "title_cell": "Table of Contents",
   "title_sidebar": "Contents",
   "toc_cell": false,
   "toc_position": {},
   "toc_section_display": true,
   "toc_window_display": true
  }
 },
 "nbformat": 4,
 "nbformat_minor": 2
}
