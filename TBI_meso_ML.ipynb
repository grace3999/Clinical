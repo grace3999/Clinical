{
 "cells": [
  {
   "cell_type": "code",
   "execution_count": null,
   "metadata": {},
   "outputs": [],
   "source": [
    "#getting and working with data\n",
    "import pandas as pd\n",
    "import numpy as np\n",
    "import re\n",
    "import os\n",
    "import scipy as sp\n",
    "\n",
    "#visualizing results\n",
    "import matplotlib.pyplot as plt\n",
    "%matplotlib inline\n",
    "import seaborn as sns\n",
    "sns.set_context('poster', rc={'font.size':35,\n",
    "                              'axes.titlesize':50,\n",
    "                              'axes.labelsize':35})\n",
    "\n",
    "pd.set_option('display.max_rows', 500)\n",
    "pd.set_option('display.max_columns', 500)\n",
    "pd.set_option('display.width', 1000)\n",
    "\n",
    "import warnings; warnings.simplefilter('ignore')\n",
    "np.set_printoptions(suppress=True)"
   ]
  },
  {
   "cell_type": "markdown",
   "metadata": {},
   "source": [
    "### potential questions\n",
    "\n",
    "- can Meso scale predict TBI vs DC? \n",
    "\n",
    "- does Meso at visit one predict x outcome at visit 2 (pych and imaging outcomes) -- raw visit 2 number or 2 vs 1 difference?\n",
    "\n",
    "- network analysis with PET data?\n",
    "\n",
    "\n",
    "- role for ApoE type\n",
    "- role for prazosin\n",
    "- role for drinking type? MIP1a/b - VP connection?\n",
    "\n",
    "\n",
    "- plasma: bFGF, VEGFA, MDC, IL1a, IL7\n",
    "- CSF: CRP, MCP-1, IL1a, INFy"
   ]
  },
  {
   "cell_type": "code",
   "execution_count": null,
   "metadata": {},
   "outputs": [],
   "source": [
    "data_path = 'C:/Users/Schindler/Documents/Schindler_Lab/Data/Clinical projects/PeskindTBI/final_data/first_visits_short.csv'"
   ]
  },
  {
   "cell_type": "code",
   "execution_count": null,
   "metadata": {},
   "outputs": [],
   "source": [
    "#read in csv containing data from all surveys and all visitseqs\n",
    "data = pd.read_csv(data_path, index_col=0)\n",
    "data = pd.DataFrame(data = data)\n",
    "\n",
    "print('Original data shape:\\n', data.shape, '\\n')\n",
    "#create class variable\n",
    "data['class'] = [0 if x == 'C' else 1 for x in data['Group']]\n",
    "print(data.info())\n",
    "data.head(1)"
   ]
  },
  {
   "cell_type": "code",
   "execution_count": null,
   "metadata": {
    "scrolled": true
   },
   "outputs": [],
   "source": [
    "#explore meso data differences between groups\n",
    "\n",
    "meso_columns = ['Plasma1_bFGF',\n",
    "       'Plasma1_CRP', 'Plasma1_Eotaxin', 'Plasma1_Eotaxin3',\n",
    "       'Plasma1_Flt1', 'Plasma1_ICAM1', 'Plasma1_IFNγ', 'Plasma1_IL10',\n",
    "       'Plasma1_IL12_IL23p40', 'Plasma1_IL12p70', 'Plasma1_IL15',\n",
    "       'Plasma1_IL16', 'Plasma1_IL17A', 'Plasma1_IL1α', 'Plasma1_IL6',\n",
    "       'Plasma1_IL7', 'Plasma1_IL8', 'Plasma1_IP10', 'Plasma1_MCP1',\n",
    "       'Plasma1_MCP4', 'Plasma1_MDC', 'Plasma1_MIP1α', 'Plasma1_MIP1β',\n",
    "       'Plasma1_PlGF', 'Plasma1_SAA', 'Plasma1_TARC', 'Plasma1_Tie2',\n",
    "       'Plasma1_TNFα', 'Plasma1_TNFβ', 'Plasma1_VCAM1', 'Plasma1_VEGF',\n",
    "       'Plasma1_VEGFC', 'Plasma1_VEGFD']\n",
    "\n",
    "for param in meso_columns:\n",
    "    print(param)\n",
    "    \n",
    "    try:\n",
    "        g = sns.catplot(x='Group', y=param, kind='bar', data=data, ci=68, height=5, aspect=4)\n",
    "        plt.show()\n",
    "        \n",
    "        print('\\n')\n",
    "        \n",
    "    except:\n",
    "        pass"
   ]
  },
  {
   "cell_type": "code",
   "execution_count": null,
   "metadata": {},
   "outputs": [],
   "source": [
    "#determined outliers for auditc and QBlstExp (outlier = >3 SD from mean) and remove\n",
    "data = data[data[\"TBIID\"] != 'C010']\n",
    "data = data[data[\"TBIID\"] != 'T080']"
   ]
  },
  {
   "cell_type": "code",
   "execution_count": null,
   "metadata": {},
   "outputs": [],
   "source": [
    "#use only TBI participants\n",
    "data_TBI =  data[data['Group'] == 'T']\n",
    "print(data_TBI.shape)\n",
    "\n",
    "#select second visit only\n",
    "data_TBI_v2 = data_TBI[data_TBI['VisitSeq'] == 2]\n",
    "print(data_TBI_v2.shape)\n",
    "\n",
    "#get TBIIDs of participants with a second visit and use to filter at end of cell\n",
    "TBIID_v2 = data_TBI_v2['TBIID'].unique()\n",
    "print(len(TBIID_v2))\n",
    "\n",
    "#combine second visit params with MESO\n",
    "data_TBI_v2 = data_TBI_v2[['TBIID', 'servconn', 'cestotal',\n",
    "       'BMI', 'BPSYS', 'BPDIAS', 'HRATE', 'BGlucose', 'BNa', 'BUN', 'BCreat', 'BOsmo',\n",
    "       'UOsmo', 'USG', 'UNa', 'BK', 'TotalChol', 'LDL', 'HDL', 'Trig', 'CSFPROTEIN_x',\n",
    "       'CSFGLUCOSE', 'CSFRBCS',  \n",
    "       'CAPSTotal', 'PSQIc1', 'PSQIc2', 'PSQIc3', 'PSQIc4', 'PSQIc5',\n",
    "       'PSQIc6', 'PSQIc7', 'PSQItot', 'PCLTot', 'PCL_reexp', 'PCL_avoid',\n",
    "       'PCL_numb', 'PCL_hyper', 'PHQTot', 'PHQ_psych', 'PHQ_somatic',\n",
    "       'NSITot', 'TBITot', 'NSI_vestibular', 'NSI_somatosensory',\n",
    "       'NSI_cognitive', 'NSI_affective', 'NSI_ERP_affective',\n",
    "       'NIS_ERP_vestsom', \n",
    "            'Amygdala_l', 'Amygdala_r',\n",
    "       'Pallidum_l', 'Pallidum_r', 'Midbrain', 'auditc']]\n",
    "print(data_TBI_v2.shape)\n",
    "\n",
    "data_TBI_MESO = data_TBI[data_TBI['VisitSeq'] == 1][['TBIID', 'Plasma1_bFGF',\n",
    "       'Plasma1_CRP', 'Plasma1_Eotaxin', 'Plasma1_Eotaxin3',\n",
    "       'Plasma1_Flt1', 'Plasma1_ICAM1', 'Plasma1_IFNγ', 'Plasma1_IL10',\n",
    "       'Plasma1_IL12_IL23p40', 'Plasma1_IL12p70', 'Plasma1_IL15',\n",
    "       'Plasma1_IL16', 'Plasma1_IL17A', 'Plasma1_IL1α', 'Plasma1_IL6',\n",
    "       'Plasma1_IL7', 'Plasma1_IL8', 'Plasma1_IP10', 'Plasma1_MCP1',\n",
    "       'Plasma1_MCP4', 'Plasma1_MDC', 'Plasma1_MIP1α', 'Plasma1_MIP1β',\n",
    "       'Plasma1_PlGF', 'Plasma1_SAA', 'Plasma1_TARC', 'Plasma1_Tie2',\n",
    "       'Plasma1_TNFα', 'Plasma1_TNFβ', 'Plasma1_VCAM1', 'Plasma1_VEGF',\n",
    "       'Plasma1_VEGFC', 'Plasma1_VEGFD']]\n",
    "print(data_TBI_MESO.shape)\n",
    "\n",
    "#combine dfs\n",
    "data_TBI_v2_MESO = pd.merge(data_TBI_v2, data_TBI_MESO, how='left', on=['TBIID'], sort=False)\n",
    "print(data_TBI_v2_MESO.shape)\n",
    "\n",
    "#drop params with many missing values\n",
    "data_TBI_v2_MESO.dropna(axis=1, thresh=5, inplace=True)\n",
    "data_TBI_v2_MESO.head()"
   ]
  },
  {
   "cell_type": "code",
   "execution_count": null,
   "metadata": {},
   "outputs": [],
   "source": [
    "#explore corr with MESO analytes of interest\n",
    "data_TBI_v2_MESO.corr()[['Plasma1_bFGF', 'Plasma1_VEGF', 'Plasma1_MDC','Plasma1_IL1α', 'Plasma1_IL6', 'Plasma1_IL10']]\n"
   ]
  }
 ],
 "metadata": {
  "kernelspec": {
   "display_name": "Python 3",
   "language": "python",
   "name": "python3"
  },
  "language_info": {
   "codemirror_mode": {
    "name": "ipython",
    "version": 3
   },
   "file_extension": ".py",
   "mimetype": "text/x-python",
   "name": "python",
   "nbconvert_exporter": "python",
   "pygments_lexer": "ipython3",
   "version": "3.6.10"
  }
 },
 "nbformat": 4,
 "nbformat_minor": 2
}
