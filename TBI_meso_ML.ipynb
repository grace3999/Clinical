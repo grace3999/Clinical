{
 "cells": [
  {
   "cell_type": "code",
   "execution_count": null,
   "metadata": {},
   "outputs": [],
   "source": [
    "#getting and working with data\n",
    "import pandas as pd\n",
    "import numpy as np\n",
    "import re\n",
    "import os\n",
    "import scipy as sp\n",
    "\n",
    "#visualizing results\n",
    "import matplotlib.pyplot as plt\n",
    "%matplotlib inline\n",
    "import seaborn as sns\n",
    "sns.set_context('poster', rc={'font.size':35,\n",
    "                              'axes.titlesize':50,\n",
    "                              'axes.labelsize':35})\n",
    "\n",
    "#machine learning\n",
    "from sklearn.preprocessing import StandardScaler, Normalizer, LabelEncoder, PolynomialFeatures\n",
    "from sklearn.model_selection import KFold, StratifiedKFold, GroupKFold, train_test_split, cross_val_score, cross_val_predict, GridSearchCV, RandomizedSearchCV\n",
    "\n",
    "from sklearn.dummy import DummyClassifier\n",
    "from sklearn.linear_model import LogisticRegression\n",
    "from sklearn.ensemble import RandomForestClassifier, GradientBoostingClassifier, AdaBoostClassifier\n",
    "from sklearn.svm import SVC \n",
    "#import xgboost as xgb\n",
    "from sklearn.neighbors import KNeighborsClassifier \n",
    "from sklearn.model_selection import GridSearchCV, RandomizedSearchCV\n",
    "from sklearn import metrics\n",
    "from sklearn.metrics import auc, accuracy_score, confusion_matrix, mean_squared_error, roc_auc_score, classification_report\n",
    "\n",
    "pd.set_option('display.max_rows', 500)\n",
    "pd.set_option('display.max_columns', 500)\n",
    "pd.set_option('display.width', 1000)\n",
    "\n",
    "import warnings; warnings.simplefilter('ignore')\n",
    "np.set_printoptions(suppress=True)"
   ]
  },
  {
   "cell_type": "markdown",
   "metadata": {},
   "source": [
    "### potential questions\n",
    "\n",
    "- can Meso scale predict TBI vs DC? \n",
    "\n",
    "- does Meso at visit one predict x outcome at visit 2 (pych and imaging outcomes) -- raw visit 2 number or 2 vs 1 difference?\n",
    "\n",
    "- network analysis with PET data?\n",
    "\n",
    "\n",
    "- role for ApoE type\n",
    "- role for prazosin\n",
    "- role for drinking type? MIP1a/b - VP connection?\n",
    "\n",
    "\n",
    "- plasma: bFGF, VEGFA, MDC, IL1a, IL7\n",
    "- CSF: CRP, MCP-1, IL1a, INFy"
   ]
  },
  {
   "cell_type": "code",
   "execution_count": null,
   "metadata": {},
   "outputs": [],
   "source": [
    "data_path = 'C:/Users/Schindler/Documents/Schindler_Lab/Data/Clinical projects/PeskindTBI/final_data/first_visits_short.csv'"
   ]
  },
  {
   "cell_type": "code",
   "execution_count": null,
   "metadata": {},
   "outputs": [],
   "source": [
    "#read in csv containing data from all surveys and all visitseqs\n",
    "data = pd.read_csv(data_path, index_col=0)\n",
    "data = pd.DataFrame(data = data)\n",
    "\n",
    "print('Original data shape:\\n', data.shape, '\\n')\n",
    "#create class variable\n",
    "data['class'] = [0 if x == 'C' else 1 for x in data['Group']]\n",
    "print(data.info())\n",
    "data.tail(1)"
   ]
  },
  {
   "cell_type": "code",
   "execution_count": null,
   "metadata": {},
   "outputs": [],
   "source": [
    "#determined outliers for auditc and QBlstExp (outlier = >3 SD from mean) and remove\n",
    "data = data[data[\"TBIID\"] != 'C010']\n",
    "data = data[data[\"TBIID\"] != 'T080']"
   ]
  },
  {
   "cell_type": "markdown",
   "metadata": {},
   "source": [
    "### Can MESO predict C or T?"
   ]
  },
  {
   "cell_type": "code",
   "execution_count": null,
   "metadata": {},
   "outputs": [],
   "source": [
    "#only use first visit sequence\n",
    "data_v1 = data[data['VisitSeq'] == 1]"
   ]
  },
  {
   "cell_type": "code",
   "execution_count": null,
   "metadata": {
    "scrolled": true
   },
   "outputs": [],
   "source": [
    "#explore meso data differences between groups\n",
    "\n",
    "meso_columns = ['Plasma1_bFGF',\n",
    "       'Plasma1_CRP', 'Plasma1_Eotaxin', 'Plasma1_Eotaxin3',\n",
    "       'Plasma1_Flt1', 'Plasma1_ICAM1', 'Plasma1_IFNγ', 'Plasma1_IL10',\n",
    "       'Plasma1_IL12_IL23p40', 'Plasma1_IL12p70', 'Plasma1_IL15',\n",
    "       'Plasma1_IL16', 'Plasma1_IL17A', 'Plasma1_IL1α', 'Plasma1_IL6',\n",
    "       'Plasma1_IL7', 'Plasma1_IL8', 'Plasma1_IP10', 'Plasma1_MCP1',\n",
    "       'Plasma1_MCP4', 'Plasma1_MDC', 'Plasma1_MIP1α', 'Plasma1_MIP1β',\n",
    "       'Plasma1_PlGF', 'Plasma1_SAA', 'Plasma1_TARC', 'Plasma1_Tie2',\n",
    "       'Plasma1_TNFα', 'Plasma1_TNFβ', 'Plasma1_VCAM1', 'Plasma1_VEGF',\n",
    "       'Plasma1_VEGFC', 'Plasma1_VEGFD']\n",
    "\n",
    "for param in meso_columns:\n",
    "    print(param)\n",
    "    \n",
    "    try:\n",
    "        g = sns.catplot(x='Group', y=param, kind='bar', data=data_v1, ci=68, height=5, aspect=4)\n",
    "        plt.show()\n",
    "        \n",
    "        print('\\n')\n",
    "        \n",
    "    except:\n",
    "        pass"
   ]
  },
  {
   "cell_type": "code",
   "execution_count": null,
   "metadata": {
    "scrolled": true
   },
   "outputs": [],
   "source": [
    "data_v1_meso = data_v1[['class', 'Plasma1_bFGF',\n",
    "       'Plasma1_CRP', 'Plasma1_Eotaxin', 'Plasma1_Eotaxin3',\n",
    "       'Plasma1_Flt1', 'Plasma1_ICAM1', 'Plasma1_IFNγ', 'Plasma1_IL10',\n",
    "       'Plasma1_IL12_IL23p40', 'Plasma1_IL12p70', 'Plasma1_IL15',\n",
    "       'Plasma1_IL16', 'Plasma1_IL17A', 'Plasma1_IL1α', 'Plasma1_IL6',\n",
    "       'Plasma1_IL7', 'Plasma1_IL8', 'Plasma1_IP10', 'Plasma1_MCP1',\n",
    "       'Plasma1_MCP4', 'Plasma1_MDC', 'Plasma1_MIP1α', 'Plasma1_MIP1β',\n",
    "       'Plasma1_PlGF', 'Plasma1_SAA', 'Plasma1_TARC', 'Plasma1_Tie2',\n",
    "       'Plasma1_TNFα', 'Plasma1_TNFβ', 'Plasma1_VCAM1', 'Plasma1_VEGF',\n",
    "       'Plasma1_VEGFC', 'Plasma1_VEGFD']]\n",
    "\n",
    "data_v1_meso.corr()['class'].sort_values()"
   ]
  },
  {
   "cell_type": "code",
   "execution_count": null,
   "metadata": {},
   "outputs": [],
   "source": [
    "#prepare features and remove na's\n",
    "data_v1_meso_features = data_v1_meso[['Plasma1_VEGF', 'Plasma1_bFGF', 'Plasma1_MDC', 'Plasma1_IL7', 'Plasma1_IL1α', 'class']]\n",
    "data_v1_meso_features.dropna(axis=0, inplace=True)\n",
    "data_v1_meso_features.info()\n"
   ]
  },
  {
   "cell_type": "code",
   "execution_count": null,
   "metadata": {},
   "outputs": [],
   "source": [
    "#prepare train and test data\n",
    "MESO_features = ['Plasma1_VEGF', 'Plasma1_bFGF', 'Plasma1_MDC', 'Plasma1_IL7', 'Plasma1_IL1α']\n",
    "\n",
    "#split data\n",
    "train, test = train_test_split(data_v1_meso_features, test_size = .3, random_state=1, stratify = data_v1_meso_features['class'])\n",
    "\n",
    "Y_train_class = train['class']\n",
    "Y_test_class = test['class']\n",
    "\n",
    "\n",
    "X_train_full = train[MESO_features]\n",
    "\n",
    "X_test_full = test[MESO_features]"
   ]
  },
  {
   "cell_type": "code",
   "execution_count": null,
   "metadata": {},
   "outputs": [],
   "source": [
    "#scale data algo\n",
    "scaler = StandardScaler()\n",
    "\n",
    "#k fold algo\n",
    "strat_k_fold = StratifiedKFold(n_splits=10)\n",
    "\n",
    "#classifier algos\n",
    "dm_cv = DummyClassifier(strategy='stratified', random_state=39)\n",
    "lr_cv = LogisticRegression(random_state=39, class_weight='balanced')\n",
    "rf_cv = RandomForestClassifier(random_state=39, class_weight='balanced')\n",
    "svm_cv = SVC(kernel='linear', probability=True, class_weight='balanced') \n",
    "knn_cv = KNeighborsClassifier()\n",
    "#gb_cv = GradientBoostingClassifier(random_state=39)\n",
    "ab_cv = AdaBoostClassifier(random_state=39)\n",
    "\n",
    "#dic with classifier and feature importance attribute name\n",
    "models_dic = {'dm_cv': (dm_cv, 'none'), \n",
    "              'lr_cv': (lr_cv, 'coef'), \n",
    "              'rf_cv': (rf_cv, 'feature_importance'), \n",
    "              'svm_cv':(svm_cv, 'coef'), \n",
    "              'knn_cv': (knn_cv, 'none'),  \n",
    "              'ab_cv': (ab_cv, 'feature_importance')}\n",
    "\n",
    "#'gb_cv': (gb_cv, 'feature_importance'),"
   ]
  },
  {
   "cell_type": "code",
   "execution_count": null,
   "metadata": {},
   "outputs": [],
   "source": [
    "def feature_importance(X, y, model_instance, feature_names, fi_name):\n",
    "    #takes in features (X) and classess (y), model, column names for features in X, and name of attribute for feature importance\n",
    "    #returns dictionary of feature names and coef/feature importance values\n",
    "    \n",
    "    feature_importance_dic = {}\n",
    "    \n",
    "    model_instance.fit(X, y)\n",
    "    \n",
    "    if fi_name == 'coef':\n",
    "        coef = model_instance.coef_[0]\n",
    "        feature_importance_dic = dict(zip(feature_names, coef))\n",
    "    if fi_name == 'feature_importance':\n",
    "        coef = model_instance.feature_importances_\n",
    "        feature_importance_dic = dict(zip(feature_names, coef))\n",
    "    if fi_name == 'none':\n",
    "        coef = np.zeros(len(feature_names))\n",
    "        feature_importance_dic = dict(zip(feature_names, coef))\n",
    "    \n",
    "    return feature_importance_dic"
   ]
  },
  {
   "cell_type": "code",
   "execution_count": null,
   "metadata": {},
   "outputs": [],
   "source": [
    "def classification_pipeline(X, y, cv_instance, model_instance, feature_names, fi_name):\n",
    "    \n",
    "    #scale data\n",
    "    data_scaled = scaler.fit_transform(X)\n",
    "    \n",
    "    #generate cross-val sets\n",
    "    cv = list(cv_instance.split(data_scaled, y))\n",
    "    \n",
    "    #predict class and predict probability \n",
    "    y_pred = cross_val_predict(model_instance, data_scaled, y, cv=cv, method='predict')\n",
    "    y_pred_prob = cross_val_predict(model_instance, data_scaled, y, cv=cv, method='predict_proba')\n",
    "    \n",
    "    #generate confusion matrix\n",
    "    conf_mat = confusion_matrix(y, y_pred)\n",
    "    print('Confusion matrix:', conf_mat)\n",
    "    \n",
    "    #generate ROC_AUC\n",
    "    ROC_AUC = metrics.roc_auc_score(y, y_pred_prob[:,1])\n",
    "    print(\"ROC_AUC: \", ROC_AUC)\n",
    "    \n",
    "    # generate additional metrics\n",
    "    recall = metrics.recall_score(y,y_pred)\n",
    "    precision = metrics.precision_score(y,y_pred)\n",
    "    accuracy = metrics.accuracy_score(y,y_pred)\n",
    "    F1 = metrics.f1_score(y,y_pred)\n",
    "    print(\"Sensitivity/Recall (TPR): \",recall)\n",
    "    print(\"Precision (PPV): \", precision)\n",
    "    print(\"Accuracy: \", accuracy)\n",
    "    print(\"F1:\", F1)\n",
    "    \n",
    "    #determine feature importance\n",
    "    feature_dic = feature_importance(data_scaled, y, model_instance, feature_names, fi_name)\n",
    "    \n",
    "    #create dic\n",
    "    data_dic = {}\n",
    "    data_dic['y_pred'] = y_pred\n",
    "    data_dic['y_pred_prob'] = y_pred_prob\n",
    "    data_dic['conf_mat'] = conf_mat\n",
    "    data_dic['ROC_AUC'] = ROC_AUC\n",
    "    data_dic['recall'] = recall\n",
    "    data_dic['precision'] = precision\n",
    "    data_dic['accuracy'] = accuracy\n",
    "    data_dic['F1'] = F1\n",
    "    \n",
    "    data_dic = {**data_dic, **feature_dic}\n",
    "    \n",
    "    return data_dic"
   ]
  },
  {
   "cell_type": "code",
   "execution_count": null,
   "metadata": {
    "scrolled": true
   },
   "outputs": [],
   "source": [
    "feature_set = 'MESO_features'\n",
    "feature_names = MESO_features\n",
    "\n",
    "data_full_features = {}\n",
    "\n",
    "for name, model in models_dic.items():\n",
    "    print(f'{name} model with {feature_set} features:')\n",
    "    data_full_features[name + '_' + feature_set] = classification_pipeline(X_train_full, Y_train_class, strat_k_fold, model[0], feature_names, model[1])\n",
    "    print('\\n')"
   ]
  },
  {
   "cell_type": "code",
   "execution_count": null,
   "metadata": {
    "scrolled": true
   },
   "outputs": [],
   "source": [
    "#put dics in pandas df \n",
    "final_dic = {**data_full_features}\n",
    "data_pandas = pd.DataFrame.from_dict(data = final_dic, orient='index')\n",
    "data_pandas.sort_values('F1', ascending=False).head()"
   ]
  },
  {
   "cell_type": "code",
   "execution_count": null,
   "metadata": {},
   "outputs": [],
   "source": []
  },
  {
   "cell_type": "code",
   "execution_count": null,
   "metadata": {},
   "outputs": [],
   "source": []
  },
  {
   "cell_type": "code",
   "execution_count": null,
   "metadata": {},
   "outputs": [],
   "source": []
  },
  {
   "cell_type": "markdown",
   "metadata": {},
   "source": [
    "### Does MESO at visit 1 predict recovery (or not) trajectory (at visit 2)"
   ]
  },
  {
   "cell_type": "code",
   "execution_count": null,
   "metadata": {},
   "outputs": [],
   "source": [
    "#use only TBI participants\n",
    "data_TBI =  data[data['Group'] == 'T']\n",
    "print(data_TBI.shape)\n",
    "#only interested in first and second visit\n",
    "visits = [1,2]\n",
    "data_TBI_v12_all = data_TBI[data_TBI['VisitSeq'].isin(visits)]\n",
    "print(data_TBI_v12_all.shape)\n",
    "\n",
    "#get TBIIDs of participants with a second visit and use to filter \n",
    "TBIID_v2 = data_TBI_v12_all[data_TBI_v12_all['VisitSeq'] == 2]['TBIID'].unique()\n",
    "print(len(TBIID_v2))\n",
    "\n",
    "#make new df with only TBI participants who returned for visit seq 2\n",
    "data_TBI_v12_only = data_TBI_v12_all[data_TBI_v12_all['TBIID'].isin(TBIID_v2)]\n",
    "print(data_TBI_v12_only.shape)\n",
    "print(data_TBI_v12_only['VisitSeq'].value_counts())\n",
    "\n",
    "data_TBI_v12_only.head()"
   ]
  },
  {
   "cell_type": "code",
   "execution_count": null,
   "metadata": {},
   "outputs": [],
   "source": [
    "#make new df with param score diff from v1 to v2 - need to drop na's and find TBIIDs in common \n",
    "\n",
    "data_TBI_v12_only = data_TBI_v12_only[['TBIID', 'VisitSeq',\n",
    "       'BMI', 'BPSYS', 'BPDIAS', 'HRATE',  \n",
    "       'PSQItot', 'PCLTot', 'PHQTot', \n",
    "       'NSITot', 'TBITot', 'auditc']]\n",
    "\n",
    "print(data_TBI_v12_only.shape)\n",
    "print(data_TBI_v12_only['VisitSeq'].value_counts())\n",
    "\n",
    "data_TBI_v1 = data_TBI_v12_only[data_TBI_v12_only['VisitSeq'] == 1].dropna(axis=0)\n",
    "print(data_TBI_v1.shape)\n",
    "\n",
    "data_TBI_v2 = data_TBI_v12_only[data_TBI_v12_only['VisitSeq'] == 2].dropna(axis=0)\n",
    "print(data_TBI_v2.shape)\n",
    "\n",
    "#match TBIIDs with no nas\n",
    "TBIID_keep = list(set(data_TBI_v2['TBIID']) & set(data_TBI_v1['TBIID']))\n",
    "data_TBI_v1 = data_TBI_v1[data_TBI_v1['TBIID'].isin(TBIID_keep)].drop('VisitSeq', axis=1).set_index('TBIID')\n",
    "print(data_TBI_v1.shape)\n",
    "data_TBI_v2 = data_TBI_v2[data_TBI_v2['TBIID'].isin(TBIID_keep)].drop('VisitSeq', axis=1).set_index('TBIID')\n",
    "print(data_TBI_v2.shape)\n",
    "\n",
    "data_TBI_diff = data_TBI_v2 - data_TBI_v1\n",
    "data_TBI_diff.head()"
   ]
  },
  {
   "cell_type": "code",
   "execution_count": null,
   "metadata": {},
   "outputs": [],
   "source": [
    "#add MESO data \n",
    "data_TBI_MESO = data_TBI[(data_TBI['TBIID'].isin(TBIID_keep)) & (data_TBI['VisitSeq'] == 1)][['TBIID', \n",
    "                                                                                              'Plasma1_bFGF', \n",
    "                                                                                              'Plasma1_VEGF', \n",
    "                                                                                              'Plasma1_MDC',\n",
    "                                                                                              'Plasma1_IL1α']]\n",
    "print(data_TBI_MESO.shape)\n",
    "\n",
    "#combine dfs\n",
    "data_TBI_diff_MESO = pd.merge(data_TBI_diff, data_TBI_MESO, how='left', on=['TBIID'], sort=False)\n",
    "print(data_TBI_diff_MESO.shape)\n",
    "\n",
    "#drop params with many missing values\n",
    "data_TBI_diff_MESO.dropna(axis=0, inplace=True)\n",
    "print(data_TBI_diff_MESO.shape)\n",
    "data_TBI_diff_MESO.head()"
   ]
  },
  {
   "cell_type": "code",
   "execution_count": null,
   "metadata": {},
   "outputs": [],
   "source": [
    "#explore corr with MESO analytes of interest\n",
    "data_TBI_diff_MESO.corr()[['Plasma1_bFGF', 'Plasma1_VEGF', 'Plasma1_MDC','Plasma1_IL1α']]"
   ]
  },
  {
   "cell_type": "code",
   "execution_count": null,
   "metadata": {},
   "outputs": [],
   "source": [
    "sns.regplot(x='Plasma1_IL1α', y='NSITot', data=data_TBI_diff_MESO)"
   ]
  }
 ],
 "metadata": {
  "kernelspec": {
   "display_name": "Python 3",
   "language": "python",
   "name": "python3"
  },
  "language_info": {
   "codemirror_mode": {
    "name": "ipython",
    "version": 3
   },
   "file_extension": ".py",
   "mimetype": "text/x-python",
   "name": "python",
   "nbconvert_exporter": "python",
   "pygments_lexer": "ipython3",
   "version": "3.6.10"
  }
 },
 "nbformat": 4,
 "nbformat_minor": 2
}
