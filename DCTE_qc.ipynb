{
 "cells": [
  {
   "cell_type": "code",
   "execution_count": null,
   "metadata": {},
   "outputs": [],
   "source": [
    "#getting and working with data\n",
    "import pandas as pd\n",
    "import numpy as np\n",
    "import re\n",
    "import os\n",
    "import datetime as dt\n",
    "import string\n",
    "from scipy import stats\n",
    "import statsmodels.api as sm\n",
    "\n",
    "#visualizing results\n",
    "import matplotlib.pyplot as plt\n",
    "%matplotlib inline\n",
    "import seaborn as sns\n",
    "sns.set_context(\"poster\")\n",
    "sns.set_style(\"ticks\")\n",
    "sns.set(font_scale=2)\n",
    "\n",
    "pd.set_option('display.max_rows', 1000)\n",
    "pd.set_option('display.max_columns', 1000)\n",
    "pd.set_option('display.width', 1000)\n",
    "\n",
    "import warnings; warnings.simplefilter('ignore')\n",
    "np.set_printoptions(suppress=True)"
   ]
  },
  {
   "cell_type": "markdown",
   "metadata": {},
   "source": [
    "## read in and create dfs "
   ]
  },
  {
   "cell_type": "code",
   "execution_count": null,
   "metadata": {},
   "outputs": [],
   "source": [
    "#create list of dir paths\n",
    "path = '/Users/abbieschindler/Documents/Schindler_Lab/Data/Clinical projects/DCTE/data/imputation/data/csf'\n",
    "    \n",
    "path_file_names = os.listdir(path)\n",
    "\n",
    "data_paths = []\n",
    "\n",
    "for file in path_file_names:\n",
    "    int_path = path + '/' + file\n",
    "    data_paths.append(int_path)\n",
    "    \n",
    "data_paths"
   ]
  },
  {
   "cell_type": "code",
   "execution_count": null,
   "metadata": {},
   "outputs": [],
   "source": [
    "data_final = pd.DataFrame()\n",
    "\n",
    "for path in data_paths:\n",
    "    print(path)\n",
    "    \n",
    "    data_int = pd.read_excel(path)\n",
    "    data_int = pd.DataFrame(data = data_int)\n",
    "\n",
    "    if data_final.shape[0] == 0:\n",
    "        data_final = data_int\n",
    "    else:\n",
    "        data_final = data_final.merge(data_int, on='Subject_ID', sort=False, how='outer')\n",
    "        \n",
    "    print(data_final.shape)\n",
    "    \n",
    "data_final.head()"
   ]
  },
  {
   "cell_type": "code",
   "execution_count": null,
   "metadata": {},
   "outputs": [],
   "source": [
    "cols1 = [col for col in data_final.columns if 'impute' in col]\n",
    "cols2 = [col for col in data_final.columns if 'Impute' in col]\n",
    "cols1.extend(cols2)\n",
    "len(cols1)"
   ]
  },
  {
   "cell_type": "code",
   "execution_count": null,
   "metadata": {},
   "outputs": [],
   "source": [
    "data_final['c_IL_21_Imputed_ct'].value_counts()"
   ]
  },
  {
   "cell_type": "code",
   "execution_count": null,
   "metadata": {
    "scrolled": true
   },
   "outputs": [],
   "source": [
    "data_final.loc[:, data_final.columns.isin(cols1)].mean().reset_index().sort_values(0, ascending=False)"
   ]
  },
  {
   "cell_type": "code",
   "execution_count": null,
   "metadata": {},
   "outputs": [],
   "source": [
    "plasma_exclude = ['p_IL_17AGenB', 'p_IL_8_2', 'p_IL_1_beta', 'p_IL_17A_F', 'p_IL_9', 'p_IL_4',\n",
    "                 'p_IL_13', 'p_GM_CSF', 'p_IL_5']\n",
    "\n",
    "csf_exclude = ['c_IL_12p70', 'c_IL_1_beta', 'c_MCP_4', 'c_IL_23', 'c_IL_17A_F', 'c_Tie_2',\n",
    "               'c_IL_17C', 'c_IL_4', 'c_INF_gamma', 'c_IL_3', 'c_GM_CSF', 'c_IL_1_alpha',\n",
    "               'c_VEGF_C', 'c_TNF_alpha', 'c_IL_1_alpha', 'c_IL_17AGenB', 'c_MIP_3alpha', 'c_IL_31']"
   ]
  }
 ],
 "metadata": {
  "kernelspec": {
   "display_name": "Python 3",
   "language": "python",
   "name": "python3"
  },
  "language_info": {
   "codemirror_mode": {
    "name": "ipython",
    "version": 3
   },
   "file_extension": ".py",
   "mimetype": "text/x-python",
   "name": "python",
   "nbconvert_exporter": "python",
   "pygments_lexer": "ipython3",
   "version": "3.6.12"
  },
  "toc": {
   "base_numbering": 1,
   "nav_menu": {},
   "number_sections": true,
   "sideBar": true,
   "skip_h1_title": false,
   "title_cell": "Table of Contents",
   "title_sidebar": "Contents",
   "toc_cell": false,
   "toc_position": {},
   "toc_section_display": true,
   "toc_window_display": true
  }
 },
 "nbformat": 4,
 "nbformat_minor": 2
}
