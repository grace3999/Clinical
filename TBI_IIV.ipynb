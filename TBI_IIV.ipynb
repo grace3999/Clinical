{
 "cells": [
  {
   "cell_type": "code",
   "execution_count": null,
   "metadata": {},
   "outputs": [],
   "source": [
    "#getting and working with data\n",
    "import pandas as pd\n",
    "import numpy as np\n",
    "import re\n",
    "import os\n",
    "import scipy as sp\n",
    "import missingno as msno\n",
    "\n",
    "from sklearn.preprocessing import Normalizer\n",
    "from sklearn.preprocessing import StandardScaler\n",
    "from sklearn.preprocessing import RobustScaler\n",
    "\n",
    "#visualizing results\n",
    "import matplotlib.pyplot as plt\n",
    "from matplotlib.patches import Patch\n",
    "%matplotlib inline\n",
    "import seaborn as sns\n",
    "sns.set_context('poster')\n",
    "\n",
    "pd.set_option('display.max_rows', 10000)\n",
    "pd.set_option('display.max_columns', 10000)\n",
    "pd.set_option('display.width', 10000)\n",
    "pd.set_option('display.max_colwidth', -1)\n",
    "\n",
    "import warnings; warnings.simplefilter('ignore')\n",
    "np.set_printoptions(suppress=True)"
   ]
  },
  {
   "cell_type": "code",
   "execution_count": null,
   "metadata": {},
   "outputs": [],
   "source": [
    "data_path = 'C:/Users/Schindler/Documents/Schindler_Lab/Data/Clinical projects/PeskindTBI/final_data/data_final.csv'"
   ]
  },
  {
   "cell_type": "code",
   "execution_count": null,
   "metadata": {},
   "outputs": [],
   "source": [
    "#read in csv containing data from all surveys and all visitseqs\n",
    "data = pd.read_csv(data_path)\n",
    "data = pd.DataFrame(data = data)\n",
    "\n",
    "data['group_num'] = data['Group'].replace({'C': 0, 'T': 1})\n",
    "\n",
    "print('Original data shape:\\n', data.shape, '\\n')\n",
    "print(data.info())\n",
    "data.head(1)"
   ]
  },
  {
   "cell_type": "code",
   "execution_count": null,
   "metadata": {},
   "outputs": [],
   "source": [
    "#create new column with year of screen date\n",
    "data['screenyear'] = [np.int(x.split('-')[0]) for x in data['ScreenDate_x']]"
   ]
  },
  {
   "cell_type": "markdown",
   "metadata": {},
   "source": [
    "## Value counts by group and visit seq"
   ]
  },
  {
   "cell_type": "code",
   "execution_count": null,
   "metadata": {},
   "outputs": [],
   "source": [
    "data.groupby('VisitSeq')['Group'].value_counts()"
   ]
  },
  {
   "cell_type": "code",
   "execution_count": null,
   "metadata": {},
   "outputs": [],
   "source": [
    "visit_keep = [1,2]\n",
    "data_short = data[data['VisitSeq'].isin(visit_keep)]"
   ]
  },
  {
   "cell_type": "code",
   "execution_count": null,
   "metadata": {},
   "outputs": [],
   "source": [
    "columns_to_keep = ['Status_x', 'VisitSeq', 'Group', 'group_num', 'TBIID', 'EntityID', 'DOB', 'screenyear', 'GType', 'Race', 'Hispanic', 'Handedness', \n",
    "                   'ScreenAge_x', 'Education', 'Marital', 'APOEGen', 'servconn', 'cestotal', 'MnthSncBlst', \n",
    "                   'QKOIorA', 'QKOExpMil', 'QKOAllMil', 'QKOLife', 'QBlstExp', 'QBEACRM', 'Q5plus2', \n",
    "                   'QEDist_sum', 'QEDist_mean', 'QEDist_min',\n",
    "                   'ACT18T', 'AnimalsT', 'BVTotReT', 'DkefInSS', 'CVT15FRT', 'LetFAST', 'W3LNSSS',\n",
    "                   'CvmtHitT', 'CvmtFaT', 'CvmtDprT', 'CvmtTotT', 'CvmtDelT',  \n",
    "                   'MTPMTPer', 'MT15Per', 'MTTCPer',\n",
    "                   'rffacct', 'rffdst', 'rffdat', 'rffsst', 'rffsat', 'rffspdt', \n",
    "                   'SDW90TS', 'TrailAT', 'TrailBT', 'WCSTPrsT',\n",
    "                   'auditc', 'AUDIT1', 'AUDIT2', 'AUDIT3', \n",
    "                   'DOPA', 'DA', 'DOPAC', 'NE', 'DHPG', 'da_dopa_ratio', 'dopac_da_ratio', 'ne_dopa_ratio', 'dhpg_ne_ratio',\n",
    "                   'HEIGHT', 'WEIGHT', 'BMI', 'BPSYS', 'BPDIAS', 'HRATE',\n",
    "                   'HYPERTEN', 'HYPERCHO', 'DIABETES', 'B12DEF', 'THYROID', \n",
    "                   'BGlucose', 'BNa', 'BUN', 'BCreat', 'BOsmo', 'UOsmo', 'USG', 'UNa', 'BK',\n",
    "                   'TotalChol', 'LDL', 'HDL', 'Trig',\n",
    "                   'CSFPROTEIN_x', 'CSFGLUCOSE', 'CSFRBCS',\n",
    "                   'MHxPain', 'MHxHA', 'MHxHtn', 'MHxCard', 'MHxGI', 'MHxNeuro', 'MHxLung', 'MHxApnea',\n",
    "                   'SCPTSD', 'SCMDD', 'SCPD', 'SCGAD', 'SCNone',\n",
    "                   'DvpHA', 'DvpHAAct', 'DvpHASlp', 'DvpHAMd', 'DvpHAStr', 'DvpBP',\n",
    "                   'DvpBPAct', 'DvpBPslp', 'DvpBPMd', 'DvpBPStr', \n",
    "                   'BISAtt', 'BISMtr', 'BISNonpl', 'BISTot',\n",
    "                   'capsCrtA', 'CAPSTotal', \n",
    "                   'PSQIc1', 'PSQIc2', 'PSQIc3', 'PSQIc4', 'PSQIc5', 'PSQIc6', 'PSQIc7', 'PSQITot',\n",
    "                   'PCLTot', 'PCL_reexp', 'PCL_avoid', 'PCL_numb', 'PCL_hyper',\n",
    "                   'PHQTot', 'PHQ_psych', 'PHQ_somatic',\n",
    "                   'NSITot', 'TBITot', 'NSI_vestibular', 'NSI_somatosensory', 'NSI_cognitive', 'NSI_affective', 'NSI_ERP_affective', 'NIS_ERP_vestsom',\n",
    "                   'Amygdala_l', 'Amygdala_r', 'Pallidum_l', 'Pallidum_r', 'Midbrain',\n",
    "                   'Plasma1_bFGF', 'Plasma1_CRP', 'Plasma1_Eotaxin', 'Plasma1_Eotaxin3', 'Plasma1_Flt1', 'Plasma1_ICAM1', 'Plasma1_IFNγ', 'Plasma1_IL10',\n",
    "                   'Plasma1_IL12_IL23p40', 'Plasma1_IL12p70', 'Plasma1_IL15',\n",
    "                   'Plasma1_IL16', 'Plasma1_IL17A', 'Plasma1_IL1α', 'Plasma1_IL6',\n",
    "                   'Plasma1_IL7', 'Plasma1_IL8', 'Plasma1_IP10', 'Plasma1_MCP1',\n",
    "                   'Plasma1_MCP4', 'Plasma1_MDC', 'Plasma1_MIP1α', 'Plasma1_MIP1β',\n",
    "                   'Plasma1_PlGF', 'Plasma1_SAA', 'Plasma1_TARC', 'Plasma1_Tie2',\n",
    "                   'Plasma1_TNFα', 'Plasma1_TNFβ', 'Plasma1_VCAM1', 'Plasma1_VEGF',\n",
    "                   'Plasma1_VEGFC', 'Plasma1_VEGFD']\n",
    "\n",
    "data_short = data_short[columns_to_keep]\n",
    "print(data_short.shape)\n",
    "data_short.head()"
   ]
  },
  {
   "cell_type": "code",
   "execution_count": null,
   "metadata": {},
   "outputs": [],
   "source": [
    "#find and fix other forms of nan's\n",
    "data_short = data_short.replace({-20.0: np.nan, -920.0: np.nan})\n",
    "data_short.describe()"
   ]
  },
  {
   "cell_type": "markdown",
   "metadata": {},
   "source": [
    "## Explore missing across all TBIID"
   ]
  },
  {
   "cell_type": "code",
   "execution_count": null,
   "metadata": {},
   "outputs": [],
   "source": [
    "poi = ['ACT18T', 'AnimalsT', 'BVTotReT', 'DkefInSS', 'CVT15FRT', 'LetFAST', 'W3LNSSS',\n",
    "                   'CvmtHitT', 'CvmtFaT', 'CvmtDprT', 'CvmtTotT', 'CvmtDelT',  \n",
    "                   'MTPMTPer', 'MT15Per', 'MTTCPer',\n",
    "                   'rffacct', 'rffdst', 'rffdat', 'rffsst', 'rffsat', 'rffspdt', \n",
    "                   'SDW90TS']\n",
    "\n",
    "data_poi = data_short[['VisitSeq', 'Group', 'group_num', 'TBIID', 'screenyear', 'APOEGen', 'ACT18T', 'AnimalsT', 'BVTotReT', 'DkefInSS', 'CVT15FRT', 'LetFAST', 'W3LNSSS',\n",
    "                   'CvmtHitT', 'CvmtFaT', 'CvmtDprT', 'CvmtTotT', 'CvmtDelT',  \n",
    "                   'MTPMTPer', 'MT15Per', 'MTTCPer',\n",
    "                   'rffacct', 'rffdst', 'rffdat', 'rffsst', 'rffsat', 'rffspdt', \n",
    "                   'SDW90TS']]\n",
    "\n",
    "data_poi.groupby(['VisitSeq', 'Group']).count().reset_index()"
   ]
  },
  {
   "cell_type": "code",
   "execution_count": null,
   "metadata": {},
   "outputs": [],
   "source": [
    "data_poi.groupby(['VisitSeq', 'Group'])[poi].count().mean(axis=1).reset_index(name='count')"
   ]
  },
  {
   "cell_type": "code",
   "execution_count": null,
   "metadata": {},
   "outputs": [],
   "source": [
    "data_poi.groupby(['VisitSeq', 'Group', 'TBIID'])[poi].count().sum(axis=1).reset_index(name='count')"
   ]
  },
  {
   "cell_type": "code",
   "execution_count": null,
   "metadata": {},
   "outputs": [],
   "source": [
    "msno.matrix(data_poi[data_poi['VisitSeq'] ==  1])"
   ]
  },
  {
   "cell_type": "code",
   "execution_count": null,
   "metadata": {},
   "outputs": [],
   "source": [
    "msno.bar(data_poi[data_poi['VisitSeq'] ==  1])"
   ]
  },
  {
   "cell_type": "code",
   "execution_count": null,
   "metadata": {},
   "outputs": [],
   "source": [
    "msno.heatmap(data_poi[data_poi['VisitSeq'] ==  1])"
   ]
  },
  {
   "cell_type": "code",
   "execution_count": null,
   "metadata": {},
   "outputs": [],
   "source": [
    "msno.matrix(data_poi[data_poi['VisitSeq'] ==  2])"
   ]
  },
  {
   "cell_type": "code",
   "execution_count": null,
   "metadata": {},
   "outputs": [],
   "source": [
    "#get count for each year and visitseq\n",
    "visit_year_count = data_poi.groupby(['VisitSeq', 'screenyear'])['TBIID'].count().reset_index(name='TBIID_count')\n",
    "#get count for each poi fore each year and visitseq\n",
    "visit_year_count_poi = data_poi.groupby(['VisitSeq', 'screenyear'])[poi].count().reset_index()\n",
    "#compute perc responding for each poi\n",
    "visit_year_perc_poi = visit_year_count_poi[poi].div(visit_year_count['TBIID_count'].values, axis=0)\n",
    "visit_year_perc_poi['VisitSeq'] = visit_year_count_poi['VisitSeq']\n",
    "visit_year_perc_poi['screenyear'] = visit_year_count_poi['screenyear']\n",
    "visit_year_perc_poi = visit_year_perc_poi[['VisitSeq', 'screenyear', 'ACT18T', 'AnimalsT', 'BVTotReT', 'DkefInSS', 'CVT15FRT',\n",
    "       'LetFAST', 'W3LNSSS', 'CvmtHitT', 'CvmtFaT', 'CvmtDprT',\n",
    "       'CvmtTotT', 'CvmtDelT', 'MTPMTPer', 'MT15Per', 'MTTCPer',\n",
    "       'rffacct', 'rffdst', 'rffdat', 'rffsst', 'rffsat', 'rffspdt',\n",
    "       'SDW90TS']]\n",
    "\n",
    "visit_year_perc_poi"
   ]
  },
  {
   "cell_type": "code",
   "execution_count": null,
   "metadata": {
    "scrolled": false
   },
   "outputs": [],
   "source": [
    "plt.figure(figsize=(13,13))  \n",
    "sns.heatmap(visit_year_perc_poi.corr())"
   ]
  },
  {
   "cell_type": "markdown",
   "metadata": {},
   "source": [
    "## Explore missing across TBIID that had visitseq 2"
   ]
  },
  {
   "cell_type": "code",
   "execution_count": null,
   "metadata": {},
   "outputs": [],
   "source": [
    "#get TBIIDs of participants with a second visit and use to filter\n",
    "TBIID_v2 = data_poi[data_poi['VisitSeq'] == 2]['TBIID'].values\n",
    "\n",
    "#create new df with only participants who came to both visits 1 and 2\n",
    "data_poi_v2check = data_poi[data_poi['TBIID'].isin(TBIID_v2)]\n",
    "print(data_poi_v2check.groupby('VisitSeq')['Group'].value_counts())\n",
    "print(data_poi_v2check.shape)\n",
    "data_poi_v2check.head()"
   ]
  },
  {
   "cell_type": "code",
   "execution_count": null,
   "metadata": {},
   "outputs": [],
   "source": [
    "msno.matrix(data_poi_v2check[data_poi_v2check['VisitSeq'] ==  1])"
   ]
  },
  {
   "cell_type": "code",
   "execution_count": null,
   "metadata": {},
   "outputs": [],
   "source": [
    "data_poi.head(1)\n",
    "sns.distplot(data_poi[(data_poi['VisitSeq'] == 1) & (data_poi['Group'] == 'C')]['AnimalsT'].dropna())\n",
    "sns.distplot(data_poi[(data_poi['VisitSeq'] == 1) & (data_poi['Group'] == 'T')]['AnimalsT'].dropna())"
   ]
  },
  {
   "cell_type": "markdown",
   "metadata": {},
   "source": [
    "## Explore IIV data"
   ]
  },
  {
   "cell_type": "code",
   "execution_count": null,
   "metadata": {},
   "outputs": [],
   "source": [
    "for var in poi:\n",
    "    print(var)\n",
    "    sns.distplot(data_poi[(data_poi['VisitSeq'] == 1) & (data_poi['Group'] == 'C')][var].dropna())\n",
    "    sns.distplot(data_poi[(data_poi['VisitSeq'] == 1) & (data_poi['Group'] == 'T')][var].dropna())\n",
    "    plt.show()"
   ]
  },
  {
   "cell_type": "code",
   "execution_count": null,
   "metadata": {},
   "outputs": [],
   "source": [
    "#create tidy df with IIV params melt\n",
    "meta_params = ['VisitSeq', 'Group', 'TBIID', 'screenyear',]\n",
    "IIV_parmas = ['ACT18T', 'AnimalsT', 'BVTotReT', 'DkefInSS', 'CVT15FRT',\n",
    "       'LetFAST', 'W3LNSSS', 'CvmtHitT', 'CvmtFaT', 'CvmtDprT',\n",
    "       'CvmtTotT', 'CvmtDelT', 'MTPMTPer', 'MT15Per', 'MTTCPer',\n",
    "       'rffacct', 'rffdst', 'rffdat', 'rffsst', 'rffsat', 'rffspdt',\n",
    "       'SDW90TS']\n",
    "data_poi_tidy = pd.melt(data_poi, id_vars=meta_params, value_vars=IIV_parmas)\n",
    "print(data_poi_tidy.shape)\n",
    "data_poi_tidy.head()"
   ]
  },
  {
   "cell_type": "code",
   "execution_count": null,
   "metadata": {
    "scrolled": false
   },
   "outputs": [],
   "source": [
    "sns.catplot(x=\"variable\", y=\"value\", hue=\"Group\",\n",
    "            kind=\"violin\", inner=\"stick\", split=True,\n",
    "            palette=\"pastel\", data=data_poi_tidy[data_poi_tidy['VisitSeq'] == 1], height=15, aspect=3)"
   ]
  },
  {
   "cell_type": "code",
   "execution_count": null,
   "metadata": {
    "scrolled": false
   },
   "outputs": [],
   "source": [
    "sns.catplot(x=\"variable\", y=\"value\", hue=\"Group\",\n",
    "            kind=\"violin\", inner=\"stick\", split=True,\n",
    "            palette=\"pastel\", data=data_poi_tidy[data_poi_tidy['VisitSeq'] == 2], height=15, aspect=3)"
   ]
  },
  {
   "cell_type": "markdown",
   "metadata": {},
   "source": [
    "## z-score"
   ]
  },
  {
   "cell_type": "code",
   "execution_count": null,
   "metadata": {},
   "outputs": [],
   "source": [
    "# center and scale the data\n",
    "scaler = RobustScaler()\n",
    "\n",
    "meta_col = ['VisitSeq', 'Group', 'group_num', 'TBIID', 'screenyear', 'APOEGen']\n",
    "poi_col = ['ACT18T',\n",
    "       'AnimalsT', 'BVTotReT', 'DkefInSS', 'CVT15FRT', 'LetFAST',\n",
    "       'W3LNSSS', 'CvmtHitT', 'CvmtFaT', 'CvmtDprT', 'CvmtTotT',\n",
    "       'CvmtDelT', 'MTPMTPer', 'MT15Per', 'MTTCPer', 'rffacct', 'rffdst',\n",
    "       'rffdat', 'rffsst', 'rffsat', 'rffspdt', 'SDW90TS']\n",
    "\n",
    "#visit 1 first\n",
    "data_poi_v1 = data_poi[data_poi['VisitSeq'] == 1]\n",
    "#scale data\n",
    "data_poi_scaled = scaler.fit_transform(data_poi_v1[poi_col])\n",
    "data_poi_scaled = pd.DataFrame(data=data_poi_scaled, columns=poi)\n",
    "data_poi_scaled = pd.concat([data_poi_v1[meta_col].reset_index(), data_poi_scaled], ignore_index=False, axis=1)\n",
    "\n",
    "#comput std per TBIID\n",
    "data_poi_scaled['std'] = data_poi_scaled[poi_col].std(axis=1)\n",
    "#comput  maximum discrepancy per TBIID\n",
    "data_poi_scaled['md'] = data_poi_scaled[poi_col].max(axis=1) - data_poi_scaled[poi_col].min(axis=1)\n",
    "\n",
    "print(data_poi_scaled.shape)\n",
    "data_poi_scaled.head(1)"
   ]
  },
  {
   "cell_type": "code",
   "execution_count": null,
   "metadata": {},
   "outputs": [],
   "source": [
    "sns.catplot(x=\"Group\", y=\"std\", \n",
    "            kind=\"bar\", data=data_poi_scaled, ci=68)"
   ]
  },
  {
   "cell_type": "code",
   "execution_count": null,
   "metadata": {},
   "outputs": [],
   "source": [
    "sns.catplot(x=\"Group\", y=\"md\", \n",
    "            kind=\"bar\", data=data_poi_scaled, ci=68)"
   ]
  },
  {
   "cell_type": "code",
   "execution_count": null,
   "metadata": {
    "scrolled": true
   },
   "outputs": [],
   "source": [
    "# center and scale the data\n",
    "scaler = StandardScaler()\n",
    "\n",
    "meta_col = ['VisitSeq', 'Group', 'group_num', 'TBIID', 'screenyear', 'APOEGen']\n",
    "poi_col = ['ACT18T',\n",
    "       'AnimalsT', 'BVTotReT', 'DkefInSS', 'CVT15FRT', 'LetFAST',\n",
    "       'W3LNSSS', 'CvmtHitT', 'CvmtFaT', 'CvmtDprT', 'CvmtTotT',\n",
    "       'CvmtDelT', 'MTPMTPer', 'MT15Per', 'MTTCPer', 'rffacct', 'rffdst',\n",
    "       'rffdat', 'rffsst', 'rffsat', 'rffspdt', 'SDW90TS']\n",
    "\n",
    "#visit 1 first\n",
    "data_poi_v1 = data_poi[data_poi['VisitSeq'] == 1]\n",
    "\n",
    "#standardize C and T separately\n",
    "data_poi_C = data_poi_v1[data_poi_v1['Group'] ==  'C']\n",
    "print(data_poi_C.shape)\n",
    "data_poi_C_scaled = scaler.fit_transform(data_poi_C[poi_col])\n",
    "data_poi_C_scaled = pd.DataFrame(data=data_poi_C_scaled, columns=poi)\n",
    "data_poi_C_scaled = pd.concat([data_poi_C[meta_col].reset_index(), data_poi_C_scaled], ignore_index=False, axis=1)\n",
    "data_poi_C_scaled['std'] = data_poi_C_scaled[poi_col].std(axis=1)\n",
    "print(data_poi_C_scaled.shape)\n",
    "\n",
    "data_poi_T = data_poi_v1[data_poi_v1['Group'] ==  'T']\n",
    "print(data_poi_T.shape)\n",
    "data_poi_T_scaled = scaler.fit_transform(data_poi_T[poi_col])\n",
    "data_poi_T_scaled = pd.DataFrame(data=data_poi_T_scaled, columns=poi)\n",
    "data_poi_T_scaled = pd.concat([data_poi_T[meta_col].reset_index(), data_poi_T_scaled], ignore_index=False, axis=1)\n",
    "data_poi_T_scaled['std'] = data_poi_T_scaled[poi_col].std(axis=1)\n",
    "print(data_poi_T_scaled.shape)\n",
    "\n",
    "data_poi_scaled = pd.concat([data_poi_C_scaled, data_poi_T_scaled], ignore_index=True, axis=0)\n",
    "\n",
    "data_poi_scaled.describe()"
   ]
  },
  {
   "cell_type": "code",
   "execution_count": null,
   "metadata": {},
   "outputs": [],
   "source": [
    "sns.catplot(x=\"Group\", y=\"std\", \n",
    "            kind=\"bar\", data=data_poi_scaled, ci=68)"
   ]
  },
  {
   "cell_type": "code",
   "execution_count": null,
   "metadata": {},
   "outputs": [],
   "source": [
    "#determined outliers for auditc and QBlstExp (outlier = >3 SD from mean) and remove\n",
    "#data = data[data[\"TBIID\"] != 'C010']\n",
    "#data = data[data[\"TBIID\"] != 'T080']"
   ]
  }
 ],
 "metadata": {
  "kernelspec": {
   "display_name": "Python 3",
   "language": "python",
   "name": "python3"
  },
  "language_info": {
   "codemirror_mode": {
    "name": "ipython",
    "version": 3
   },
   "file_extension": ".py",
   "mimetype": "text/x-python",
   "name": "python",
   "nbconvert_exporter": "python",
   "pygments_lexer": "ipython3",
   "version": "3.6.10"
  },
  "toc": {
   "base_numbering": 1,
   "nav_menu": {},
   "number_sections": true,
   "sideBar": true,
   "skip_h1_title": false,
   "title_cell": "Table of Contents",
   "title_sidebar": "Contents",
   "toc_cell": false,
   "toc_position": {},
   "toc_section_display": true,
   "toc_window_display": true
  }
 },
 "nbformat": 4,
 "nbformat_minor": 2
}
