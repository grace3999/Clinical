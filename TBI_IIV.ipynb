{
 "cells": [
  {
   "cell_type": "code",
   "execution_count": null,
   "metadata": {},
   "outputs": [],
   "source": [
    "#getting and working with data\n",
    "import pandas as pd\n",
    "import numpy as np\n",
    "import re\n",
    "import os\n",
    "import scipy as sp\n",
    "import missingno as msno\n",
    "\n",
    "#visualizing results\n",
    "import matplotlib.pyplot as plt\n",
    "from matplotlib.patches import Patch\n",
    "%matplotlib inline\n",
    "import seaborn as sns\n",
    "sns.set_context('poster')\n",
    "\n",
    "pd.set_option('display.max_rows', 10000)\n",
    "pd.set_option('display.max_columns', 10000)\n",
    "pd.set_option('display.width', 10000)\n",
    "pd.set_option('display.max_colwidth', -1)\n",
    "\n",
    "import warnings; warnings.simplefilter('ignore')\n",
    "np.set_printoptions(suppress=True)"
   ]
  },
  {
   "cell_type": "code",
   "execution_count": null,
   "metadata": {},
   "outputs": [],
   "source": [
    "data_path = 'C:/Users/Schindler/Documents/Schindler_Lab/Data/Clinical projects/PeskindTBI/final_data/data_final.csv'"
   ]
  },
  {
   "cell_type": "code",
   "execution_count": null,
   "metadata": {},
   "outputs": [],
   "source": [
    "#read in csv containing data from all surveys and all visitseqs\n",
    "data = pd.read_csv(data_path)\n",
    "data = pd.DataFrame(data = data)\n",
    "\n",
    "#data['group_num'] = data['Group'].replace({'C': 0, 'T': 1})\n",
    "\n",
    "print('Original data shape:\\n', data.shape, '\\n')\n",
    "print(data.info())\n",
    "data.head(1)"
   ]
  },
  {
   "cell_type": "markdown",
   "metadata": {},
   "source": [
    "## Value counts by group and visit seq"
   ]
  },
  {
   "cell_type": "code",
   "execution_count": null,
   "metadata": {},
   "outputs": [],
   "source": [
    "data.groupby('VisitSeq')['Group'].value_counts()"
   ]
  },
  {
   "cell_type": "code",
   "execution_count": null,
   "metadata": {},
   "outputs": [],
   "source": [
    "visit_keep = [1,2]\n",
    "data_short = data[data['VisitSeq'].isin(visit_keep)]"
   ]
  },
  {
   "cell_type": "code",
   "execution_count": null,
   "metadata": {},
   "outputs": [],
   "source": [
    "columns_to_keep = ['Status_x', 'VisitSeq', 'Group', 'TBIID', 'EntityID', 'DOB', 'GType', 'Race', 'Hispanic', 'Handedness', \n",
    "                   'ScreenAge_x', 'Education', 'Marital', 'APOEGen', 'servconn', 'cestotal', 'MnthSncBlst', \n",
    "                   'QKOIorA', 'QKOExpMil', 'QKOAllMil', 'QKOLife', 'QBlstExp', 'QBEACRM', 'Q5plus2', \n",
    "                   'QEDist_sum', 'QEDist_mean', 'QEDist_min',\n",
    "                   'ACT18T', 'AnimalsT', 'BVTotReT', 'DkefInSS', 'CVT15FRT', 'LetFAST', 'W3LNSSS',\n",
    "                   'CvmtHitT', 'CvmtFaT', 'CvmtDprT', 'CvmtTotT', 'CvmtDelT',  \n",
    "                   'MTPMTPer', 'MT15Per', 'MTTCPer',\n",
    "                   'rffacct', 'rffdst', 'rffdat', 'rffsst', 'rffsat', 'rffspdt', \n",
    "                   'SDW90TS', 'TrailAT', 'TrailBT', 'WCSTPrsT',\n",
    "                   'auditc', 'AUDIT1', 'AUDIT2', 'AUDIT3', \n",
    "                   'DOPA', 'DA', 'DOPAC', 'NE', 'DHPG', 'da_dopa_ratio', 'dopac_da_ratio', 'ne_dopa_ratio', 'dhpg_ne_ratio',\n",
    "                   'HEIGHT', 'WEIGHT', 'BMI', 'BPSYS', 'BPDIAS', 'HRATE',\n",
    "                   'HYPERTEN', 'HYPERCHO', 'DIABETES', 'B12DEF', 'THYROID', \n",
    "                   'BGlucose', 'BNa', 'BUN', 'BCreat', 'BOsmo', 'UOsmo', 'USG', 'UNa', 'BK',\n",
    "                   'TotalChol', 'LDL', 'HDL', 'Trig',\n",
    "                   'CSFPROTEIN_x', 'CSFGLUCOSE', 'CSFRBCS',\n",
    "                   'MHxPain', 'MHxHA', 'MHxHtn', 'MHxCard', 'MHxGI', 'MHxNeuro', 'MHxLung', 'MHxApnea',\n",
    "                   'SCPTSD', 'SCMDD', 'SCPD', 'SCGAD', 'SCNone',\n",
    "                   'DvpHA', 'DvpHAAct', 'DvpHASlp', 'DvpHAMd', 'DvpHAStr', 'DvpBP',\n",
    "                   'DvpBPAct', 'DvpBPslp', 'DvpBPMd', 'DvpBPStr', \n",
    "                   'BISAtt', 'BISMtr', 'BISNonpl', 'BISTot',\n",
    "                   'capsCrtA', 'CAPSTotal', \n",
    "                   'PSQIc1', 'PSQIc2', 'PSQIc3', 'PSQIc4', 'PSQIc5', 'PSQIc6', 'PSQIc7', 'PSQITot',\n",
    "                   'PCLTot', 'PCL_reexp', 'PCL_avoid', 'PCL_numb', 'PCL_hyper',\n",
    "                   'PHQTot', 'PHQ_psych', 'PHQ_somatic',\n",
    "                   'NSITot', 'TBITot', 'NSI_vestibular', 'NSI_somatosensory', 'NSI_cognitive', 'NSI_affective', 'NSI_ERP_affective', 'NIS_ERP_vestsom',\n",
    "                   'Amygdala_l', 'Amygdala_r', 'Pallidum_l', 'Pallidum_r', 'Midbrain',\n",
    "                   'Plasma1_bFGF', 'Plasma1_CRP', 'Plasma1_Eotaxin', 'Plasma1_Eotaxin3', 'Plasma1_Flt1', 'Plasma1_ICAM1', 'Plasma1_IFNγ', 'Plasma1_IL10',\n",
    "                   'Plasma1_IL12_IL23p40', 'Plasma1_IL12p70', 'Plasma1_IL15',\n",
    "                   'Plasma1_IL16', 'Plasma1_IL17A', 'Plasma1_IL1α', 'Plasma1_IL6',\n",
    "                   'Plasma1_IL7', 'Plasma1_IL8', 'Plasma1_IP10', 'Plasma1_MCP1',\n",
    "                   'Plasma1_MCP4', 'Plasma1_MDC', 'Plasma1_MIP1α', 'Plasma1_MIP1β',\n",
    "                   'Plasma1_PlGF', 'Plasma1_SAA', 'Plasma1_TARC', 'Plasma1_Tie2',\n",
    "                   'Plasma1_TNFα', 'Plasma1_TNFβ', 'Plasma1_VCAM1', 'Plasma1_VEGF',\n",
    "                   'Plasma1_VEGFC', 'Plasma1_VEGFD']\n",
    "\n",
    "data_short = data_short[columns_to_keep]\n",
    "print(data_short.shape)"
   ]
  },
  {
   "cell_type": "markdown",
   "metadata": {},
   "source": [
    "## Explore missing across all TBIID"
   ]
  },
  {
   "cell_type": "code",
   "execution_count": null,
   "metadata": {},
   "outputs": [],
   "source": [
    "data.groupby(['VisitSeq', 'Group'])['ACT18T', 'AnimalsT', 'BVTotReT', 'DkefInSS', 'CVT15FRT', 'LetFAST', 'W3LNSSS',\n",
    "                   'CvmtHitT', 'CvmtFaT', 'CvmtDprT', 'CvmtTotT', 'CvmtDelT',  \n",
    "                   'MTPMTPer', 'MT15Per', 'MTTCPer',\n",
    "                   'rffacct', 'rffdst', 'rffdat', 'rffsst', 'rffsat', 'rffspdt', \n",
    "                   'SDW90TS'].count().mean(axis=1).reset_index(name='count')"
   ]
  },
  {
   "cell_type": "code",
   "execution_count": null,
   "metadata": {},
   "outputs": [],
   "source": [
    "data_counts = data.groupby(['VisitSeq', 'Group', 'TBIID'])['ACT18T', 'AnimalsT', 'BVTotReT', 'DkefInSS', 'CVT15FRT', 'LetFAST', 'W3LNSSS',\n",
    "                   'CvmtHitT', 'CvmtFaT', 'CvmtDprT', 'CvmtTotT', 'CvmtDelT',  \n",
    "                   'MTPMTPer', 'MT15Per', 'MTTCPer',\n",
    "                   'rffacct', 'rffdst', 'rffdat', 'rffsst', 'rffsat', 'rffspdt', \n",
    "                   'SDW90TS'].count().sum(axis=1).reset_index(name='count')\n",
    "\n",
    "data_counts"
   ]
  },
  {
   "cell_type": "code",
   "execution_count": null,
   "metadata": {},
   "outputs": [],
   "source": [
    "data_poi = data_short[['VisitSeq', 'Group', 'TBIID', 'ACT18T', 'AnimalsT', 'BVTotReT', 'DkefInSS', 'CVT15FRT', 'LetFAST', 'W3LNSSS',\n",
    "                   'CvmtHitT', 'CvmtFaT', 'CvmtDprT', 'CvmtTotT', 'CvmtDelT',  \n",
    "                   'MTPMTPer', 'MT15Per', 'MTTCPer',\n",
    "                   'rffacct', 'rffdst', 'rffdat', 'rffsst', 'rffsat', 'rffspdt', \n",
    "                   'SDW90TS']]\n",
    "msno.matrix(data_poi[data_poi['VisitSeq'] ==  2])"
   ]
  },
  {
   "cell_type": "markdown",
   "metadata": {},
   "source": [
    "## Explore missing across TBIID that had visitseq 2"
   ]
  },
  {
   "cell_type": "code",
   "execution_count": null,
   "metadata": {},
   "outputs": [],
   "source": [
    "#get TBIIDs of participants with a second visit and use to filter\n",
    "TBIID_v2 = data_poi[data_poi['VisitSeq'] == 2]['TBIID'].values\n",
    "\n",
    "#create new df with only participants who came to both visits 1 and 2\n",
    "data_poi_v2check = data_poi[data_poi['TBIID'].isin(TBIID_v2)]\n",
    "print(data_poi_v2check.groupby('VisitSeq')['Group'].value_counts())\n",
    "print(data_poi_v2check.shape)\n",
    "data_poi_v2check.head()"
   ]
  },
  {
   "cell_type": "code",
   "execution_count": null,
   "metadata": {},
   "outputs": [],
   "source": [
    "msno.matrix(data_poi_v2check[data_poi_v2check['VisitSeq'] ==  1])"
   ]
  },
  {
   "cell_type": "code",
   "execution_count": null,
   "metadata": {},
   "outputs": [],
   "source": []
  },
  {
   "cell_type": "code",
   "execution_count": null,
   "metadata": {},
   "outputs": [],
   "source": []
  },
  {
   "cell_type": "code",
   "execution_count": null,
   "metadata": {},
   "outputs": [],
   "source": []
  },
  {
   "cell_type": "code",
   "execution_count": null,
   "metadata": {},
   "outputs": [],
   "source": [
    "#determined outliers for auditc and QBlstExp (outlier = >3 SD from mean) and remove\n",
    "#data = data[data[\"TBIID\"] != 'C010']\n",
    "#data = data[data[\"TBIID\"] != 'T080']"
   ]
  }
 ],
 "metadata": {
  "kernelspec": {
   "display_name": "Python 3",
   "language": "python",
   "name": "python3"
  },
  "language_info": {
   "codemirror_mode": {
    "name": "ipython",
    "version": 3
   },
   "file_extension": ".py",
   "mimetype": "text/x-python",
   "name": "python",
   "nbconvert_exporter": "python",
   "pygments_lexer": "ipython3",
   "version": "3.6.10"
  },
  "toc": {
   "base_numbering": 1,
   "nav_menu": {},
   "number_sections": true,
   "sideBar": true,
   "skip_h1_title": false,
   "title_cell": "Table of Contents",
   "title_sidebar": "Contents",
   "toc_cell": false,
   "toc_position": {},
   "toc_section_display": true,
   "toc_window_display": true
  }
 },
 "nbformat": 4,
 "nbformat_minor": 2
}
