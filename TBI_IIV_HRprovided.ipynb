{
 "cells": [
  {
   "cell_type": "code",
   "execution_count": null,
   "metadata": {},
   "outputs": [],
   "source": [
    "#getting and working with data\n",
    "import pandas as pd\n",
    "import numpy as np\n",
    "import re\n",
    "import os\n",
    "import scipy as sp\n",
    "import missingno as msno\n",
    "\n",
    "from sklearn.preprocessing import Normalizer\n",
    "from sklearn.preprocessing import StandardScaler\n",
    "from sklearn.preprocessing import RobustScaler\n",
    "\n",
    "#visualizing results\n",
    "import matplotlib.pyplot as plt\n",
    "from matplotlib.patches import Patch\n",
    "%matplotlib inline\n",
    "import seaborn as sns\n",
    "sns.set_context('poster')\n",
    "\n",
    "pd.set_option('display.max_rows', 10000)\n",
    "pd.set_option('display.max_columns', 10000)\n",
    "pd.set_option('display.width', 10000)\n",
    "pd.set_option('display.max_colwidth', -1)\n",
    "\n",
    "import warnings; warnings.simplefilter('ignore')\n",
    "np.set_printoptions(suppress=True)"
   ]
  },
  {
   "cell_type": "code",
   "execution_count": null,
   "metadata": {},
   "outputs": [],
   "source": [
    "data_path = 'C:/Users/Schindler/Documents/Schindler_Lab/Data/Clinical projects/PeskindTBI/final_data/Methods Paper DB_Deidentified for Abbie_5.5.20.xlsx'"
   ]
  },
  {
   "cell_type": "code",
   "execution_count": null,
   "metadata": {},
   "outputs": [],
   "source": [
    "#read in csv containing data from all surveys and all visitseqs\n",
    "data = pd.read_excel(data_path)\n",
    "data = pd.DataFrame(data = data)\n",
    "\n",
    "print('Original data shape:\\n', data.shape, '\\n')\n",
    "print(data.info())\n",
    "data.head(1)"
   ]
  },
  {
   "cell_type": "markdown",
   "metadata": {},
   "source": [
    "## Value counts by group and visit seq"
   ]
  },
  {
   "cell_type": "code",
   "execution_count": null,
   "metadata": {},
   "outputs": [],
   "source": [
    "data.groupby('VisitSeq')['Group'].value_counts()"
   ]
  },
  {
   "cell_type": "code",
   "execution_count": null,
   "metadata": {},
   "outputs": [],
   "source": [
    "visit_keep = [1,2]\n",
    "data_short = data[data['VisitSeq'].isin(visit_keep)]"
   ]
  },
  {
   "cell_type": "code",
   "execution_count": null,
   "metadata": {},
   "outputs": [],
   "source": [
    "#find and fix other forms of nan's\n",
    "data_short = data_short.replace({-20.0: np.nan, -920.0: np.nan, -999.0: np.nan})\n",
    "print(data_short.shape)\n",
    "data_short.describe()"
   ]
  },
  {
   "cell_type": "markdown",
   "metadata": {},
   "source": [
    "## Explore visit1 vs visit2"
   ]
  },
  {
   "cell_type": "code",
   "execution_count": null,
   "metadata": {},
   "outputs": [],
   "source": [
    "#get TBIIDs of participants with a second visit and use to filter\n",
    "TBIID_v2 = data_short[data_short['VisitSeq'] == 2]['ID_CODE'].values\n",
    "\n",
    "#add note for participant if came for visit 2\n",
    "data_short['Visit2'] = [1 if x in TBIID_v2 else 0 for x in data_short['ID_CODE']]"
   ]
  },
  {
   "cell_type": "code",
   "execution_count": null,
   "metadata": {
    "scrolled": true
   },
   "outputs": [],
   "source": [
    "poi = ['ACT18T', 'AnimalsT', 'BVTotReT',\n",
    "       'CVT15FRT', 'LetFAST', 'W3LNST', 'rffspdt', 'SDW90TS', 'TrailAT',\n",
    "       'TrailBT', 'WCSTPrsT']\n",
    "\n",
    "for param in poi:\n",
    "    sns.catplot(x='VisitSeq', y=param, data=data_short, kind='bar', hue='Group', col='Visit2')\n",
    "    plt.show()"
   ]
  },
  {
   "cell_type": "markdown",
   "metadata": {},
   "source": [
    "## Explore missing across all TBIID"
   ]
  },
  {
   "cell_type": "code",
   "execution_count": null,
   "metadata": {},
   "outputs": [],
   "source": [
    "poi = ['ACT18T', 'AnimalsT', 'BVTotReT',\n",
    "       'CVT15FRT', 'LetFAST', 'W3LNST', 'rffspdt', 'SDW90TS', 'TrailAT',\n",
    "       'TrailBT', 'WCSTPrsT']\n",
    "\n",
    "data_poi = data_short[['ID_CODE', 'VisitSeq', 'Visit2', 'Group', 'ACT18T', 'AnimalsT', 'BVTotReT',\n",
    "       'CVT15FRT', 'LetFAST', 'W3LNST', 'rffspdt', 'SDW90TS', 'TrailAT',\n",
    "       'TrailBT', 'WCSTPrsT']]\n",
    "\n",
    "data_poi.groupby(['VisitSeq', 'Group']).count().reset_index()"
   ]
  },
  {
   "cell_type": "markdown",
   "metadata": {},
   "source": [
    "### Percent response"
   ]
  },
  {
   "cell_type": "code",
   "execution_count": null,
   "metadata": {},
   "outputs": [],
   "source": [
    "data_poi_counts = data_poi.groupby(['VisitSeq', 'Group'])[poi].count().mean(axis=1).reset_index(name='count_mean')\n",
    "data_poi_counts['count_mean_perc'] = data_poi_counts['count_mean'] / data_poi.groupby(['VisitSeq', 'Group'])['ID_CODE'].count().reset_index(name='count_n')['count_n']\n",
    "data_poi_counts"
   ]
  },
  {
   "cell_type": "markdown",
   "metadata": {},
   "source": [
    "### Pariticpant count summary with nans vs without"
   ]
  },
  {
   "cell_type": "code",
   "execution_count": null,
   "metadata": {},
   "outputs": [],
   "source": [
    "print('Counts including nans: \\n', data_poi.groupby('VisitSeq')['Group'].value_counts(), '\\n')\n",
    "data_poi_nonan = data_poi.dropna(axis=0)\n",
    "print('Counts excluding nans: \\n', data_poi_nonan.groupby('VisitSeq')['Group'].value_counts())"
   ]
  },
  {
   "cell_type": "markdown",
   "metadata": {},
   "source": [
    "### Pariticpant counts by TBIID"
   ]
  },
  {
   "cell_type": "code",
   "execution_count": null,
   "metadata": {},
   "outputs": [],
   "source": [
    "print('Total poi: ', len(poi))\n",
    "data_poi.groupby(['VisitSeq', 'Group', 'ID_CODE'])[poi].count().sum(axis=1).reset_index(name='count')"
   ]
  },
  {
   "cell_type": "markdown",
   "metadata": {},
   "source": [
    "### Missingno viz VisitSeq 1"
   ]
  },
  {
   "cell_type": "code",
   "execution_count": null,
   "metadata": {},
   "outputs": [],
   "source": [
    "msno.matrix(data_poi[data_poi['VisitSeq'] ==  1])"
   ]
  },
  {
   "cell_type": "code",
   "execution_count": null,
   "metadata": {},
   "outputs": [],
   "source": [
    "msno.bar(data_poi[data_poi['VisitSeq'] ==  1])"
   ]
  },
  {
   "cell_type": "code",
   "execution_count": null,
   "metadata": {},
   "outputs": [],
   "source": [
    "msno.heatmap(data_poi[data_poi['VisitSeq'] ==  1])"
   ]
  },
  {
   "cell_type": "markdown",
   "metadata": {},
   "source": [
    "### Missingno viz VisitSeq 2"
   ]
  },
  {
   "cell_type": "code",
   "execution_count": null,
   "metadata": {},
   "outputs": [],
   "source": [
    "msno.matrix(data_poi[data_poi['VisitSeq'] ==  2])"
   ]
  },
  {
   "cell_type": "markdown",
   "metadata": {},
   "source": [
    "## Explore missing across TBIID that had visitseq 2"
   ]
  },
  {
   "cell_type": "code",
   "execution_count": null,
   "metadata": {},
   "outputs": [],
   "source": [
    "#get TBIIDs of participants with a second visit and use to filter\n",
    "TBIID_v2 = data_poi[data_poi['VisitSeq'] == 2]['ID_CODE'].values\n",
    "\n",
    "#create new df with only participants who came to both visits 1 and 2\n",
    "data_poi_v2check = data_poi[data_poi['ID_CODE'].isin(TBIID_v2)]\n",
    "print(data_poi_v2check.groupby('VisitSeq')['Group'].value_counts())\n",
    "print(data_poi_v2check.shape)\n",
    "data_poi_v2check.head()"
   ]
  },
  {
   "cell_type": "code",
   "execution_count": null,
   "metadata": {},
   "outputs": [],
   "source": [
    "msno.matrix(data_poi_v2check[data_poi_v2check['VisitSeq'] ==  1])"
   ]
  },
  {
   "cell_type": "markdown",
   "metadata": {},
   "source": [
    "## Fill visit seq 1 missing with data from visit seq 2"
   ]
  },
  {
   "cell_type": "code",
   "execution_count": null,
   "metadata": {},
   "outputs": [],
   "source": [
    "#find ID_CODEs where there is more data in visit seq2 than seq1\n",
    "max_data_v12 = []\n",
    "#find IDs that had second visit and get count of answers for each visit\n",
    "v12_count = data_poi[data_poi['ID_CODE'].isin(TBIID_v2)].groupby(['ID_CODE', 'VisitSeq']).count().sum(axis=1).reset_index(name='count')\n",
    "#create new df\n",
    "data_short_comb = pd.DataFrame()\n",
    "for partic in data_poi['ID_CODE'].unique():\n",
    "    #if participant has data from each visit\n",
    "    if partic in v12_count['ID_CODE'].unique():\n",
    "        #determine which visit seq has more answers\n",
    "        if v12_count[v12_count['ID_CODE'] == partic]['ID_CODE'].shape[0] == 1:\n",
    "            data_short_comb = data_short_comb.append(data_poi[(data_poi['VisitSeq'] == 2) & (data_poi['ID_CODE'] == partic)], ignore_index=True)\n",
    "        elif v12_count[(v12_count['VisitSeq'] == 1) & (v12_count['ID_CODE'] == partic)]['count'].values < v12_count[(v12_count['VisitSeq'] == 2) & (v12_count['ID_CODE'] == partic)]['count'].values:\n",
    "            data_short_comb = data_short_comb.append(data_poi[(data_poi['VisitSeq'] == 2) & (data_poi['ID_CODE'] == partic)], ignore_index=True)\n",
    "        else:\n",
    "            data_short_comb = data_short_comb.append(data_poi[(data_poi['VisitSeq'] == 1) & (data_poi['ID_CODE'] == partic)], ignore_index=True)\n",
    "    else:\n",
    "        data_short_comb = data_short_comb.append(data_poi[(data_poi['VisitSeq'] == 1) & (data_poi['ID_CODE'] == partic)], ignore_index=True)\n",
    "\n",
    "print(len(data_poi['ID_CODE'].unique()))\n",
    "print(len(data_short_comb['ID_CODE'].unique()))\n",
    "data_short_comb"
   ]
  },
  {
   "cell_type": "code",
   "execution_count": null,
   "metadata": {},
   "outputs": [],
   "source": [
    "data_short_comb_nonan = data_short_comb.dropna(axis=0)\n",
    "print('Counts excluding nans: \\n', data_short_comb_nonan['Group'].value_counts())"
   ]
  },
  {
   "cell_type": "markdown",
   "metadata": {},
   "source": [
    "## Explore IIV data"
   ]
  },
  {
   "cell_type": "markdown",
   "metadata": {},
   "source": [
    "### Vis potential group differences in distribution across poi's"
   ]
  },
  {
   "cell_type": "code",
   "execution_count": null,
   "metadata": {},
   "outputs": [],
   "source": [
    "for var in poi:\n",
    "    print(var)\n",
    "    sns.distplot(data_poi[(data_poi['VisitSeq'] == 1) & (data_poi['Group'] == 0)][var].dropna())\n",
    "    sns.distplot(data_poi[(data_poi['VisitSeq'] == 1) & (data_poi['Group'] == 1)][var].dropna())\n",
    "    plt.show()"
   ]
  },
  {
   "cell_type": "markdown",
   "metadata": {},
   "source": [
    "### Tidy df with poi type as new column"
   ]
  },
  {
   "cell_type": "code",
   "execution_count": null,
   "metadata": {},
   "outputs": [],
   "source": [
    "#create tidy df with IIV params melt\n",
    "meta_params = ['VisitSeq', 'Group', 'ID']\n",
    "IIV_parmas = ['tommtot1', 'tommtot2', 'tommret',\n",
    "       'ACT18T', 'AnimalsT', 'BVTotReT', 'DkefInSS', 'CVT15FRT',\n",
    "       'CvmtHitT', 'CvmtFaT', 'CvmtDprT', 'CvmtTotT', 'CvmtDelT',\n",
    "       'LetFAST', 'W3LNSSS', 'MTPMTPer', 'MT15Per', 'MTTCPer', 'rffdst',\n",
    "       'rffdat', 'rffsst', 'rffsat', 'rffspdt', 'rffacct', 'SDW90TS',\n",
    "       'TrailAT', 'TrailBT', 'WCSTPrsT']\n",
    "data_poi_tidy = pd.melt(data_poi, id_vars=meta_params, value_vars=IIV_parmas)\n",
    "print(data_poi_tidy.shape)\n",
    "data_poi_tidy.head()"
   ]
  },
  {
   "cell_type": "markdown",
   "metadata": {},
   "source": [
    "### Violin plot viz"
   ]
  },
  {
   "cell_type": "code",
   "execution_count": null,
   "metadata": {
    "scrolled": false
   },
   "outputs": [],
   "source": [
    "sns.catplot(x=\"variable\", y=\"value\", hue=\"Group\",\n",
    "            kind=\"violin\", inner=\"stick\", split=True,\n",
    "            palette=\"pastel\", data=data_poi_tidy[data_poi_tidy['VisitSeq'] == 1], height=15, aspect=3)"
   ]
  },
  {
   "cell_type": "code",
   "execution_count": null,
   "metadata": {
    "scrolled": false
   },
   "outputs": [],
   "source": [
    "sns.catplot(x=\"variable\", y=\"value\", hue=\"Group\",\n",
    "            kind=\"violin\", inner=\"stick\", split=True,\n",
    "            palette=\"pastel\", data=data_poi_tidy[data_poi_tidy['VisitSeq'] == 2], height=15, aspect=3)"
   ]
  },
  {
   "cell_type": "markdown",
   "metadata": {},
   "source": [
    "## z-score"
   ]
  },
  {
   "cell_type": "markdown",
   "metadata": {},
   "source": [
    "### RobustScalar including nans visit seq 1"
   ]
  },
  {
   "cell_type": "code",
   "execution_count": null,
   "metadata": {},
   "outputs": [],
   "source": [
    "# center and scale the data\n",
    "scaler = RobustScaler()\n",
    "\n",
    "meta_col = ['VisitSeq', 'Group', 'ID_CODE']\n",
    "poi_col = ['ACT18T', 'AnimalsT', 'BVTotReT',\n",
    "       'CVT15FRT', 'LetFAST', 'W3LNST', 'rffspdt', 'SDW90TS', 'TrailAT',\n",
    "       'TrailBT', 'WCSTPrsT']\n",
    "\n",
    "#visit 1 first\n",
    "data_poi_v1 = data_poi[data_poi['VisitSeq'] == 1]\n",
    "#scale data\n",
    "data_poi_scaled = scaler.fit_transform(data_poi_v1[poi_col])\n",
    "data_poi_scaled = pd.DataFrame(data=data_poi_scaled, columns=poi)\n",
    "data_poi_scaled = pd.concat([data_poi_v1[meta_col].reset_index(), data_poi_scaled], ignore_index=False, axis=1)\n",
    "\n",
    "#comput std per TBIID\n",
    "data_poi_scaled['std'] = data_poi_scaled[poi_col].std(axis=1)\n",
    "#comput  maximum discrepancy per TBIID\n",
    "data_poi_scaled['md'] = data_poi_scaled[poi_col].max(axis=1) - data_poi_scaled[poi_col].min(axis=1)\n",
    "\n",
    "print(data_poi_scaled.shape)\n",
    "data_poi_scaled.head(1)"
   ]
  },
  {
   "cell_type": "code",
   "execution_count": null,
   "metadata": {},
   "outputs": [],
   "source": [
    "sns.catplot(x=\"Group\", y=\"std\", \n",
    "            kind=\"bar\", data=data_poi_scaled, ci=68)"
   ]
  },
  {
   "cell_type": "code",
   "execution_count": null,
   "metadata": {},
   "outputs": [],
   "source": [
    "sns.catplot(x=\"Group\", y=\"md\", \n",
    "            kind=\"bar\", data=data_poi_scaled, ci=68)"
   ]
  },
  {
   "cell_type": "markdown",
   "metadata": {},
   "source": [
    "### IIV corrs"
   ]
  },
  {
   "cell_type": "code",
   "execution_count": null,
   "metadata": {},
   "outputs": [],
   "source": [
    "data_poi_scaled.corr()[['std', 'md']]"
   ]
  },
  {
   "cell_type": "code",
   "execution_count": null,
   "metadata": {},
   "outputs": [],
   "source": [
    "data_short_v1 = data_short[data_short['VisitSeq'] == 1]\n",
    "data_short_v1['std'] = data_poi_scaled['std']\n",
    "data_short_v1['md'] = data_poi_scaled['md']\n",
    "data_short_v1.head()"
   ]
  },
  {
   "cell_type": "code",
   "execution_count": null,
   "metadata": {},
   "outputs": [],
   "source": [
    "data_short_v1.corr()['std']"
   ]
  },
  {
   "cell_type": "markdown",
   "metadata": {},
   "source": [
    "### RobustScalar no nans visit seq 1"
   ]
  },
  {
   "cell_type": "code",
   "execution_count": null,
   "metadata": {},
   "outputs": [],
   "source": [
    "# center and scale the data\n",
    "scaler = RobustScaler()\n",
    "\n",
    "#visit 1 first\n",
    "data_poi_v1_nonan = data_poi[data_poi['VisitSeq'] == 1].dropna(axis=0)\n",
    "#scale data\n",
    "data_poi_scaled_nonan = scaler.fit_transform(data_poi_v1_nonan[poi_col])\n",
    "data_poi_scaled_nonan = pd.DataFrame(data=data_poi_scaled_nonan, columns=poi)\n",
    "data_poi_scaled_nonan = pd.concat([data_poi_v1_nonan[meta_col].reset_index(), data_poi_scaled_nonan], ignore_index=False, axis=1)\n",
    "\n",
    "#comput std per TBIID\n",
    "data_poi_scaled_nonan['std'] = data_poi_scaled_nonan[poi_col].std(axis=1)\n",
    "#comput  maximum discrepancy per TBIID\n",
    "data_poi_scaled_nonan['md'] = data_poi_scaled_nonan[poi_col].max(axis=1) - data_poi_scaled_nonan[poi_col].min(axis=1)\n",
    "\n",
    "print(data_poi_scaled_nonan.shape)\n",
    "data_poi_scaled_nonan.head(1)"
   ]
  },
  {
   "cell_type": "code",
   "execution_count": null,
   "metadata": {},
   "outputs": [],
   "source": [
    "sns.catplot(x=\"Group\", y=\"std\", \n",
    "            kind=\"bar\", data=data_poi_scaled_nonan, ci=68)"
   ]
  },
  {
   "cell_type": "code",
   "execution_count": null,
   "metadata": {},
   "outputs": [],
   "source": [
    "sns.catplot(x=\"Group\", y=\"md\", \n",
    "            kind=\"bar\", data=data_poi_scaled_nonan, ci=68)"
   ]
  },
  {
   "cell_type": "code",
   "execution_count": null,
   "metadata": {},
   "outputs": [],
   "source": [
    "#determined outliers for auditc and QBlstExp (outlier = >3 SD from mean) and remove\n",
    "#data = data[data[\"TBIID\"] != 'C010']\n",
    "#data = data[data[\"TBIID\"] != 'T080']"
   ]
  }
 ],
 "metadata": {
  "kernelspec": {
   "display_name": "Python 3",
   "language": "python",
   "name": "python3"
  },
  "language_info": {
   "codemirror_mode": {
    "name": "ipython",
    "version": 3
   },
   "file_extension": ".py",
   "mimetype": "text/x-python",
   "name": "python",
   "nbconvert_exporter": "python",
   "pygments_lexer": "ipython3",
   "version": "3.6.10"
  },
  "toc": {
   "base_numbering": 1,
   "nav_menu": {},
   "number_sections": true,
   "sideBar": true,
   "skip_h1_title": false,
   "title_cell": "Table of Contents",
   "title_sidebar": "Contents",
   "toc_cell": false,
   "toc_position": {},
   "toc_section_display": true,
   "toc_window_display": true
  }
 },
 "nbformat": 4,
 "nbformat_minor": 2
}
