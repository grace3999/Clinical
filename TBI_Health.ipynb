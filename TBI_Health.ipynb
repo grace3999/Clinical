{
 "cells": [
  {
   "cell_type": "code",
   "execution_count": null,
   "metadata": {},
   "outputs": [],
   "source": [
    "#getting and working with data\n",
    "import pandas as pd\n",
    "import numpy as np\n",
    "import re\n",
    "import os\n",
    "import scipy as sp\n",
    "\n",
    "#visualizing results\n",
    "import matplotlib.pyplot as plt\n",
    "%matplotlib inline\n",
    "import seaborn as sns\n",
    "sns.set_context(\"poster\")\n",
    "sns.set_style(\"ticks\")\n",
    "#import yellowbrick as yb\n",
    "\n",
    "pd.set_option('display.max_rows', 500)\n",
    "pd.set_option('display.max_columns', 500)\n",
    "pd.set_option('display.width', 1000)\n",
    "\n",
    "import warnings; warnings.simplefilter('ignore')\n",
    "np.set_printoptions(suppress=True)\n",
    "\n",
    "from sklearn.preprocessing import StandardScaler\n",
    "from sklearn.cluster import KMeans\n",
    "from sklearn.metrics.cluster import silhouette_score\n",
    "from sklearn.decomposition import KernelPCA\n",
    "from sklearn.decomposition import PCA\n",
    "from sklearn.manifold import TSNE\n",
    "\n",
    "import scipy.cluster.hierarchy as shc\n",
    "\n",
    "from kmodes.kmodes import KModes"
   ]
  },
  {
   "cell_type": "code",
   "execution_count": null,
   "metadata": {},
   "outputs": [],
   "source": [
    "data_path = 'C:/Users/Schindler/Documents/Schindler_Lab/Data/Clinical projects/PeskindTBI/final_data/first_visits_short.csv'"
   ]
  },
  {
   "cell_type": "code",
   "execution_count": null,
   "metadata": {},
   "outputs": [],
   "source": [
    "#read in csv containing data from all surveys and all visitseqs\n",
    "data = pd.read_csv(data_path, index_col=0)\n",
    "data = pd.DataFrame(data = data)\n",
    "\n",
    "print('Original data shape:\\n', data.shape, '\\n')\n",
    "print(data.info())\n",
    "data.head(1)"
   ]
  },
  {
   "cell_type": "code",
   "execution_count": null,
   "metadata": {},
   "outputs": [],
   "source": [
    "#determined outliers for auditc and QBlstExp (outlier = >3 SD from mean) and remove\n",
    "data = data[data[\"TBIID\"] != 'C010']\n",
    "data = data[data[\"TBIID\"] != 'T080']"
   ]
  },
  {
   "cell_type": "code",
   "execution_count": null,
   "metadata": {},
   "outputs": [],
   "source": [
    "#create variable lists depending on data type for graphing purposes\n",
    "\n",
    "data_cont = ['ScreenAge', 'Education', 'servconn', 'cestotal',\n",
    "       'MnthSncBlst', 'QKOIorA', 'QKOExpMil', 'QKOAllMil', 'QKOLife',\n",
    "       'QBlstExp', 'QBEACRM', 'Q5plus2', 'QEDist_sum', 'QEDist_mean',\n",
    "       'QEDist_min', 'DOPA', 'DA', 'DOPAC', 'NE', 'DHPG', 'da_dopa_ratio', 'dopac_da_ratio',\n",
    "       'ne_dopa_ratio', 'dhpg_ne_ratio', 'HEIGHT', 'WEIGHT', 'BMI',\n",
    "       'BPSYS', 'BPDIAS', 'HRATE', 'BGlucose', 'BNa', 'BUN', 'BCreat', 'UNa',\n",
    "       'BK', 'TotalChol', 'LDL', 'HDL', 'Trig', 'CSFPROTEIN_x',\n",
    "       'CSFGLUCOSE', 'CSFRBCS',  \n",
    "       'CAPSTotal', 'PSQIc1', 'PSQIc2', 'PSQIc3', 'PSQIc4', 'PSQIc5',\n",
    "       'PSQIc6', 'PSQIc7', 'PSQItot', 'PCLTot', 'PCL_reexp', 'PCL_avoid',\n",
    "       'PCL_numb', 'PCL_hyper', 'PHQTot', 'PHQ_psych', 'PHQ_somatic',\n",
    "       'NSITot', 'TBITot', 'NSI_vestibular', 'NSI_somatosensory',\n",
    "       'NSI_cognitive', 'NSI_affective', 'NSI_ERP_affective',\n",
    "       'NIS_ERP_vestsom', 'DvpHA', 'DvpHAAct', 'DvpHASlp',\n",
    "       'DvpHAMd', 'DvpHAStr', 'DvpBP', 'DvpBPAct', 'DvpBPslp', 'DvpBPMd',\n",
    "       'DvpBPStr', 'BISAtt', 'BISMtr', 'BISNonpl', 'BISTot',\n",
    "             'PreSleep', 'PreCaff', 'PreETOH', 'PreNic', 'PreTHC']\n",
    "\n",
    "data_cat = ['Status_x', 'VisitSeq', 'GType', 'Race', 'Hispanic', 'Handedness', 'Marital', 'APOEGen', \n",
    "           'HYPERTEN', 'HYPERCHO', 'DIABETES', 'B12DEF', 'THYROID',\n",
    "           'MHxPain', 'MHxHA', 'MHxHtn', 'MHxCard', 'MHxGI', 'MHxNeuro', 'MHxLung', 'MHxApnea', \n",
    "            'SCPTSD', 'SCMDD', 'SCPD', 'SCGAD', 'SCNone', 'capsCrtA']\n",
    "\n",
    "data_audit = ['auditc', 'AUDIT1', 'AUDIT2', 'AUDIT3']"
   ]
  },
  {
   "cell_type": "code",
   "execution_count": null,
   "metadata": {
    "scrolled": true
   },
   "outputs": [],
   "source": [
    "#viz for first visit seq\n",
    "\n",
    "data_v1 = data[data['VisitSeq'] == 1]\n",
    "\n",
    "for param in data_cat:\n",
    "    print(param)\n",
    "\n",
    "    data_int = (data_v1[data_v1[param] != 9].groupby('Group')[param].value_counts() /\n",
    "                data_v1[data_v1[param] != 9].groupby('Group')[param].count()).reset_index(name='perc')\n",
    "        \n",
    "    try:\n",
    "        g = sns.catplot(x=param, y='perc', kind='bar', data=data_int, hue='Group', ci=68, height=5, aspect=4)\n",
    "        plt.show()\n",
    "        \n",
    "        print('\\n')\n",
    "        \n",
    "    except:\n",
    "        pass\n",
    "    \n",
    "for param in data_audit:\n",
    "    print(param)\n",
    "\n",
    "    data_int = (data.groupby('Group')[param].value_counts() /\n",
    "                        data.groupby('Group')[param].count()).reset_index(name='perc')\n",
    "        \n",
    "    try:\n",
    "        g = sns.catplot(x=param, y='perc', kind='bar', data=data_int, hue='Group', ci=68, height=5, aspect=4)\n",
    "        plt.show()\n",
    "        \n",
    "        print('\\n')\n",
    "        \n",
    "    except:\n",
    "        pass\n",
    "    \n",
    "for param in data_cont:\n",
    "    print(param)\n",
    "    \n",
    "    try:\n",
    "        g = sns.catplot(x='Group', y=param, kind='bar', data=data_v1, ci=68, height=5, aspect=4)\n",
    "        plt.show()\n",
    "        \n",
    "        print('\\n')\n",
    "        \n",
    "    except:\n",
    "        pass"
   ]
  },
  {
   "cell_type": "markdown",
   "metadata": {},
   "source": [
    "### EDA and viz for followup visits and health outcomes"
   ]
  },
  {
   "cell_type": "code",
   "execution_count": null,
   "metadata": {},
   "outputs": [],
   "source": [
    "#exclude 3rd visit seq\n",
    "visits = [1,2]\n",
    "data_v12 = data[data['VisitSeq'].isin(visits)]\n",
    "#get TBIIDs of participants with a second visit and use to filter\n",
    "TBIID_v2 = data_v12[data_v12['VisitSeq'] == 2]['TBIID'].values\n",
    "\n",
    "#create new column for if came to second visitseq - want to see if params at visitseq 1 map on to whether they came back again\n",
    "data_v12['visit2'] = [1 if TBIID in TBIID_v2 else 0 for TBIID in data_v12['TBIID']]\n",
    "\n",
    "#create new df with only participants who came to both visits 1 and 2\n",
    "data_v12_only = data_v12[data_v12['TBIID'].isin(TBIID_v2)]\n",
    "print(data_v12_only.shape)\n",
    "print(data_v12_only.groupby(['VisitSeq', 'Group'])['Group'].value_counts())\n",
    "data_v12_only.head()"
   ]
  },
  {
   "cell_type": "code",
   "execution_count": null,
   "metadata": {
    "scrolled": true
   },
   "outputs": [],
   "source": [
    "#viz visit 1 and 2 (only include participants who came to both visits)\n",
    "\n",
    "for param in data_cat:\n",
    "    print(param)\n",
    "\n",
    "    try:\n",
    "        data_int = (data_v12_only[data_v12_only[param] != 9].groupby(['Group', 'VisitSeq'])[param].value_counts() /\n",
    "                data_v12_only[data_v12_only[param] != 9].groupby(['Group', 'VisitSeq'])[param].count()).reset_index(name='perc')\n",
    "        \n",
    "        g = sns.catplot(x=param, y='perc', kind='bar', data=data_int, hue='Group', ci=68, height=5, aspect=4, col='VisitSeq', col_wrap=1)\n",
    "        plt.show()\n",
    "        \n",
    "        print('\\n')\n",
    "        \n",
    "    except:\n",
    "        pass\n",
    "    \n",
    "for param in data_audit:\n",
    "    print(param)\n",
    "\n",
    "    data_int = (data_v12_only.groupby(['Group', 'VisitSeq'])[param].value_counts() /\n",
    "                        data_v12_only.groupby(['Group', 'VisitSeq'])[param].count()).reset_index(name='perc')\n",
    "        \n",
    "    try:\n",
    "        g = sns.catplot(x=param, y='perc', kind='bar', data=data_int, hue='Group', ci=68, height=5, aspect=4, col='VisitSeq', col_wrap=1)\n",
    "        plt.show()\n",
    "        \n",
    "        print('\\n')\n",
    "        \n",
    "    except:\n",
    "        pass\n",
    "    \n",
    "for param in data_cont:\n",
    "    print(param)\n",
    "    \n",
    "    try:\n",
    "        g = sns.catplot(x='Group', y=param, kind='bar', hue='VisitSeq', data=data_v12_only, ci=68, height=5, aspect=4)\n",
    "        plt.show()\n",
    "        \n",
    "        print('\\n')\n",
    "        \n",
    "    except:\n",
    "        pass"
   ]
  },
  {
   "cell_type": "raw",
   "metadata": {},
   "source": []
  },
  {
   "cell_type": "code",
   "execution_count": null,
   "metadata": {},
   "outputs": [],
   "source": []
  },
  {
   "cell_type": "code",
   "execution_count": null,
   "metadata": {},
   "outputs": [],
   "source": []
  },
  {
   "cell_type": "code",
   "execution_count": null,
   "metadata": {},
   "outputs": [],
   "source": []
  }
 ],
 "metadata": {
  "kernelspec": {
   "display_name": "Python 3",
   "language": "python",
   "name": "python3"
  },
  "language_info": {
   "codemirror_mode": {
    "name": "ipython",
    "version": 3
   },
   "file_extension": ".py",
   "mimetype": "text/x-python",
   "name": "python",
   "nbconvert_exporter": "python",
   "pygments_lexer": "ipython3",
   "version": "3.6.9"
  }
 },
 "nbformat": 4,
 "nbformat_minor": 2
}
