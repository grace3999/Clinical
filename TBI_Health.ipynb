{
 "cells": [
  {
   "cell_type": "code",
   "execution_count": null,
   "metadata": {},
   "outputs": [],
   "source": [
    "#getting and working with data\n",
    "import pandas as pd\n",
    "import numpy as np\n",
    "import re\n",
    "import os\n",
    "import scipy as sp\n",
    "\n",
    "#visualizing results\n",
    "import matplotlib.pyplot as plt\n",
    "from matplotlib.patches import Patch\n",
    "%matplotlib inline\n",
    "import seaborn as sns\n",
    "sns.set_context('poster')\n",
    "\n",
    "pd.set_option('display.max_rows', 500)\n",
    "pd.set_option('display.max_columns', 500)\n",
    "pd.set_option('display.width', 1000)\n",
    "\n",
    "import warnings; warnings.simplefilter('ignore')\n",
    "np.set_printoptions(suppress=True)\n",
    "\n",
    "from sklearn.preprocessing import StandardScaler\n",
    "from sklearn.preprocessing import MinMaxScaler\n",
    "from sklearn.preprocessing import RobustScaler\n",
    "from sklearn.metrics import silhouette_score, davies_bouldin_score\n",
    "from sklearn.manifold import TSNE\n",
    "\n",
    "from sklearn.cluster import KMeans\n",
    "from sklearn_extra.cluster import KMedoids\n",
    "from kmodes.kmodes import KModes\n",
    "\n",
    "from sklearn.mixture import GaussianMixture\n",
    "\n",
    "import scipy.cluster.hierarchy as shc\n",
    "\n",
    "from minisom import MiniSom"
   ]
  },
  {
   "cell_type": "code",
   "execution_count": null,
   "metadata": {},
   "outputs": [],
   "source": [
    "data_path = 'C:/Users/Schindler/Documents/Schindler_Lab/Data/Clinical projects/PeskindTBI/final_data/first_visits_short.csv'\n",
    "praz_path = 'C:/Users/Schindler/Documents/Schindler_Lab/Data/Clinical projects/PeskindTBI/praz_data.xlsx'"
   ]
  },
  {
   "cell_type": "code",
   "execution_count": null,
   "metadata": {},
   "outputs": [],
   "source": [
    "#read in csv containing data from all surveys and all visitseqs\n",
    "data = pd.read_csv(data_path, index_col=0)\n",
    "data = pd.DataFrame(data = data)\n",
    "\n",
    "data['group_num'] = data['Group'].replace({'C': 0, 'T': 1})\n",
    "\n",
    "print('Original data shape:\\n', data.shape, '\\n')\n",
    "print(data.info())\n",
    "data.head(1)"
   ]
  },
  {
   "cell_type": "code",
   "execution_count": null,
   "metadata": {},
   "outputs": [],
   "source": [
    "#select which groups to viz\n",
    "TBIID_to_keep = ['C', 'T']\n",
    "print(data['Group'].value_counts())\n",
    "data = data[data['Group'].isin(TBIID_to_keep)]\n",
    "print(data['Group'].value_counts())"
   ]
  },
  {
   "cell_type": "code",
   "execution_count": null,
   "metadata": {},
   "outputs": [],
   "source": [
    "#determined outliers for auditc and QBlstExp (outlier = >3 SD from mean) and remove\n",
    "#data = data[data[\"TBIID\"] != 'C010']\n",
    "data = data[data[\"TBIID\"] != 'T080']"
   ]
  },
  {
   "cell_type": "code",
   "execution_count": null,
   "metadata": {},
   "outputs": [],
   "source": [
    "#create bins\n",
    "BMI_bin = []\n",
    "for value in data['BMI'].values:\n",
    "    if value <= 20:\n",
    "        BMI_bin.append(20)\n",
    "    elif 20 <= value <= 25:\n",
    "        BMI_bin.append(25)\n",
    "    elif 25 <= value <= 30:\n",
    "        BMI_bin.append(30)\n",
    "    elif 30 <= value <= 35:\n",
    "        BMI_bin.append(35)\n",
    "    elif value >= 35:\n",
    "        BMI_bin.append(40)\n",
    "    else: \n",
    "        BMI_bin.append(np.nan)\n",
    "\n",
    "print(len(BMI_bin))\n",
    "print(data.shape)\n",
    "data['BMI_bin'] = BMI_bin"
   ]
  },
  {
   "cell_type": "code",
   "execution_count": null,
   "metadata": {},
   "outputs": [],
   "source": [
    "#cholesterol related measures \n",
    "data['Total_HDL_ratio'] = data['TotalChol'] / data['HDL']\n",
    "data['HDL_LDL_ratio'] = data['HDL'] / data['LDL']\n",
    "data['LDL_HDL_ratio'] = data['LDL'] / data['HDL']\n",
    "data['Tri_HDL_ratio'] = data['Trig'] / data['HDL']"
   ]
  },
  {
   "cell_type": "code",
   "execution_count": null,
   "metadata": {},
   "outputs": [],
   "source": [
    "#create variable lists depending on data type for graphing purposes\n",
    "\n",
    "data_cont = ['ScreenAge', 'Education', 'servconn', 'cestotal',\n",
    "       'MnthSncBlst', 'QKOIorA', 'QKOExpMil', 'QKOAllMil', 'QKOLife',\n",
    "       'QBlstExp', 'ACRM_count', 'QBEACRM', 'Q5plus2', 'QEDist_sum', 'QEDist_mean',\n",
    "       'QEDist_min', 'DOPA', 'DA', 'DOPAC', 'NE', 'DHPG', 'da_dopa_ratio', 'dopac_da_ratio',\n",
    "       'ne_dopa_ratio', 'dhpg_ne_ratio', \n",
    "       'CAPSTotal', 'PSQIc1', 'PSQIc2', 'PSQIc3', 'PSQIc4', 'PSQIc5',\n",
    "       'PSQIc6', 'PSQIc7', 'PSQItot', 'PCLTot', 'PCL_reexp', 'PCL_avoid',\n",
    "       'PCL_numb', 'PCL_hyper', 'PHQTot', 'PHQ_psych', 'PHQ_somatic',\n",
    "       'NSITot', 'TBITot', 'NSI_vestibular', 'NSI_somatosensory',\n",
    "       'NSI_cognitive', 'NSI_affective', 'NSI_ERP_affective',\n",
    "       'NIS_ERP_vestsom', 'DvpHA', 'DvpHAAct', 'DvpHASlp',\n",
    "       'DvpHAMd', 'DvpHAStr', 'DvpBP', 'DvpBPAct', 'DvpBPslp', 'DvpBPMd',\n",
    "       'DvpBPStr', 'BISAtt', 'BISMtr', 'BISNonpl', 'BISTot',\n",
    "             'PreSleep', 'PreCaff', 'PreETOH', 'PreNic', 'PreTHC']\n",
    "\n",
    "health_cont = ['HEIGHT', 'WEIGHT', 'BMI',\n",
    "       'BPSYS', 'BPDIAS', 'HRATE', 'BGlucose', 'BNa', 'BUN', 'BCreat', 'UNa',\n",
    "       'BK', 'TotalChol', 'LDL', 'HDL', 'Trig', 'Total_HDL_ratio', 'HDL_LDL_ratio', 'LDL_HDL_ratio', 'Tri_HDL_ratio', 'CSFPROTEIN_x',\n",
    "       'CSFGLUCOSE', 'CSFRBCS']\n",
    "\n",
    "data_cat = ['Status_x', 'VisitSeq', 'GType', 'Race', 'Hispanic', 'Handedness', 'Marital', 'APOEGen', \n",
    "           'HYPERTEN', 'HYPERCHO', 'DIABETES', 'B12DEF', 'THYROID',\n",
    "           'MHxPain', 'MHxHA', 'MHxHtn', 'MHxCard', 'MHxGI', 'MHxNeuro', 'MHxLung', 'MHxApnea', \n",
    "            'SCPTSD', 'SCMDD', 'SCPD', 'SCGAD', 'SCNone', 'capsCrtA']\n",
    "\n",
    "data_audit = ['auditc', 'AUDIT1', 'AUDIT2', 'AUDIT3']\n"
   ]
  },
  {
   "cell_type": "code",
   "execution_count": null,
   "metadata": {},
   "outputs": [],
   "source": [
    "#focus on first visit\n",
    "data_v1 = data.copy()[data['VisitSeq'] == 1]"
   ]
  },
  {
   "cell_type": "code",
   "execution_count": null,
   "metadata": {
    "scrolled": true
   },
   "outputs": [],
   "source": [
    "for param in health_cont:\n",
    "    print(param)\n",
    "    \n",
    "    try:\n",
    "        #t-test\n",
    "        C = data_v1[data_v1['Group'] == 'C'][param].dropna()\n",
    "        T = data_v1[data_v1['Group'] == 'T'][param].dropna()\n",
    "        print(sp.stats.ttest_ind(C, T, axis=0, equal_var=True))\n",
    "        \n",
    "        g = sns.catplot(x='Group', y=param, kind='bar', data=data_v1, ci=68, height=5, aspect=4)\n",
    "        plt.show()\n",
    "        \n",
    "        print('\\n')\n",
    "        \n",
    "    except:\n",
    "        pass"
   ]
  },
  {
   "cell_type": "code",
   "execution_count": null,
   "metadata": {},
   "outputs": [],
   "source": [
    "#get counts for chi squared analysis of group differences\n",
    "BMI_bin_counts = (data_v1.groupby(['Group'])['BMI_bin'].value_counts()).reset_index(name='count')\n",
    "BMI_bin_counts.sort_values(['Group', 'BMI_bin'])"
   ]
  },
  {
   "cell_type": "code",
   "execution_count": null,
   "metadata": {},
   "outputs": [],
   "source": [
    "#get counts for chi squared analysis of group differences\n",
    "BMI_bin_counts = (data_v1.groupby(['Group'])['BMI_bin'].value_counts() / data_v1.groupby(['Group'])['BMI_bin'].count() * 100).reset_index(name='count')\n",
    "BMI_bin_counts.sort_values(['Group', 'BMI_bin'])"
   ]
  },
  {
   "cell_type": "code",
   "execution_count": null,
   "metadata": {},
   "outputs": [],
   "source": [
    "sig_params = ['BMI', 'HRATE', 'BGlucose', 'CSFPROTEIN_x',\n",
    "              'MnthSncBlst', 'ScreenAge', 'servconn', 'cestotal', 'ACRM_count', 'QKOIorA', 'QBlstExp',\n",
    "              'PCLTot', 'PHQTot', 'PSQItot', 'NSITot', 'TBITot', 'auditc', 'group_num', ]\n",
    "\n",
    "data_sig_health = data_v1[sig_params]\n",
    "\n",
    "data_corr = data_sig_health.corr()\n",
    "data_corr_0 = data_sig_health[data_sig_health['group_num'] == 0].corr()\n",
    "data_corr_1 = data_sig_health[data_sig_health['group_num'] == 1].corr()"
   ]
  },
  {
   "cell_type": "code",
   "execution_count": null,
   "metadata": {
    "scrolled": false
   },
   "outputs": [],
   "source": [
    "# Generate a mask for the upper triangle\n",
    "mask = np.triu(np.ones_like(data_corr, dtype=np.bool))\n",
    "\n",
    "# Generate a custom diverging colormap\n",
    "cmap = sns.diverging_palette(220, 10, as_cmap=True)\n",
    "\n",
    "# Draw the heatmap with the mask and correct aspect ratio\n",
    "f, ax = plt.subplots(figsize=(13, 9))\n",
    "sns.heatmap(data_corr, mask=mask, cmap=cmap, vmax=1, center=0,\n",
    "            square=True, linewidths=.5, cbar_kws={\"shrink\": .5})\n",
    "plt.show()\n",
    "\n",
    "f, ax = plt.subplots(figsize=(13, 9))\n",
    "sns.heatmap(data_corr_0, mask=mask, cmap=cmap, vmax=1, center=0,\n",
    "            square=True, linewidths=.5, cbar_kws={\"shrink\": .5})\n",
    "plt.show()\n",
    "\n",
    "f, ax = plt.subplots(figsize=(13, 9))\n",
    "sns.heatmap(data_corr_1, mask=mask, cmap=cmap, vmax=1, center=0,\n",
    "            square=True, linewidths=.5, cbar_kws={\"shrink\": .5})\n",
    "plt.show()"
   ]
  },
  {
   "cell_type": "code",
   "execution_count": null,
   "metadata": {},
   "outputs": [],
   "source": [
    "data_sig_health.to_csv('data_sig_health.csv', index=False)"
   ]
  },
  {
   "cell_type": "markdown",
   "metadata": {},
   "source": [
    "# clustering"
   ]
  },
  {
   "cell_type": "code",
   "execution_count": null,
   "metadata": {},
   "outputs": [],
   "source": [
    "#perform clustering on individual health mesurement questions from visit sequence 1\n",
    "data_first = data.copy()[data['VisitSeq'] == 1]\n",
    "data_allgroups_health = data_first[['Group', 'TBIID', 'BMI', 'BPSYS', 'BPDIAS', 'HRATE', 'BGlucose', 'BNa', 'BUN', 'BCreat']]\n",
    "\n",
    "print(data_allgroups_health.shape)\n",
    "data_allgroups_health.dropna(axis=0, inplace=True)\n",
    "print(data_allgroups_health.shape)\n",
    "#save ids in cluster analysis and create new df\n",
    "cluster_TBIID = data_allgroups_health['TBIID'].values\n",
    "data_first_cluster = data_first[data_first['TBIID'].isin(cluster_TBIID)]\n",
    "\n",
    "data_allgroups_health = data_allgroups_health.set_index(['TBIID', 'Group'])\n",
    "data_allgroups_health.head(1)"
   ]
  },
  {
   "cell_type": "code",
   "execution_count": null,
   "metadata": {},
   "outputs": [],
   "source": [
    "# center and scale the data\n",
    "scaler = StandardScaler()\n",
    "#scaler = MinMaxScaler()\n",
    "#scaler = RobustScaler()\n",
    "\n",
    "health_scaled = scaler.fit_transform(data_allgroups_health)"
   ]
  },
  {
   "cell_type": "code",
   "execution_count": null,
   "metadata": {},
   "outputs": [],
   "source": [
    "#pick cluster number based on silhouette coefficient\n",
    "k_range = range(2,10)\n",
    "\n",
    "base_scores = []\n",
    "sil_scores = []\n",
    "db_scores = []\n",
    "mse_scores = []\n",
    "\n",
    "for k in k_range:\n",
    "    km_ss = KMeans(n_clusters=k, random_state=39)\n",
    "    km_ss.fit(health_scaled)\n",
    "    \n",
    "    mse_scores.append(km_ss.inertia_)\n",
    "    sil_scores.append(silhouette_score(health_scaled, km_ss.labels_))\n",
    "    db_scores.append(davies_bouldin_score(health_scaled, km_ss.labels_))\n",
    "    \n",
    "# plot the results\n",
    "plt.plot(k_range, mse_scores)\n",
    "plt.title('AUDIT-C Questions K means clustering')\n",
    "plt.xlabel('Number of clusters')\n",
    "plt.ylabel('MSE score')\n",
    "plt.show()\n",
    "\n",
    "# plot the results\n",
    "plt.plot(k_range, sil_scores)\n",
    "plt.title('AUDIT-C Questions K means clustering')\n",
    "plt.xlabel('Number of clusters')\n",
    "plt.ylabel('Silhouette Coefficient')\n",
    "plt.show()\n",
    "\n",
    "# plot the results\n",
    "plt.plot(k_range, db_scores)\n",
    "plt.title('AUDIT-C Questions K means clustering')\n",
    "plt.xlabel('Number of clusters')\n",
    "plt.ylabel('Davies Bouldin Score')\n",
    "plt.show()"
   ]
  },
  {
   "cell_type": "code",
   "execution_count": null,
   "metadata": {},
   "outputs": [],
   "source": [
    "k_range = range(2,10)\n",
    "\n",
    "gm_score=[]\n",
    "gm_aic=[]\n",
    "gm_bic= []\n",
    "\n",
    "for k in k_range:\n",
    "    gm = GaussianMixture(n_components=k, random_state=39)\n",
    "    gm.fit(health_scaled)\n",
    "    \n",
    "    gm_score.append(gm.score(health_scaled))\n",
    "    gm_aic.append(gm.aic(health_scaled))\n",
    "    gm_bic.append(gm.bic(health_scaled))\n",
    "\n",
    "# plot the results\n",
    "plt.plot(k_range, gm_score)\n",
    "plt.title('AUDIT-C Questions GMM')\n",
    "plt.xlabel('Number of clusters')\n",
    "plt.ylabel('Base score')\n",
    "plt.show()\n",
    "\n",
    "# plot the results\n",
    "plt.plot(k_range, gm_aic)\n",
    "plt.title('AUDIT-C Questions GMM')\n",
    "plt.xlabel('Number of clusters')\n",
    "plt.ylabel('AIC')\n",
    "plt.show()\n",
    "\n",
    "# plot the results\n",
    "plt.plot(k_range, gm_bic)\n",
    "plt.title('AUDIT-C Questions GMM')\n",
    "plt.xlabel('Number of clusters')\n",
    "plt.ylabel('BIC')\n",
    "plt.show()"
   ]
  },
  {
   "cell_type": "code",
   "execution_count": null,
   "metadata": {},
   "outputs": [],
   "source": [
    "#choose k=2 clusters and fit data\n",
    "km_2 = KMeans(n_clusters=2,random_state=39)\n",
    "km_2.fit(health_scaled)\n",
    "#new df for cluster info\n",
    "data_allgroups_health = data_allgroups_health\n",
    "data_allgroups_health = data_allgroups_health.reset_index()\n",
    "data_allgroups_health['kmeans_cluster'] = [\"cluster_\" + str(label) for label in km_2.labels_ ]\n",
    "data_first_cluster['kmeans_cluster'] = [\"cluster_\" + str(label) for label in km_2.labels_ ]\n",
    "data_allgroups_health.head(1)"
   ]
  },
  {
   "cell_type": "code",
   "execution_count": null,
   "metadata": {},
   "outputs": [],
   "source": [
    "#viz cluster grouping and auditc answers - seems to be low(1), high freq(2), and binge clusters(0)\n",
    "health_cols = ['BMI', 'BPSYS', 'BPDIAS', 'HRATE', 'BGlucose', 'BNa', 'BUN', 'BCreat']\n",
    "for variable in health_cols:\n",
    "    try:\n",
    "        plt.figure(figsize=(7,5))\n",
    "        g = sns.barplot(x='kmeans_cluster', y=variable, data=data_allgroups_health, ci=68, palette=\"rocket\", order=[\"cluster_0\", \"cluster_1\", 'cluster_2'])\n",
    "        plt.show()\n",
    "    except:\n",
    "        pass"
   ]
  },
  {
   "cell_type": "code",
   "execution_count": null,
   "metadata": {},
   "outputs": [],
   "source": [
    "data_allgroups_health.groupby(['Group'])['kmeans_cluster'].value_counts() "
   ]
  },
  {
   "cell_type": "code",
   "execution_count": null,
   "metadata": {},
   "outputs": [],
   "source": [
    "#viz cluster grouping and auditc answers - seems to be low(1), high freq(2), and binge clusters(0)\n",
    "health_cols = ['MnthSncBlst', 'ScreenAge', 'servconn', 'cestotal', 'ACRM_count', 'QKOIorA', 'QBlstExp',\n",
    "              'PCLTot', 'PHQTot', 'PSQItot', 'NSITot', 'TBITot', 'auditc']\n",
    "for variable in health_cols:\n",
    "    try:\n",
    "        plt.figure(figsize=(7,5))\n",
    "        g = sns.barplot(x='kmeans_cluster', y=variable, data=data_first_cluster, ci=68, palette=\"rocket\", hue='Group', order=[\"cluster_0\", \"cluster_1\", \"cluster_2\"])\n",
    "        plt.show()\n",
    "    except:\n",
    "        pass"
   ]
  },
  {
   "cell_type": "code",
   "execution_count": null,
   "metadata": {},
   "outputs": [],
   "source": []
  },
  {
   "cell_type": "code",
   "execution_count": null,
   "metadata": {},
   "outputs": [],
   "source": []
  },
  {
   "cell_type": "code",
   "execution_count": null,
   "metadata": {},
   "outputs": [],
   "source": []
  },
  {
   "cell_type": "code",
   "execution_count": null,
   "metadata": {},
   "outputs": [],
   "source": []
  },
  {
   "cell_type": "code",
   "execution_count": null,
   "metadata": {},
   "outputs": [],
   "source": []
  },
  {
   "cell_type": "code",
   "execution_count": null,
   "metadata": {},
   "outputs": [],
   "source": []
  },
  {
   "cell_type": "code",
   "execution_count": null,
   "metadata": {},
   "outputs": [],
   "source": [
    "#exclude 3rd visit seq\n",
    "visits = [1,2]\n",
    "data_v12 = data[data['VisitSeq'].isin(visits)]\n",
    "#get TBIIDs of participants with a second visit and use to filter\n",
    "TBIID_v2 = data_v12[data_v12['VisitSeq'] == 2]['TBIID'].values\n",
    "\n",
    "#create new column for if came to second visitseq - want to see if params at visitseq 1 map on to whether they came back again\n",
    "data_v12['visit2'] = [1 if TBIID in TBIID_v2 else 0 for TBIID in data_v12['TBIID']]\n",
    "\n",
    "#create new df with only participants who came to both visits 1 and 2\n",
    "data_v12_only = data_v12[data_v12['TBIID'].isin(TBIID_v2)]\n",
    "print(data_v12_only.shape)\n",
    "print(data_v12_only.groupby(['VisitSeq', 'Group'])['Group'].value_counts())\n",
    "data_v12_only.head()"
   ]
  }
 ],
 "metadata": {
  "kernelspec": {
   "display_name": "Python 3",
   "language": "python",
   "name": "python3"
  },
  "language_info": {
   "codemirror_mode": {
    "name": "ipython",
    "version": 3
   },
   "file_extension": ".py",
   "mimetype": "text/x-python",
   "name": "python",
   "nbconvert_exporter": "python",
   "pygments_lexer": "ipython3",
   "version": "3.6.10"
  }
 },
 "nbformat": 4,
 "nbformat_minor": 2
}
