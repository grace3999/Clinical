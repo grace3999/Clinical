{
 "cells": [
  {
   "cell_type": "code",
   "execution_count": null,
   "metadata": {},
   "outputs": [],
   "source": [
    "#getting and working with data\n",
    "import pandas as pd\n",
    "import numpy as np\n",
    "import re\n",
    "import os\n",
    "import scipy as sp\n",
    "\n",
    "#visualizing results\n",
    "import matplotlib.pyplot as plt\n",
    "%matplotlib inline\n",
    "import seaborn as sns\n",
    "sns.set_context(\"poster\")\n",
    "sns.set_style(\"ticks\")\n",
    "#import yellowbrick as yb\n",
    "\n",
    "pd.set_option('display.max_rows', 500)\n",
    "pd.set_option('display.max_columns', 500)\n",
    "pd.set_option('display.width', 1000)\n",
    "\n",
    "import warnings; warnings.simplefilter('ignore')\n",
    "np.set_printoptions(suppress=True)\n",
    "\n",
    "from sklearn.preprocessing import StandardScaler\n",
    "from sklearn.cluster import KMeans\n",
    "from sklearn.metrics.cluster import silhouette_score\n",
    "from sklearn.decomposition import KernelPCA\n",
    "from sklearn.decomposition import PCA\n",
    "from sklearn.manifold import TSNE\n",
    "\n",
    "import scipy.cluster.hierarchy as shc\n",
    "\n",
    "from kmodes.kmodes import KModes"
   ]
  },
  {
   "cell_type": "code",
   "execution_count": null,
   "metadata": {},
   "outputs": [],
   "source": [
    "data_path = 'C:/Users/Schindler/Documents/Schindler_Lab/Data/Clinical projects/PeskindTBI/final_data/first_visits_short.csv'"
   ]
  },
  {
   "cell_type": "code",
   "execution_count": null,
   "metadata": {},
   "outputs": [],
   "source": [
    "#read in csv containing data from all surveys and all visitseqs\n",
    "data = pd.read_csv(data_path, index_col=0)\n",
    "data = pd.DataFrame(data = data)\n",
    "\n",
    "print('Original data shape:\\n', data.shape, '\\n')\n",
    "print(data.info())\n",
    "data.head(1)"
   ]
  },
  {
   "cell_type": "code",
   "execution_count": null,
   "metadata": {
    "scrolled": true
   },
   "outputs": [],
   "source": [
    "#create graphing function to deal with different types of variables \n",
    "def graph_data(data, param_names, cat_vars, auditc_vars, group, order, hue=None):\n",
    "    for param in param_names:\n",
    "        print(param)\n",
    "\n",
    "        #viz format depends on type of variable - if cat then get percent for each answer type for each group (C and T)\n",
    "        if param in cat_vars: #drop response = 9: not known\n",
    "            data_cat = (data[data[param] != 9].groupby(group)[param].value_counts() /\n",
    "                        data[data[param] != 9].groupby(group)[param].count()).reset_index(name='count')\n",
    "        \n",
    "            try:\n",
    "                g = sns.catplot(x=param, y='count', data=data_cat, hue=group, kind='bar', height=5, aspect=4, col=hue)\n",
    "                plt.show()\n",
    "        \n",
    "                print('\\n')\n",
    "        \n",
    "            except:\n",
    "                pass\n",
    "        \n",
    "        elif param in auditc_vars:\n",
    "            data_auditc = (data.groupby(group)[param].value_counts() /\n",
    "                        data.groupby(group)[param].count()).reset_index(name='count')\n",
    "        \n",
    "            try:\n",
    "                g = sns.catplot(x=param, y='count', data=data_auditc, hue=group, kind='bar', height=5, aspect=4, col=hue)\n",
    "                plt.show()\n",
    "        \n",
    "                print('\\n')\n",
    "        \n",
    "            except:\n",
    "                pass\n",
    "        else:\n",
    "            try:\n",
    "                g = sns.catplot(x=group, y=param, data=data, kind='bar', height=5, aspect=4, order=order, hue=hue)\n",
    "                plt.show()\n",
    "        \n",
    "                print('\\n')\n",
    "        \n",
    "            except:\n",
    "                pass"
   ]
  },
  {
   "cell_type": "code",
   "execution_count": null,
   "metadata": {
    "scrolled": true
   },
   "outputs": [],
   "source": [
    "#list of categorical variables\n",
    "cat_vars = ['Status_x', 'GType', 'Race', 'Hispanic', 'Handedness', 'Marital', \n",
    " 'ExpPB', 'ExpMark1', 'ExpAntiM', 'ExpStim', 'ExpOthrS', 'ExpDEET',\n",
    "       'ExpTick', 'ExpPCollr', 'ExpPStrp', 'ExpPEnvi', 'ExpToxic',\n",
    "       'ExpPaint', 'ExpXsVib', 'ExpHStrk', 'ExpRadar', 'ExpIonRa',\n",
    "       'ExpYCake', 'ExpVhicl', 'ExpUrRnd', 'ExpDtOrd', 'ExpGasM',\n",
    "       'ExpMOPP', 'ExpRadBg', 'ExpAN', 'ExpNG', 'ExpTNT', 'ExpPETN',\n",
    "       'ExpRDX', 'ExpNC', 'ExpANFO', 'ExpCompB', 'ExpOctol', 'ExpPntlt',\n",
    "       'ExpDynmt', 'ExpOthrX', 'HYPERTEN', 'HYPERCHO', 'DIABETES', 'B12DEF', 'THYROID', \n",
    " 'MHxPain','MHxHA', 'MHxHtn', 'MHxCard', 'MHxGI', 'MHxNeuro', 'MHxLung', 'MHxApnea', \n",
    " 'SCPTSD', 'SCMDD', 'SCPD', 'SCGAD', 'SCNone', 'capsCrtA']\n",
    "\n",
    "auditc_vars = ['auditc', 'AUDIT1', 'AUDIT2', 'AUDIT3']\n",
    "\n",
    "param_names = list(data)[0:2]\n",
    "\n",
    "group = 'Group'\n",
    "\n",
    "order=[\"C\", \"T\"]\n",
    "\n",
    "graph_data(data, param_names, cat_vars, auditc_vars, group, order, hue=None)"
   ]
  },
  {
   "cell_type": "markdown",
   "metadata": {},
   "source": [
    "## AUDIT-C clustering with C and T from first visit sequence"
   ]
  },
  {
   "cell_type": "code",
   "execution_count": null,
   "metadata": {},
   "outputs": [],
   "source": [
    "#perform clustering on individual auditc questions (3 total questions) from visit sequence 1\n",
    "data_first = data[data['VisitSeq'] == 1]\n",
    "data_allgroups_auditqs = data_first[['VisitSeq', 'Group', 'TBIID', 'AUDIT1', 'AUDIT2', 'AUDIT3']].set_index(['VisitSeq', 'Group', 'TBIID'])\n",
    "print(data_allgroups_auditqs.shape)\n",
    "data_allgroups_auditqs.dropna(axis=0, inplace=True)\n",
    "print(data_allgroups_auditqs.shape)\n",
    "data_allgroups_auditqs.head()"
   ]
  },
  {
   "cell_type": "code",
   "execution_count": null,
   "metadata": {},
   "outputs": [],
   "source": [
    "# center and scale the data\n",
    "scaler = StandardScaler()\n",
    "\n",
    "data_allgroups_auditqs_scaled = scaler.fit_transform(data_allgroups_auditqs)"
   ]
  },
  {
   "cell_type": "code",
   "execution_count": null,
   "metadata": {},
   "outputs": [],
   "source": [
    "#viz dendrogram to find if three clusters makes sense\n",
    "plt.figure(figsize=(10, 7))  \n",
    "plt.title(\"AUDIT-C 3 Question Dendrogram\")  \n",
    "plt.ylabel(\"Distance (dissimilarity)\")\n",
    "plt.xlabel(\"Participants\")\n",
    "dend = shc.dendrogram(shc.linkage(data_allgroups_auditqs, method='ward'), \n",
    "                      distance_sort='ascending',\n",
    "                      show_leaf_counts=True, leaf_font_size=8)"
   ]
  },
  {
   "cell_type": "code",
   "execution_count": null,
   "metadata": {},
   "outputs": [],
   "source": [
    "#pick cluster number based on silhouette coefficient\n",
    "k_range = range(2,7)\n",
    "scores = []\n",
    "for k in k_range:\n",
    "    km_ss = KMeans(n_clusters=k, random_state=10)\n",
    "    km_ss.fit(data_allgroups_auditqs)\n",
    "    scores.append(silhouette_score(data_allgroups_auditqs, km_ss.labels_))\n",
    "\n",
    "# plot the results\n",
    "plt.plot(k_range, scores)\n",
    "plt.title('AUDIT-C Questions K means clustering')\n",
    "plt.xlabel('Number of clusters')\n",
    "plt.ylabel('Silhouette Coefficient')"
   ]
  },
  {
   "cell_type": "code",
   "execution_count": null,
   "metadata": {},
   "outputs": [],
   "source": [
    "#pick cluster number based on minimizing sse\n",
    "k_range = range(2,7)\n",
    "scores = []\n",
    "for k in k_range:\n",
    "    km_ss = KMeans(n_clusters=k, random_state=10)\n",
    "    km_ss.fit(data_allgroups_auditqs)\n",
    "    scores.append(km_ss.inertia_)\n",
    "    \n",
    "# plot the results\n",
    "plt.plot(k_range, scores)\n",
    "plt.title('AUDIT-C Questions K means clustering')\n",
    "plt.xlabel('Number of clusters')\n",
    "plt.ylabel('SSE')"
   ]
  },
  {
   "cell_type": "code",
   "execution_count": null,
   "metadata": {},
   "outputs": [],
   "source": [
    "#viz clustering with heat map of AUDIT-C answers\n",
    "sns.clustermap(data_allgroups_auditqs, metric=\"euclidean\", standard_scale=1, method=\"ward\", cmap=\"Blues\")"
   ]
  },
  {
   "cell_type": "code",
   "execution_count": null,
   "metadata": {},
   "outputs": [],
   "source": [
    "#choose k=3 clusters and fit data\n",
    "km_3 = KMeans(n_clusters=3,random_state=1)\n",
    "km_3.fit(data_allgroups_auditqs)\n",
    "#new df for cluster info\n",
    "data_allgroups_auditqs_clusters = data_allgroups_auditqs\n",
    "data_allgroups_auditqs_clusters = data_allgroups_auditqs_clusters.reset_index()\n",
    "data_allgroups_auditqs_clusters['kmeans_cluster'] = [\"cluster_\" + str(label) for label in km_3.labels_ ]\n",
    "data_allgroups_auditqs_clusters.head(1)"
   ]
  },
  {
   "cell_type": "code",
   "execution_count": null,
   "metadata": {},
   "outputs": [],
   "source": [
    "#merge with orig df so each TBIID entry has its corr cluster assignment added\n",
    "data_clusters = pd.merge(data, data_allgroups_auditqs_clusters[['TBIID', 'kmeans_cluster']], on=['TBIID'], how='outer')\n",
    "print(data_clusters.shape)\n",
    "print(data_clusters['VisitSeq'].value_counts())\n",
    "data_clusters.head(1)"
   ]
  },
  {
   "cell_type": "code",
   "execution_count": null,
   "metadata": {
    "scrolled": true
   },
   "outputs": [],
   "source": [
    "#viz cluster grouping and auditc answers - seems to be low(1), high freq(2), and binge clusters(0)\n",
    "auditc_cols = ['auditc', 'AUDIT1', 'AUDIT2', 'AUDIT3']\n",
    "for variable in auditc_cols:\n",
    "    try:\n",
    "        plt.figure(figsize=(7,7))\n",
    "        g = sns.barplot(x='kmeans_cluster', y=variable, data=data_clusters[data_clusters['VisitSeq'] == 1], ci=68, hue='Group', palette=\"rocket\", order=[\"cluster_0\", \"cluster_1\", \"cluster_2\"])\n",
    "        plt.show()\n",
    "    except:\n",
    "        pass"
   ]
  },
  {
   "cell_type": "code",
   "execution_count": null,
   "metadata": {},
   "outputs": [],
   "source": [
    "#rename clusters for easier viz understanding\n",
    "data_clusters.replace({'kmeans_cluster': {'cluster_0':'binge', 'cluster_1':'low', 'cluster_2':'freq'}}, inplace=True)\n",
    "#look at counts in each cluster for each group (is there a difference in cluster patterns between groups?)\n",
    "data_clusters[data_clusters['VisitSeq'] == 1].groupby(['Group'])['kmeans_cluster'].value_counts().reset_index(name='count').sort_values(['Group', 'kmeans_cluster'])"
   ]
  },
  {
   "cell_type": "code",
   "execution_count": null,
   "metadata": {},
   "outputs": [],
   "source": [
    "tsne = TSNE(n_components=2, perplexity=50, random_state=1234)\n",
    "tsne_features = tsne.fit_transform(data_allgroups_auditqs)\n",
    "\n",
    "print(tsne_features.shape)\n",
    "tsne_df = pd.DataFrame(data = tsne_features, columns = ['tsne_0', 'tsne_1'], index = data_allgroups_auditqs_clusters.index)\n",
    "data_allgroups_auditqs_clusters_TSNE = pd.concat([data_allgroups_auditqs_clusters, tsne_df], axis = 1)\n",
    "data_allgroups_auditqs_clusters_TSNE.replace({'kmeans_cluster': {'cluster_0':'binge', 'cluster_1':'low', 'cluster_2':'freq'}}, inplace=True)\n",
    "data_allgroups_auditqs_clusters_TSNE.head()"
   ]
  },
  {
   "cell_type": "code",
   "execution_count": null,
   "metadata": {
    "scrolled": true
   },
   "outputs": [],
   "source": [
    "plt.figure(figsize=(15,10))\n",
    "sns.scatterplot(x='tsne_0', y='tsne_1', data=data_allgroups_auditqs_clusters_TSNE, hue='kmeans_cluster')"
   ]
  },
  {
   "cell_type": "code",
   "execution_count": null,
   "metadata": {},
   "outputs": [],
   "source": [
    "#select only visit 1\n",
    "data_clusters_visit1 = data_clusters[data_clusters['VisitSeq'] == 1]\n",
    "data_clusters_visit1.to_csv('data_auditc_clustering_visit1.csv')\n",
    "\n",
    "#get value counts for AUDIT-C for each cluster (not split by group)\n",
    "AUDIT_tot_counts_cluster = data_clusters_visit1.groupby(['kmeans_cluster'])['auditc'].value_counts()\n",
    "AUDIT_1_counts_cluster = data_clusters_visit1.groupby(['kmeans_cluster'])['AUDIT1'].value_counts()\n",
    "AUDIT_2_counts_cluster = data_clusters_visit1.groupby(['kmeans_cluster'])['AUDIT2'].value_counts()\n",
    "AUDIT_3_counts_cluster = data_clusters_visit1.groupby(['kmeans_cluster'])['AUDIT3'].value_counts()\n",
    "AUDIT_tot_counts_cluster.to_csv('AUDIT_tot_counts_cluster.csv')\n",
    "AUDIT_1_counts_cluster.to_csv('AUDIT_1_counts_cluster.csv')\n",
    "AUDIT_2_counts_cluster.to_csv('AUDIT_2_counts_cluster.csv')\n",
    "AUDIT_3_counts_cluster.to_csv('AUDIT_3_counts_cluster.csv')\n",
    "\n",
    "AUDIT_tot_perc_cluster = data_clusters_visit1.groupby(['kmeans_cluster'])['auditc'].value_counts() / data_clusters_visit1.groupby(['kmeans_cluster'])['auditc'].count()\n",
    "AUDIT_1_perc_cluster = data_clusters_visit1.groupby(['kmeans_cluster'])['AUDIT1'].value_counts() / data_clusters_visit1.groupby(['kmeans_cluster'])['AUDIT1'].count()\n",
    "AUDIT_2_perc_cluster = data_clusters_visit1.groupby(['kmeans_cluster'])['AUDIT2'].value_counts() / data_clusters_visit1.groupby(['kmeans_cluster'])['AUDIT2'].count()\n",
    "AUDIT_3_perc_cluster = data_clusters_visit1.groupby(['kmeans_cluster'])['AUDIT3'].value_counts()/ data_clusters_visit1.groupby(['kmeans_cluster'])['AUDIT3'].count()\n",
    "AUDIT_tot_perc_cluster.to_csv('AUDIT_tot_perc_cluster.csv')\n",
    "AUDIT_1_perc_cluster.to_csv('AUDIT_1_perc_cluster.csv')\n",
    "AUDIT_2_perc_cluster.to_csv('AUDIT_2_perc_cluster.csv')\n",
    "AUDIT_3_perc_cluster.to_csv('AUDIT_3_perc_cluster.csv')\n",
    "\n",
    "#get value counts by group for each cluster\n",
    "AUDIT_cluster_counts = data_clusters_visit1.groupby('Group')['kmeans_cluster'].value_counts() \n",
    "AUDIT_cluster_perc = data_clusters_visit1.groupby('Group')['kmeans_cluster'].value_counts() / data_clusters_visit1.groupby('Group')['kmeans_cluster'].count()\n",
    "AUDIT_cluster_counts.to_csv('AUDIT_cluster_counts.csv')\n",
    "AUDIT_cluster_perc.to_csv('AUDIT_cluster_perc.csv')"
   ]
  },
  {
   "cell_type": "markdown",
   "metadata": {},
   "source": [
    "### TBI only add'n analysis and viz"
   ]
  },
  {
   "cell_type": "code",
   "execution_count": null,
   "metadata": {},
   "outputs": [],
   "source": [
    "#select just TBI participants and exclude visit '88' for add'l analysis\n",
    "data_clusters_TBI = data_clusters[(data_clusters['Group'] == 'T') & (data_clusters['VisitSeq'] != 88)]"
   ]
  },
  {
   "cell_type": "code",
   "execution_count": null,
   "metadata": {},
   "outputs": [],
   "source": [
    "#list of categorical variables\n",
    "cat_vars = ['Status_x', 'GType', 'Race', 'Hispanic', 'Handedness', 'Marital', \n",
    " 'ExpPB', 'ExpMark1', 'ExpAntiM', 'ExpStim', 'ExpOthrS', 'ExpDEET',\n",
    "       'ExpTick', 'ExpPCollr', 'ExpPStrp', 'ExpPEnvi', 'ExpToxic',\n",
    "       'ExpPaint', 'ExpXsVib', 'ExpHStrk', 'ExpRadar', 'ExpIonRa',\n",
    "       'ExpYCake', 'ExpVhicl', 'ExpUrRnd', 'ExpDtOrd', 'ExpGasM',\n",
    "       'ExpMOPP', 'ExpRadBg', 'ExpAN', 'ExpNG', 'ExpTNT', 'ExpPETN',\n",
    "       'ExpRDX', 'ExpNC', 'ExpANFO', 'ExpCompB', 'ExpOctol', 'ExpPntlt',\n",
    "       'ExpDynmt', 'ExpOthrX', 'HYPERTEN', 'HYPERCHO', 'DIABETES', 'B12DEF', 'THYROID', \n",
    " 'MHxPain','MHxHA', 'MHxHtn', 'MHxCard', 'MHxGI', 'MHxNeuro', 'MHxLung', 'MHxApnea', \n",
    " 'SCPTSD', 'SCMDD', 'SCPD', 'SCGAD', 'SCNone', 'capsCrtA']\n",
    "\n",
    "auditc_vars = ['auditc', 'AUDIT1', 'AUDIT2', 'AUDIT3']\n",
    "\n",
    "param_names = list(data_clusters_TBI)\n",
    "\n",
    "group = 'kmeans_cluster'\n",
    "\n",
    "order=[\"low\", \"freq\", \"binge\"]\n",
    "\n",
    "#how does drinking cluster affect params?\n",
    "graph_data(data_clusters_TBI[data_clusters_TBI['VisitSeq']==1], param_names, cat_vars, auditc_vars, group, order, hue=None)"
   ]
  },
  {
   "cell_type": "code",
   "execution_count": null,
   "metadata": {},
   "outputs": [],
   "source": [
    "#does drinking cluster affect follow-up visits\n",
    "print(data_clusters_TBI.groupby(['VisitSeq', 'kmeans_cluster'])['kmeans_cluster'].count())\n",
    "sns.countplot(x='VisitSeq', data=data_clusters_TBI, hue='kmeans_cluster', palette=\"rocket\")"
   ]
  },
  {
   "cell_type": "code",
   "execution_count": null,
   "metadata": {},
   "outputs": [],
   "source": [
    "#exclude 3rd visit seq\n",
    "data_clusters_TBI_v12 = data_clusters_TBI[data_clusters_TBI['VisitSeq'] != 3]\n",
    "#get TBIIDs of participants with a second visit and use to filter\n",
    "TBIID_v2 = data_clusters_TBI_v12[data_clusters_TBI_v12['VisitSeq'] == 2]['TBIID'].values\n",
    "\n",
    "#create new column for if came to second visitseq - want to see if params at visitseq 1 map on to whether they came back again\n",
    "data_clusters_TBI_v12['visit2'] = [1 if TBIID in TBIID_v2 else 0 for TBIID in data_clusters_TBI_v12['TBIID']]\n",
    "\n",
    "#create new df with only participants who came to both visits 1 and 2\n",
    "data_clusters_TBI_v12_only = data_clusters_TBI_v12[data_clusters_TBI_v12['TBIID'].isin(TBIID_v2)]\n",
    "print(data_clusters_TBI_v12_only.shape)\n",
    "data_clusters_TBI_v12_only.head()"
   ]
  },
  {
   "cell_type": "code",
   "execution_count": null,
   "metadata": {},
   "outputs": [],
   "source": [
    "#list of categorical variables\n",
    "cat_vars = ['Status_x', 'GType', 'Race', 'Hispanic', 'Handedness', 'Marital', \n",
    " 'ExpPB', 'ExpMark1', 'ExpAntiM', 'ExpStim', 'ExpOthrS', 'ExpDEET',\n",
    "       'ExpTick', 'ExpPCollr', 'ExpPStrp', 'ExpPEnvi', 'ExpToxic',\n",
    "       'ExpPaint', 'ExpXsVib', 'ExpHStrk', 'ExpRadar', 'ExpIonRa',\n",
    "       'ExpYCake', 'ExpVhicl', 'ExpUrRnd', 'ExpDtOrd', 'ExpGasM',\n",
    "       'ExpMOPP', 'ExpRadBg', 'ExpAN', 'ExpNG', 'ExpTNT', 'ExpPETN',\n",
    "       'ExpRDX', 'ExpNC', 'ExpANFO', 'ExpCompB', 'ExpOctol', 'ExpPntlt',\n",
    "       'ExpDynmt', 'ExpOthrX', 'HYPERTEN', 'HYPERCHO', 'DIABETES', 'B12DEF', 'THYROID', \n",
    " 'MHxPain','MHxHA', 'MHxHtn', 'MHxCard', 'MHxGI', 'MHxNeuro', 'MHxLung', 'MHxApnea', \n",
    " 'SCPTSD', 'SCMDD', 'SCPD', 'SCGAD', 'SCNone', 'capsCrtA']\n",
    "\n",
    "auditc_vars = ['auditc', 'AUDIT1', 'AUDIT2', 'AUDIT3']\n",
    "\n",
    "param_names = list(data_clusters_TBI_v12_only)[0:15]\n",
    "\n",
    "group = 'VisitSeq'\n",
    "\n",
    "order=[1,2]\n",
    "\n",
    "graph_data(data_clusters_TBI_v12_only, param_names, cat_vars, auditc_vars, group, order, hue=None)"
   ]
  },
  {
   "cell_type": "code",
   "execution_count": null,
   "metadata": {
    "scrolled": true
   },
   "outputs": [],
   "source": [
    "#viz how data params change across drinking pattern groups and visit sequences (1 vs 2)\n",
    "variables = ['Race', 'Hispanic', 'Handedness', 'ScreenAge',\n",
    "       'Education', 'Marital', 'servconn', 'cestotal', 'auditc', 'AUDIT1', 'AUDIT2', 'AUDIT3',\n",
    "       'HEIGHT', 'HEIGDEC', 'WEIGHT', 'BMI', 'BPSYS',\n",
    "       'BPDIAS', 'HRATE', 'HYPERTEN', 'HYPERCHO', 'DIABETES', 'B12DEF',\n",
    "       'THYROID', 'PITHistTBIID', 'BGlucose', 'BNa', 'BUN', 'BCreat',\n",
    "       'BOsmo', 'UOsmo', 'USG', 'UNa', 'BK', 'TotalChol', 'LDL', 'HDL',\n",
    "       'Trig', 'CSFPROTEIN_x', 'CSFGLUCOSE', 'CSFRBCS', 'MHxPain',\n",
    "       'MHxHA', 'MHxHtn', 'MHxCard', 'MHxGI', 'MHxNeuro', 'MHxLung',\n",
    "       'MHxApnea', 'SCPTSD', 'SCMDD', 'SCPD', 'SCGAD', 'SCNone',\n",
    "       'capsCrtA', 'CAPSTotal', 'hrslp', \n",
    "       'PSQIc1', 'PSQIc2', 'PSQIc3', 'PSQIc4', 'PSQIc5', 'PSQIc6',\n",
    "       'PSQIc7', 'PSQItot', 'PCL1', 'PCL2', 'PCL3', 'PCL4', 'PCL5',\n",
    "       'PCL6', 'PCL7', 'PCL8', 'PCL9', 'PCL10', 'PCL11', 'PCL12', 'PCL13',\n",
    "       'PCL14', 'PCL15', 'PCL16', 'PCL17', 'PCLTot', 'PHQ1', 'PHQ2',\n",
    "       'PHQ3', 'PHQ4', 'PHQ5', 'PHQ6', 'PHQ7', 'PHQ8', 'PHQ9', 'PHQTot',\n",
    "       'tbiDizzy', 'tbiBalan', 'tbiCoord', 'tbiHeada', 'tbiNaus',\n",
    "       'tbiVision', 'tbiLight', 'tbiHear', 'tbiNoise', 'tbiTingl',\n",
    "       'tbiTstsml', 'tbiAppet', 'tbiConc', 'tbiForget', 'tbiDecis',\n",
    "       'tbiSlow', 'tbiEnergy', 'tbiSleep', 'tbiAnx', 'tbiSad', 'tbiIrrit',\n",
    "       'tbiOverw', 'tbiDisin', 'tbiWithd', 'tbiRing', 'tbiMoods',\n",
    "       'tbiFight', 'tbiSpch', 'NSITot', 'TBITot', 'PreSleep', 'PreCaff',\n",
    "       'PreETOH', 'PreNic', 'PreTHC', \n",
    "       'NSI_comp_vestibular', 'NSI_comp_somatosensory',\n",
    "       'NSI_comp_cognitive', 'NSI_comp_affective',\n",
    "       'NSI_comp_ERP_affective', 'NIS_comp_ERP_vestsom']\n",
    "for variable in variables[0:10]:\n",
    "    try:\n",
    "        plt.figure(figsize=(7,5))\n",
    "        sns.lineplot(x='VisitSeq', y=variable, data=data_clusters_TBI_v12_only, hue='kmeans_cluster', ci=None, palette=\"rocket\")\n",
    "        #plt.savefig(str(variable + '_plot.png'))\n",
    "        plt.show()\n",
    "    except:\n",
    "        pass"
   ]
  },
  {
   "cell_type": "code",
   "execution_count": null,
   "metadata": {
    "scrolled": true
   },
   "outputs": [],
   "source": [
    "#viz how data params change across drinking pattern groups and and whether they came back for second visit\n",
    "variables = ['Race', 'Hispanic', 'Handedness', 'ScreenAge',\n",
    "       'Education', 'Marital', 'servconn', 'cestotal', 'auditc', 'AUDIT1', 'AUDIT2', 'AUDIT3',\n",
    "       'HEIGHT', 'HEIGDEC', 'WEIGHT', 'BMI', 'BPSYS',\n",
    "       'BPDIAS', 'HRATE', 'HYPERTEN', 'HYPERCHO', 'DIABETES', 'B12DEF',\n",
    "       'THYROID', 'PITHistTBIID', 'BGlucose', 'BNa', 'BUN', 'BCreat',\n",
    "       'BOsmo', 'UOsmo', 'USG', 'UNa', 'BK', 'TotalChol', 'LDL', 'HDL',\n",
    "       'Trig', 'CSFPROTEIN_x', 'CSFGLUCOSE', 'CSFRBCS', 'MHxPain',\n",
    "       'MHxHA', 'MHxHtn', 'MHxCard', 'MHxGI', 'MHxNeuro', 'MHxLung',\n",
    "       'MHxApnea', 'SCPTSD', 'SCMDD', 'SCPD', 'SCGAD', 'SCNone',\n",
    "       'capsCrtA', 'CAPSTotal', 'hrslp', \n",
    "       'PSQIc1', 'PSQIc2', 'PSQIc3', 'PSQIc4', 'PSQIc5', 'PSQIc6',\n",
    "       'PSQIc7', 'PSQItot', 'PCL1', 'PCL2', 'PCL3', 'PCL4', 'PCL5',\n",
    "       'PCL6', 'PCL7', 'PCL8', 'PCL9', 'PCL10', 'PCL11', 'PCL12', 'PCL13',\n",
    "       'PCL14', 'PCL15', 'PCL16', 'PCL17', 'PCLTot', 'PHQ1', 'PHQ2',\n",
    "       'PHQ3', 'PHQ4', 'PHQ5', 'PHQ6', 'PHQ7', 'PHQ8', 'PHQ9', 'PHQTot',\n",
    "       'tbiDizzy', 'tbiBalan', 'tbiCoord', 'tbiHeada', 'tbiNaus',\n",
    "       'tbiVision', 'tbiLight', 'tbiHear', 'tbiNoise', 'tbiTingl',\n",
    "       'tbiTstsml', 'tbiAppet', 'tbiConc', 'tbiForget', 'tbiDecis',\n",
    "       'tbiSlow', 'tbiEnergy', 'tbiSleep', 'tbiAnx', 'tbiSad', 'tbiIrrit',\n",
    "       'tbiOverw', 'tbiDisin', 'tbiWithd', 'tbiRing', 'tbiMoods',\n",
    "       'tbiFight', 'tbiSpch', 'NSITot', 'TBITot', 'PreSleep', 'PreCaff',\n",
    "       'PreETOH', 'PreNic', 'PreTHC', \n",
    "       'NSI_comp_vestibular', 'NSI_comp_somatosensory',\n",
    "       'NSI_comp_cognitive', 'NSI_comp_affective',\n",
    "       'NSI_comp_ERP_affective', 'NIS_comp_ERP_vestsom']\n",
    "\n",
    "data_viz = data_clusters_TBI_v12[data_clusters_TBI_v12['VisitSeq']==1]\n",
    "for variable in variables[0:15]:\n",
    "    try:\n",
    "        plt.figure(figsize=(7,5))\n",
    "        sns.barplot(x='kmeans_cluster', y=variable, data=data_viz, hue='visit2', ci=68, palette=\"rocket\")\n",
    "        #plt.savefig(str(variable + '_plot.png'))\n",
    "        plt.show()\n",
    "    except:\n",
    "        pass"
   ]
  },
  {
   "cell_type": "code",
   "execution_count": null,
   "metadata": {},
   "outputs": [],
   "source": [
    "#list of categorical variables\n",
    "cat_vars = ['Status_x', 'GType', 'Race', 'Hispanic', 'Handedness', 'Marital', \n",
    " 'ExpPB', 'ExpMark1', 'ExpAntiM', 'ExpStim', 'ExpOthrS', 'ExpDEET',\n",
    "       'ExpTick', 'ExpPCollr', 'ExpPStrp', 'ExpPEnvi', 'ExpToxic',\n",
    "       'ExpPaint', 'ExpXsVib', 'ExpHStrk', 'ExpRadar', 'ExpIonRa',\n",
    "       'ExpYCake', 'ExpVhicl', 'ExpUrRnd', 'ExpDtOrd', 'ExpGasM',\n",
    "       'ExpMOPP', 'ExpRadBg', 'ExpAN', 'ExpNG', 'ExpTNT', 'ExpPETN',\n",
    "       'ExpRDX', 'ExpNC', 'ExpANFO', 'ExpCompB', 'ExpOctol', 'ExpPntlt',\n",
    "       'ExpDynmt', 'ExpOthrX', 'HYPERTEN', 'HYPERCHO', 'DIABETES', 'B12DEF', 'THYROID', \n",
    " 'MHxPain','MHxHA', 'MHxHtn', 'MHxCard', 'MHxGI', 'MHxNeuro', 'MHxLung', 'MHxApnea', \n",
    " 'SCPTSD', 'SCMDD', 'SCPD', 'SCGAD', 'SCNone', 'capsCrtA', 'kmeans_cluster', 'visit2']\n",
    "\n",
    "auditc_vars = ['auditc', 'AUDIT1', 'AUDIT2', 'AUDIT3']\n",
    "\n",
    "param_names = list(data_clusters_TBI)\n",
    "\n",
    "group = 'kmeans_cluster'\n",
    "\n",
    "order=[\"low\", \"freq\", \"binge\"]\n",
    "\n",
    "hue='visit2'\n",
    "\n",
    "#viz if params differ between partic who came back for a second visit or not\n",
    "graph_data(data_clusters_TBI_v12[data_clusters_TBI_v12['VisitSeq']==1], param_names, cat_vars, auditc_vars, group, order, hue=hue)"
   ]
  },
  {
   "cell_type": "code",
   "execution_count": null,
   "metadata": {},
   "outputs": [],
   "source": []
  },
  {
   "cell_type": "code",
   "execution_count": null,
   "metadata": {},
   "outputs": [],
   "source": []
  },
  {
   "cell_type": "code",
   "execution_count": null,
   "metadata": {},
   "outputs": [],
   "source": []
  },
  {
   "cell_type": "code",
   "execution_count": null,
   "metadata": {},
   "outputs": [],
   "source": [
    "#compute outliers\n",
    "data_clusters_TBI.set_index(['TBIID', 'Group', 'kmeans_cluster'], inplace=True)\n",
    "data_clusters_TBI_unstack = data_clusters_TBI.unstack(level = -1)\n",
    "data_clusters_TBI_unstack.head()\n",
    "\n",
    "#compute quartiles, IQRs, and bounds for each parameter for each group\n",
    "quartile_1 = data_clusters_TBI_unstack.quantile(0.25)\n",
    "quartile_3 = data_clusters_TBI_unstack.quantile(0.75)\n",
    "iqr = quartile_3 - quartile_1\n",
    "lower_bound = quartile_1 - (iqr * 1.5)\n",
    "upper_bound = quartile_3 + (iqr * 1.5)\n",
    "\n",
    "#use bounds to exclude any data points outside of the bounds (outliers will be replaced with NaN)\n",
    "outliers = data_clusters_TBI_unstack[(data_clusters_TBI_unstack <= upper_bound) & (data_clusters_TBI_unstack >= lower_bound)]\n",
    "#stack to return dataframe to original orientation\n",
    "df_no_outliers = outliers.stack()\n",
    "df_no_outliers.reset_index(inplace=True)\n",
    "df_no_outliers.head()"
   ]
  },
  {
   "cell_type": "code",
   "execution_count": null,
   "metadata": {},
   "outputs": [],
   "source": [
    "df_no_outliers.to_csv('df_no_outliers.csv')"
   ]
  },
  {
   "cell_type": "code",
   "execution_count": null,
   "metadata": {},
   "outputs": [],
   "source": [
    "#viz cluster grouping and auditc answers within this smaller data set of participants who came back for visitseq2\n",
    "auditc_cols = ['auditc', 'AUDIT1', 'AUDIT2', 'AUDIT3']\n",
    "for variable in auditc_cols:\n",
    "    try:\n",
    "        plt.figure(figsize=(7,7))\n",
    "        g = sns.barplot(x='kmeans_cluster', y=variable, data=data_clusters_TBI_v12_only[data_clusters_TBI_v12_only['VisitSeq'] == 1], ci=68, hue='Group', palette=\"rocket\", order=[\"low\", \"freq\", \"binge\"])\n",
    "        plt.show()\n",
    "    except:\n",
    "        pass"
   ]
  },
  {
   "cell_type": "code",
   "execution_count": null,
   "metadata": {},
   "outputs": [],
   "source": []
  }
 ],
 "metadata": {
  "kernelspec": {
   "display_name": "Python 3",
   "language": "python",
   "name": "python3"
  },
  "language_info": {
   "codemirror_mode": {
    "name": "ipython",
    "version": 3
   },
   "file_extension": ".py",
   "mimetype": "text/x-python",
   "name": "python",
   "nbconvert_exporter": "python",
   "pygments_lexer": "ipython3",
   "version": "3.6.9"
  }
 },
 "nbformat": 4,
 "nbformat_minor": 2
}
