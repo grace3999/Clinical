{
 "cells": [
  {
   "cell_type": "code",
   "execution_count": null,
   "metadata": {},
   "outputs": [],
   "source": [
    "#getting and working with data\n",
    "import pandas as pd\n",
    "import numpy as np\n",
    "import re\n",
    "import os\n",
    "import scipy as sp\n",
    "\n",
    "#visualizing results\n",
    "%matplotlib inline\n",
    "import seaborn as sns\n",
    "import matplotlib.pyplot as plt\n",
    "#import yellowbrick as yb\n",
    "\n",
    "pd.set_option('display.max_rows', 500)\n",
    "pd.set_option('display.max_columns', 500)\n",
    "pd.set_option('display.width', 1000)\n",
    "\n",
    "import warnings; warnings.simplefilter('ignore')\n",
    "np.set_printoptions(suppress=True)\n",
    "\n",
    "from sklearn.preprocessing import StandardScaler\n",
    "from sklearn.cluster import KMeans\n",
    "from sklearn.metrics.cluster import silhouette_score\n",
    "from sklearn.decomposition import KernelPCA\n",
    "from sklearn.decomposition import PCA\n",
    "from sklearn.manifold import TSNE"
   ]
  },
  {
   "cell_type": "code",
   "execution_count": null,
   "metadata": {},
   "outputs": [],
   "source": [
    "data_path = 'C:/Users/Schindler/Documents/Schindler_Lab/Data/Clinical projects/PeskindTBI/merge_data_first.csv'"
   ]
  },
  {
   "cell_type": "code",
   "execution_count": null,
   "metadata": {},
   "outputs": [],
   "source": [
    "#read in csv containing data from all surveys\n",
    "data = pd.read_csv(data_path)\n",
    "data = pd.DataFrame(data = data)\n",
    "\n",
    "print('Original data shape:\\n', data.shape, '\\n')\n",
    "print(data.info())\n",
    "data.head(1)"
   ]
  },
  {
   "cell_type": "code",
   "execution_count": null,
   "metadata": {},
   "outputs": [],
   "source": [
    "data.set_index(['TBIID', 'Group'], inplace=True)"
   ]
  },
  {
   "cell_type": "markdown",
   "metadata": {},
   "source": [
    "## AUDIT-C clustering with C and T"
   ]
  },
  {
   "cell_type": "code",
   "execution_count": null,
   "metadata": {},
   "outputs": [],
   "source": [
    "data_allgroups_auditqs = data[['AUDIT1', 'AUDIT2', 'AUDIT3']]\n",
    "print(data_allgroups_auditqs.shape)\n",
    "data_allgroups_auditqs.dropna(axis=0, inplace=True)\n",
    "print(data_allgroups_auditqs.shape)\n",
    "data_allgroups_auditqs.head()"
   ]
  },
  {
   "cell_type": "code",
   "execution_count": null,
   "metadata": {},
   "outputs": [],
   "source": [
    "# center and scale the data\n",
    "scaler = StandardScaler()\n",
    "\n",
    "data_allgroups_auditqs_scaled = scaler.fit_transform(data_allgroups_auditqs)"
   ]
  },
  {
   "cell_type": "code",
   "execution_count": null,
   "metadata": {},
   "outputs": [],
   "source": [
    "k_range = range(2,10)\n",
    "scores = []\n",
    "for k in k_range:\n",
    "    km_ss = KMeans(n_clusters=k, random_state=1)\n",
    "    km_ss.fit(data_allgroups_auditqs_scaled)\n",
    "    scores.append(silhouette_score(data_allgroups_auditqs_scaled, km_ss.labels_))\n",
    "\n",
    "# plot the results\n",
    "plt.plot(k_range, scores)\n",
    "plt.title('data_allgroups_auditqs_scaled clustering')\n",
    "plt.xlabel('Number of clusters')\n",
    "plt.ylabel('Silhouette Coefficient')"
   ]
  },
  {
   "cell_type": "code",
   "execution_count": null,
   "metadata": {},
   "outputs": [],
   "source": [
    "km_3_blast = KMeans(n_clusters=3,random_state=1)\n",
    "km_3_blast.fit(data_allgroups_auditqs_scaled)\n",
    "data_allgroups_auditqs['kmeans_cluster'] = [\"cluster_\" + str(label) for label in km_3_blast.labels_ ]\n",
    "data_allgroups_auditqs.head(1)"
   ]
  },
  {
   "cell_type": "code",
   "execution_count": null,
   "metadata": {},
   "outputs": [],
   "source": [
    "data_allgroups_auditqs.groupby('Group')['kmeans_cluster'].value_counts()"
   ]
  },
  {
   "cell_type": "code",
   "execution_count": null,
   "metadata": {},
   "outputs": [],
   "source": [
    "#add cluster column to initial df\n",
    "participants = data.index.get_level_values('TBIID')\n",
    "\n",
    "for part in participants:\n",
    "    try:\n",
    "        data.loc[data.index.get_level_values('TBIID') == part, 'kmeans_cluster_AUDITC'] = data_allgroups_auditqs[data_allgroups_auditqs.index.get_level_values('TBIID') == part]['kmeans_cluster'].values\n",
    "    except:\n",
    "        data.loc[data.index.get_level_values('TBIID') == part, 'kmeans_cluster_AUDITC'] = np.nan\n",
    "data.head()"
   ]
  },
  {
   "cell_type": "code",
   "execution_count": null,
   "metadata": {
    "scrolled": false
   },
   "outputs": [],
   "source": [
    "#plt.style.use('seaborn-white')\n",
    "auditc_cols = ['AUDITtot', 'AUDIT1', 'AUDIT2', 'AUDIT3']\n",
    "data.reset_index(inplace=True)\n",
    "for variable in auditc_cols:\n",
    "    try:\n",
    "        plt.figure(figsize=(7,7))\n",
    "        g = sns.barplot(x='kmeans_cluster_AUDITC', y=variable, data=data, ci=68, hue='Group', palette=\"rocket\", order=[\"cluster_0\", \"cluster_1\", \"cluster_2\"])\n",
    "        plt.show()\n",
    "    except:\n",
    "        pass"
   ]
  },
  {
   "cell_type": "code",
   "execution_count": null,
   "metadata": {},
   "outputs": [],
   "source": [
    "data.to_csv('data_auditc_clustering.csv')"
   ]
  },
  {
   "cell_type": "code",
   "execution_count": null,
   "metadata": {},
   "outputs": [],
   "source": [
    "AUDIT_tot_counts_cluster = data.groupby(['Group', 'kmeans_cluster_AUDITC'])['AUDITtot'].value_counts()\n",
    "AUDIT_1_counts_cluster = data.groupby(['Group', 'kmeans_cluster_AUDITC'])['AUDIT1'].value_counts()\n",
    "AUDIT_2_counts_cluster = data.groupby(['Group', 'kmeans_cluster_AUDITC'])['AUDIT2'].value_counts()\n",
    "AUDIT_3_counts_cluster = data.groupby(['Group', 'kmeans_cluster_AUDITC'])['AUDIT3'].value_counts()\n",
    "AUDIT_tot_counts_cluster.to_csv('AUDIT_tot_counts_cluster.csv')\n",
    "AUDIT_1_counts_cluster.to_csv('AUDIT_1_counts_cluster.csv')\n",
    "AUDIT_2_counts_cluster.to_csv('AUDIT_2_counts_cluster.csv')\n",
    "AUDIT_3_counts_cluster.to_csv('AUDIT_3_counts_cluster.csv')"
   ]
  },
  {
   "cell_type": "code",
   "execution_count": null,
   "metadata": {
    "scrolled": true
   },
   "outputs": [],
   "source": [
    "variables_long = ['GType', 'Race', 'Hispanic', 'Handedness',\n",
    "       'ScreenAge', 'Education', 'PsyEduc', 'cestotal', 'NSITot',\n",
    "       'TBITot', 'CAPSTotal', 'PCLTot', 'PTSD_YN', 'PSQItot', 'PHQTot',\n",
    "       'BNITotIm', 'BISTot', 'AUDITtot', 'AUDIT1', 'AUDIT2', 'AUDIT3',\n",
    "       'dopac_da_ratio', 'DA', 'DOPA', 'NE', 'QKOIorA', 'QKOExpMil', 'QKOAllMil', 'QKOLife',\n",
    "       'QBlstExp', 'QBEACRM', 'MnthSncBlst', 'QEDist_sum', 'QEDist_mean',\n",
    "       'DvpHA', 'DvpHAAct', 'DvpHASlp', 'DvpHAMd', 'DvpHAStr', 'DvpBP',\n",
    "       'DvpBPAct', 'DvpBPslp', 'DvpBPMd', 'DvpBPStr', 'tbiDizzy',\n",
    "       'tbiBalan', 'tbiCoord', 'tbiHeada', 'tbiNaus', 'tbiVision',\n",
    "       'tbiLight', 'tbiHear', 'tbiNoise', 'tbiTingl', 'tbiTstsml',\n",
    "       'tbiAppet', 'tbiConc', 'tbiForget', 'tbiDecis', 'tbiSlow',\n",
    "       'tbiEnergy', 'tbiSleep', 'tbiAnx', 'tbiSad', 'tbiIrrit',\n",
    "       'tbiOverw', 'tbiDisin', 'tbiWithd', 'tbiRing', 'tbiMoods',\n",
    "       'tbiFight', 'tbiSpch', 'hrslp', 'PSQI1hr', 'PSQI1min', 'PSQI2',\n",
    "       'PSQI3hr', 'PSQI3min', 'PSQI5a', 'PSQI5b', 'PSQI5c', 'PSQI5d',\n",
    "       'PSQI5e', 'PSQI5f', 'PSQI5g', 'PSQI5h', 'PSQI5i', 'PSQI5j',\n",
    "       'PSQI6', 'PSQI7', 'PSQI8', 'PSQI9', 'PSQIc1', 'PSQIc2', 'PSQIc3',\n",
    "       'PSQIc4', 'PSQIc5', 'PSQIc6', 'PSQIc7', 'PCL1', 'PCL2', 'PCL3',\n",
    "       'PCL4', 'PCL5', 'PCL6', 'PCL7', 'PCL8', 'PCL9', 'PCL10', 'PCL11',\n",
    "       'PCL12', 'PCL13', 'PCL14', 'PCL15', 'PCL16', 'PCL17', 'PHQ1',\n",
    "       'PHQ2', 'PHQ3', 'PHQ4', 'PHQ5', 'PHQ6', 'PHQ7', 'PHQ8', 'PHQ9',\n",
    "       'BNI1Im', 'BNI2Im', 'BNI3Im', 'BNI4Im', 'BNI5Im', 'BNI6Im',\n",
    "       'BNI7Im', 'BNI8Im', 'BNI9Im', 'BNI10Im', 'BNI11', 'BISAtt',\n",
    "       'BISMtr', 'BISNonpl', 'PETType', 'Frontal_Mid_l', 'Frontal_Mid_r',\n",
    "       'Insula_l', 'Insula_r', 'Cingulum_Ant_l', 'Cingulum_Ant_r',\n",
    "       'Amygdala_l', 'Amygdala_r', 'CaudateNucl_l', 'CaudateNucl_r',\n",
    "       'Putamen_l', 'Putamen_r', 'Pallidum_l', 'Pallidum_r', 'Medulla',\n",
    "       'Midbrain', 'Pons', 'kmeans_cluster_AUDITC']\n",
    "\n",
    "for variable in variables_long:\n",
    "    try:\n",
    "        plt.figure(figsize=(7,5))\n",
    "        sns.barplot(x='kmeans_cluster_AUDITC', y=variable, data=data, ci=68, hue='Group', palette=\"rocket\", order=[\"cluster_0\", \"cluster_1\", \"cluster_2\"])\n",
    "        plt.savefig(str(variable + '_plot.png'))\n",
    "        plt.show()\n",
    "    except:\n",
    "        pass"
   ]
  },
  {
   "cell_type": "code",
   "execution_count": null,
   "metadata": {},
   "outputs": [],
   "source": []
  },
  {
   "cell_type": "code",
   "execution_count": null,
   "metadata": {},
   "outputs": [],
   "source": []
  },
  {
   "cell_type": "code",
   "execution_count": null,
   "metadata": {},
   "outputs": [],
   "source": []
  },
  {
   "cell_type": "code",
   "execution_count": null,
   "metadata": {},
   "outputs": [],
   "source": []
  },
  {
   "cell_type": "code",
   "execution_count": null,
   "metadata": {},
   "outputs": [],
   "source": []
  },
  {
   "cell_type": "code",
   "execution_count": null,
   "metadata": {},
   "outputs": [],
   "source": [
    "tsne = TSNE(n_components=2, random_state=1234)\n",
    "tsne_features = tsne.fit_transform(data_TBI_variables_scaled)\n",
    "\n",
    "print(tsne_features.shape)\n",
    "tsne_df = pd.DataFrame(data = tsne_features, columns = ['tsne_0', 'tsne_1'], index = data_TBI_variables.index)\n",
    "data_TBI_variables = pd.concat([data_TBI_variables, tsne_df], axis = 1)"
   ]
  },
  {
   "cell_type": "code",
   "execution_count": null,
   "metadata": {},
   "outputs": [],
   "source": [
    "pca_ss = KernelPCA(n_components=2, kernel='linear', random_state=1)\n",
    "kernel_pca_linear = pca_ss.fit_transform(data_TBI_variables_scaled)\n",
    "\n",
    "print(kernel_pca_linear.shape)\n",
    "\n",
    "kernel_pca_linear_df = pd.DataFrame(data = kernel_pca_linear, columns = ['pca_linear_0', 'pca_linear_1'], index = data_TBI_variables.index)\n",
    "data_TBI_variables = pd.concat([data_TBI_variables, kernel_pca_linear_df], axis = 1)"
   ]
  },
  {
   "cell_type": "code",
   "execution_count": null,
   "metadata": {},
   "outputs": [],
   "source": [
    "pca_ss = KernelPCA(n_components=2, kernel='rbf', random_state=1)\n",
    "kernel_pca_rbf = pca_ss.fit_transform(data_TBI_variables_scaled)\n",
    "\n",
    "print(kernel_pca_rbf.shape)\n",
    "\n",
    "kernel_pca_rbf_df = pd.DataFrame(data = kernel_pca_rbf, columns = ['pca_rbf_0', 'pca_rbf_1'], index = data_TBI_variables.index)\n",
    "data_TBI_variables = pd.concat([data_TBI_variables, kernel_pca_rbf_df], axis = 1)"
   ]
  },
  {
   "cell_type": "code",
   "execution_count": null,
   "metadata": {},
   "outputs": [],
   "source": [
    "for variable in variables:\n",
    "    plt.figure(figsize=(7,7))\n",
    "    sns.scatterplot(x = 'pca_rbf_0', y = 'pca_rbf_1', data = data_TBI_variables, hue=variable)\n",
    "    plt.show()\n",
    "#plt.title(\"Projection of the data on 2 components + ground truth labels\")"
   ]
  },
  {
   "cell_type": "code",
   "execution_count": null,
   "metadata": {},
   "outputs": [],
   "source": []
  },
  {
   "cell_type": "code",
   "execution_count": null,
   "metadata": {},
   "outputs": [],
   "source": []
  }
 ],
 "metadata": {
  "kernelspec": {
   "display_name": "Python 3",
   "language": "python",
   "name": "python3"
  },
  "language_info": {
   "codemirror_mode": {
    "name": "ipython",
    "version": 3
   },
   "file_extension": ".py",
   "mimetype": "text/x-python",
   "name": "python",
   "nbconvert_exporter": "python",
   "pygments_lexer": "ipython3",
   "version": "3.6.7"
  }
 },
 "nbformat": 4,
 "nbformat_minor": 2
}
