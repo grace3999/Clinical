{
 "cells": [
  {
   "cell_type": "markdown",
   "metadata": {},
   "source": [
    "Careless responder feature engineering and analysis (inital focus on psych_flex survey only)"
   ]
  },
  {
   "cell_type": "code",
   "execution_count": null,
   "metadata": {},
   "outputs": [],
   "source": [
    "#getting and working with data\n",
    "import pandas as pd\n",
    "import numpy as np\n",
    "import re\n",
    "import os\n",
    "import scipy as sp\n",
    "\n",
    "#visualizing results\n",
    "%matplotlib inline\n",
    "import seaborn as sns\n",
    "import matplotlib.pyplot as plt\n",
    "#import yellowbrick as yb\n",
    "\n",
    "pd.set_option('display.max_rows', 500)\n",
    "pd.set_option('display.max_columns', 500)\n",
    "pd.set_option('display.width', 1000)\n",
    "\n",
    "import warnings; warnings.simplefilter('ignore')\n",
    "np.set_printoptions(suppress=True)\n",
    "\n",
    "from sklearn.preprocessing import StandardScaler\n",
    "from sklearn.cluster import KMeans\n",
    "from sklearn.metrics.cluster import silhouette_score\n",
    "from sklearn.decomposition import KernelPCA\n",
    "from sklearn.decomposition import PCA\n",
    "from sklearn.manifold import TSNE"
   ]
  },
  {
   "cell_type": "code",
   "execution_count": null,
   "metadata": {},
   "outputs": [],
   "source": [
    "data_path = 'C:/Users/Schindler/Documents/Schindler_Lab/Data/Clinical projects/PeskindTBI/merge_data_first.csv'"
   ]
  },
  {
   "cell_type": "code",
   "execution_count": null,
   "metadata": {},
   "outputs": [],
   "source": [
    "#read in csv containing data from all surveys\n",
    "data = pd.read_csv(data_path)\n",
    "data = pd.DataFrame(data = data)\n",
    "\n",
    "print('Original data shape:\\n', data.shape, '\\n')\n",
    "data.head(1)"
   ]
  },
  {
   "cell_type": "code",
   "execution_count": null,
   "metadata": {},
   "outputs": [],
   "source": [
    "\n",
    "variables_long = ['ScreenAge',\n",
    "       'cestotal', 'MnthSncBlst', 'QEDist_sum',\n",
    "       'QEDist_mean', 'NSITot', 'TBITot', 'hrslp', 'PSQItot', 'PCLTot',\n",
    "       'CAPSTotal', 'PHQTot', 'PTSD_YN', \n",
    "       'QKOIorA', 'QKOExpMil', 'QKOAllMil', 'QKOLife', 'QBlstExp',\n",
    "        'tbiDizzy', 'tbiBalan', 'tbiCoord', 'tbiHeada', 'tbiNaus',\n",
    "       'tbiVision', 'tbiLight', 'tbiHear', 'tbiNoise', 'tbiTingl',\n",
    "       'tbiTstsml', 'tbiAppet', 'tbiConc', 'tbiForget', 'tbiDecis',\n",
    "       'tbiSlow', 'tbiEnergy', 'tbiSleep', 'tbiAnx', 'tbiSad', 'tbiIrrit',\n",
    "       'tbiOverw', 'tbiDisin', 'tbiWithd', 'tbiRing', 'tbiMoods',\n",
    "       'tbiFight', 'tbiSpch', 'DA', 'DOPA', 'NE', 'QBEACRM', 'BISAtt', 'BISMtr', 'BISNonpl', 'BISTot', 'DvpHA', 'DvpBP',\n",
    "        'Frontal_Mid_l', 'Frontal_Mid_r', 'Insula_l', 'Insula_r',\n",
    "       'Cingulum_Ant_l', 'Cingulum_Ant_r', 'Amygdala_l', 'Amygdala_r',\n",
    "       'CaudateNucl_l', 'CaudateNucl_r', 'Putamen_l', 'Putamen_r',\n",
    "       'Pallidum_l', 'Pallidum_r', 'Medulla', 'Midbrain', 'Pons', 'auditc', \n",
    "       'AUDIT1', 'AUDIT2', 'AUDIT3']\n",
    "\n",
    "variables = ['cestotal', 'QEDist_sum', 'QEDist_mean',  \n",
    "       'QKOIorA', 'QKOExpMil', 'QKOAllMil', 'QKOLife', 'QBlstExp']\n",
    "\n",
    "data_TBI = data[data['Group'] == 'T']\n",
    "data_TBI.set_index('TBIID', inplace=True)\n",
    "data_TBI_variables = data_TBI[variables].dropna()\n",
    "print(data_TBI_variables.shape)\n",
    "data_TBI_variables.head(1)"
   ]
  },
  {
   "cell_type": "code",
   "execution_count": null,
   "metadata": {},
   "outputs": [],
   "source": [
    "# center and scale the data\n",
    "scaler = StandardScaler()\n",
    "\n",
    "data_TBI_variables_scaled = scaler.fit_transform(data_TBI_variables)"
   ]
  },
  {
   "cell_type": "code",
   "execution_count": null,
   "metadata": {},
   "outputs": [],
   "source": [
    "k_range = range(2,20)\n",
    "scores = []\n",
    "for k in k_range:\n",
    "    km_ss = KMeans(n_clusters=k, random_state=1)\n",
    "    km_ss.fit(data_TBI_variables_scaled)\n",
    "    scores.append(silhouette_score(data_TBI_variables_scaled, km_ss.labels_))\n",
    "\n",
    "# plot the results\n",
    "plt.plot(k_range, scores)\n",
    "plt.title('data_TBI_variables clustering')\n",
    "plt.xlabel('Number of clusters')\n",
    "plt.ylabel('Silhouette Coefficient')"
   ]
  },
  {
   "cell_type": "code",
   "execution_count": null,
   "metadata": {},
   "outputs": [],
   "source": [
    "km_3 = KMeans(n_clusters=2,random_state=1234)\n",
    "km_3.fit(data_TBI_variables_scaled)\n",
    "data_TBI_variables['kmeans_cluster'] = [\"cluster_\" + str(label) for label in km_3.labels_ ]\n",
    "data_TBI_variables.head()"
   ]
  },
  {
   "cell_type": "code",
   "execution_count": null,
   "metadata": {},
   "outputs": [],
   "source": [
    "data_TBI_variables['kmeans_cluster'].value_counts()"
   ]
  },
  {
   "cell_type": "code",
   "execution_count": null,
   "metadata": {},
   "outputs": [],
   "source": [
    "#add cluster column to PF survey df\n",
    "participants = data_TBI.index\n",
    "\n",
    "for part in participants:\n",
    "    try:\n",
    "        data_TBI.loc[data_TBI.index == part, 'kmeans_cluster'] = data_TBI_variables[data_TBI_variables.index == part]['kmeans_cluster'].values\n",
    "    except:\n",
    "        data_TBI.loc[data_TBI.index == part, 'kmeans_cluster'] = np.nan\n",
    "data_TBI.head()"
   ]
  },
  {
   "cell_type": "code",
   "execution_count": null,
   "metadata": {},
   "outputs": [],
   "source": [
    "data_TBI_cluster = data_TBI.groupby('kmeans_cluster')['AUDITtot'].value_counts() \n",
    "data_TBI_cluster_perc = data_TBI.groupby('kmeans_cluster')['AUDITtot'].value_counts() / data_TBI.groupby('kmeans_cluster')['AUDITtot'].count() \n",
    "data_TBI_cluster_perc.to_csv('data_TBI_cluster_perc.csv')"
   ]
  },
  {
   "cell_type": "code",
   "execution_count": null,
   "metadata": {},
   "outputs": [],
   "source": [
    "#plt.style.use('seaborn-white')\n",
    "for variable in variables_long:\n",
    "    plt.figure(figsize=(7,7))\n",
    "    g = sns.barplot(x='kmeans_cluster', y=variable, data=data_TBI, ci=68, palette=\"rocket\", order=[\"cluster_0\", \"cluster_1\"])\n",
    "    plt.show()"
   ]
  },
  {
   "cell_type": "code",
   "execution_count": null,
   "metadata": {},
   "outputs": [],
   "source": [
    "tsne = TSNE(n_components=2, random_state=1234)\n",
    "tsne_features = tsne.fit_transform(data_TBI_variables_scaled)\n",
    "\n",
    "print(tsne_features.shape)\n",
    "tsne_df = pd.DataFrame(data = tsne_features, columns = ['tsne_0', 'tsne_1'], index = data_TBI_variables.index)\n",
    "data_TBI_variables = pd.concat([data_TBI_variables, tsne_df], axis = 1)"
   ]
  },
  {
   "cell_type": "code",
   "execution_count": null,
   "metadata": {},
   "outputs": [],
   "source": [
    "pca_ss = KernelPCA(n_components=2, kernel='linear', random_state=1)\n",
    "kernel_pca_linear = pca_ss.fit_transform(data_TBI_variables_scaled)\n",
    "\n",
    "print(kernel_pca_linear.shape)\n",
    "\n",
    "kernel_pca_linear_df = pd.DataFrame(data = kernel_pca_linear, columns = ['pca_linear_0', 'pca_linear_1'], index = data_TBI_variables.index)\n",
    "data_TBI_variables = pd.concat([data_TBI_variables, kernel_pca_linear_df], axis = 1)"
   ]
  },
  {
   "cell_type": "code",
   "execution_count": null,
   "metadata": {},
   "outputs": [],
   "source": [
    "pca_ss = KernelPCA(n_components=2, kernel='rbf', random_state=1)\n",
    "kernel_pca_rbf = pca_ss.fit_transform(data_TBI_variables_scaled)\n",
    "\n",
    "print(kernel_pca_rbf.shape)\n",
    "\n",
    "kernel_pca_rbf_df = pd.DataFrame(data = kernel_pca_rbf, columns = ['pca_rbf_0', 'pca_rbf_1'], index = data_TBI_variables.index)\n",
    "data_TBI_variables = pd.concat([data_TBI_variables, kernel_pca_rbf_df], axis = 1)"
   ]
  },
  {
   "cell_type": "code",
   "execution_count": null,
   "metadata": {},
   "outputs": [],
   "source": [
    "for variable in variables:\n",
    "    plt.figure(figsize=(7,7))\n",
    "    sns.scatterplot(x = 'pca_rbf_0', y = 'pca_rbf_1', data = data_TBI_variables, hue=variable)\n",
    "    plt.show()\n",
    "#plt.title(\"Projection of the data on 2 components + ground truth labels\")"
   ]
  },
  {
   "cell_type": "code",
   "execution_count": null,
   "metadata": {},
   "outputs": [],
   "source": []
  },
  {
   "cell_type": "code",
   "execution_count": null,
   "metadata": {},
   "outputs": [],
   "source": []
  }
 ],
 "metadata": {
  "kernelspec": {
   "display_name": "Python 3",
   "language": "python",
   "name": "python3"
  },
  "language_info": {
   "codemirror_mode": {
    "name": "ipython",
    "version": 3
   },
   "file_extension": ".py",
   "mimetype": "text/x-python",
   "name": "python",
   "nbconvert_exporter": "python",
   "pygments_lexer": "ipython3",
   "version": "3.6.7"
  }
 },
 "nbformat": 4,
 "nbformat_minor": 2
}
