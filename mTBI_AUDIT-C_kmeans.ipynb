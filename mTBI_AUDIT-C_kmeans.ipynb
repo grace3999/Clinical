{
 "cells": [
  {
   "cell_type": "markdown",
   "metadata": {},
   "source": [
    "## AUDIT-C clustering with C and T from first visit sequence\n",
    "\n",
    "Are there within and/or between group differences across the AUDIT-C questions? Use kmeans cluster analysis to explore.\n",
    "\n",
    "- Question 1: How often do you have a drink containing alcohol? \n",
    "    - Response categories: never, monthly or less, 2 to 4 times/month, 2 to 3 times/week, 4 or more times/week). \n",
    "- Question 2 How many drinks do you have on a typical day when you are drinking?\n",
    "    - Response categories: “1 or 2”, “3 or 4”, “5 or 6”, “7 to 9”, or “10 or more”\n",
    "- Question 3 How often do you have 5 or more drinks on one occasion?\n",
    "    - Response categories: “never”, “less than monthly”, “monthly”, “2-3 times”, or “4 or more times”"
   ]
  },
  {
   "cell_type": "code",
   "execution_count": null,
   "metadata": {},
   "outputs": [],
   "source": [
    "#getting and working with data\n",
    "import pandas as pd\n",
    "import numpy as np\n",
    "import re\n",
    "import os\n",
    "import scipy as sp\n",
    "\n",
    "#visualizing results\n",
    "import matplotlib.pyplot as plt\n",
    "from matplotlib.patches import Patch\n",
    "%matplotlib inline\n",
    "import seaborn as sns\n",
    "sns.set_context('poster')\n",
    "\n",
    "pd.set_option('display.max_rows', 500)\n",
    "pd.set_option('display.max_columns', 500)\n",
    "pd.set_option('display.width', 1000)\n",
    "\n",
    "import warnings; warnings.simplefilter('ignore')\n",
    "np.set_printoptions(suppress=True)\n",
    "\n",
    "from sklearn.preprocessing import StandardScaler\n",
    "from sklearn.preprocessing import RobustScaler\n",
    "from sklearn import metrics\n",
    "from sklearn.manifold import TSNE\n",
    "\n",
    "from sklearn.cluster import KMeans\n",
    "\n",
    "import scipy.cluster.hierarchy as shc"
   ]
  },
  {
   "cell_type": "code",
   "execution_count": null,
   "metadata": {},
   "outputs": [],
   "source": [
    "data_path = 'C:/Users/Schindler/Documents/Schindler_Lab/Data/Clinical projects/PeskindTBI/final_data/data_final_earliest.csv'"
   ]
  },
  {
   "cell_type": "code",
   "execution_count": null,
   "metadata": {},
   "outputs": [],
   "source": [
    "#read in csv containing data from all surveys and all visitseqs\n",
    "data = pd.read_csv(data_path, index_col=0)\n",
    "data = pd.DataFrame(data = data)\n",
    "\n",
    "print('Original data shape:\\n', data.shape, '\\n')\n",
    "print(data.info())\n",
    "data.head(1)"
   ]
  },
  {
   "cell_type": "code",
   "execution_count": null,
   "metadata": {},
   "outputs": [],
   "source": [
    "#determined outliers for auditc and QBlstExp (outlier = >3 SD from mean) and remove\n",
    "data = data[data[\"TBIID\"] != 'C010']\n",
    "data = data[data[\"TBIID\"] != 'T080']"
   ]
  },
  {
   "cell_type": "markdown",
   "metadata": {},
   "source": [
    "### create data set"
   ]
  },
  {
   "cell_type": "code",
   "execution_count": null,
   "metadata": {},
   "outputs": [],
   "source": [
    "#perform clustering on individual auditc questions (3 total questions) from visit sequence 1\n",
    "data_first = data[data['VisitSeq'] == 1]\n",
    "data_allgroups_auditqs = data_first[['VisitSeq', 'Group', 'TBIID', 'auditc', 'AUDIT1', 'AUDIT2', 'AUDIT3']].set_index(['VisitSeq', 'Group', 'TBIID'])\n",
    "print(data_allgroups_auditqs.shape)\n",
    "data_allgroups_auditqs.dropna(axis=0, inplace=True)\n",
    "print(data_allgroups_auditqs.shape)\n",
    "data_allgroups_auditqs.head()"
   ]
  },
  {
   "cell_type": "markdown",
   "metadata": {},
   "source": [
    "### scale"
   ]
  },
  {
   "cell_type": "code",
   "execution_count": null,
   "metadata": {},
   "outputs": [],
   "source": [
    "#make three data sets\n",
    "AUDIT_raw = data_allgroups_auditqs[['AUDIT1', 'AUDIT2', 'AUDIT3']]\n",
    "\n",
    "# center and scale the data\n",
    "scaler = StandardScaler()\n",
    "#scaler = RobustScaler()\n",
    "\n",
    "AUDIT_raw_scaled = scaler.fit_transform(AUDIT_raw)"
   ]
  },
  {
   "cell_type": "markdown",
   "metadata": {},
   "source": [
    "### determine optimal k cluster number"
   ]
  },
  {
   "cell_type": "code",
   "execution_count": null,
   "metadata": {
    "scrolled": true
   },
   "outputs": [],
   "source": [
    "data = AUDIT_raw_scaled\n",
    "\n",
    "#pick cluster number based on silhouette coefficient\n",
    "k_range = range(2,7)\n",
    "\n",
    "base_scores = []\n",
    "sil_scores = []\n",
    "db_scores = []\n",
    "ch_scores = []\n",
    "mse_scores = []\n",
    "\n",
    "for k in k_range:\n",
    "    km_ss = KMeans(n_clusters=k, random_state=39)\n",
    "    km_ss.fit(data)\n",
    "    \n",
    "    base_scores.append(-km_ss.score(data))\n",
    "    sil_scores.append(metrics.silhouette_score(data, km_ss.labels_))\n",
    "    db_scores.append(metrics.davies_bouldin_score(data, km_ss.labels_))\n",
    "    ch_scores.append(metrics.calinski_harabasz_score(data, km_ss.labels_))\n",
    "    mse_scores.append(km_ss.inertia_)\n",
    "    \n",
    "# plot the results\n",
    "plt.plot(k_range, base_scores)\n",
    "plt.title('AUDIT-C Questions K means clustering')\n",
    "plt.xlabel('Number of clusters')\n",
    "plt.ylabel('Base score')\n",
    "plt.show()\n",
    "\n",
    "# plot the results\n",
    "plt.plot(k_range, sil_scores)\n",
    "plt.title('AUDIT-C Questions K means clustering')\n",
    "plt.xlabel('Number of clusters')\n",
    "plt.ylabel('Silhouette Coefficient')\n",
    "plt.show()\n",
    "\n",
    "# plot the results\n",
    "plt.plot(k_range, db_scores)\n",
    "plt.title('AUDIT-C Questions K means clustering')\n",
    "plt.xlabel('Number of clusters')\n",
    "plt.ylabel('Davies Bouldin Score')\n",
    "plt.show()\n",
    "\n",
    "# plot the results\n",
    "plt.plot(k_range, ch_scores)\n",
    "plt.title('AUDIT-C Questions K means clustering')\n",
    "plt.xlabel('Number of clusters')\n",
    "plt.ylabel('Calinski Harabasz Score')\n",
    "plt.show()\n",
    "    \n",
    "# plot the results\n",
    "plt.plot(k_range, mse_scores)\n",
    "plt.title('AUDIT-C Questions K means clustering')\n",
    "plt.xlabel('Number of clusters')\n",
    "plt.ylabel('Inertia')\n",
    "plt.show()"
   ]
  },
  {
   "cell_type": "markdown",
   "metadata": {},
   "source": [
    "#### Dendrogram to determine cluster number"
   ]
  },
  {
   "cell_type": "code",
   "execution_count": null,
   "metadata": {},
   "outputs": [],
   "source": [
    "#viz dendrogram to find if three clusters makes sense\n",
    "plt.figure(figsize=(10, 7))  \n",
    "plt.title(\"AUDIT-C 3 Question Dendrogram\")  \n",
    "plt.ylabel(\"Distance (dissimilarity)\")\n",
    "plt.xlabel(\"Participants\")\n",
    "dend = shc.dendrogram(shc.linkage(AUDIT_raw_scaled, method='ward'), \n",
    "                      distance_sort='ascending',\n",
    "                      show_leaf_counts=True, leaf_font_size=8)"
   ]
  },
  {
   "cell_type": "code",
   "execution_count": null,
   "metadata": {},
   "outputs": [],
   "source": [
    "#viz clustering with heat map of AUDIT-C answers\n",
    "sns.clustermap(AUDIT_raw_scaled, metric=\"euclidean\", standard_scale=1, method=\"ward\", cmap=\"Blues\")"
   ]
  },
  {
   "cell_type": "markdown",
   "metadata": {},
   "source": [
    "#### kmeans determine stability"
   ]
  },
  {
   "cell_type": "code",
   "execution_count": null,
   "metadata": {},
   "outputs": [],
   "source": [
    "def kmeans_stability(data, k):\n",
    "    \n",
    "    ####determine cluster stability - bootstrap starting random state - e.g. different cluster initialization \n",
    "    \n",
    "    scores = {}\n",
    "    \n",
    "    homogeneity_score_list = []\n",
    "    completeness_score_list = []\n",
    "    v_measure_score_list = []\n",
    "    adjusted_rand_score_list = []\n",
    "    adjusted_mutual_info_score_list = []\n",
    "    \n",
    "    #create initial cluster as baseline comparison\n",
    "    km_orig = KMeans(n_clusters=k, random_state=39)\n",
    "    km_orig.fit(data)\n",
    "    orig_clusters = km_orig.labels_\n",
    "\n",
    "    #bootstrap random state and compare to baseline cluster\n",
    "    for i in range(1,99,3):\n",
    "\n",
    "        #fit\n",
    "        km_int = KMeans(n_clusters=k, random_state=i)\n",
    "        km_int.fit(data)\n",
    "        int_clusters = km_int.labels_\n",
    "    \n",
    "        #compute metrics\n",
    "        homogeneity_score_int = metrics.homogeneity_score(orig_clusters, int_clusters)\n",
    "        completeness_score_int = metrics.completeness_score(orig_clusters, int_clusters)\n",
    "        v_measure_score_int = metrics.v_measure_score(orig_clusters, int_clusters)\n",
    "        adjusted_rand_score_int = metrics.adjusted_rand_score(orig_clusters, int_clusters)\n",
    "        adjusted_mutual_info_score_int = metrics.adjusted_mutual_info_score(orig_clusters,  int_clusters)\n",
    "    \n",
    "        homogeneity_score_list.append(homogeneity_score_int)\n",
    "        completeness_score_list.append(completeness_score_int)\n",
    "        v_measure_score_list.append(v_measure_score_int)\n",
    "        adjusted_rand_score_list.append(adjusted_rand_score_int)\n",
    "        adjusted_mutual_info_score_list.append(adjusted_mutual_info_score_int)\n",
    "    \n",
    "    scores['homogeneity_score'] = homogeneity_score_list\n",
    "    scores['completeness_score'] = completeness_score_list\n",
    "    scores['v_measure_score'] = v_measure_score_list\n",
    "    scores['adjusted_rand_score'] = adjusted_rand_score_list\n",
    "    scores['adjusted_mutual_info_score'] = adjusted_mutual_info_score_list\n",
    "    \n",
    "    return scores"
   ]
  },
  {
   "cell_type": "code",
   "execution_count": null,
   "metadata": {},
   "outputs": [],
   "source": [
    "scores_k2 = pd.DataFrame.from_dict(kmeans_stability(AUDIT_raw_scaled, 2)).mean()\n",
    "scores_k3 = pd.DataFrame.from_dict(kmeans_stability(AUDIT_raw_scaled, 3)).mean()\n",
    "scores_k4 = pd.DataFrame.from_dict(kmeans_stability(AUDIT_raw_scaled, 4)).mean()\n",
    "scores_k5 = pd.DataFrame.from_dict(kmeans_stability(AUDIT_raw_scaled, 5)).mean()\n",
    "\n",
    "pd.DataFrame(data=[scores_k2, scores_k3, scores_k4, scores_k5], index=['k=2', 'k=3', 'k=4', 'k=5'])"
   ]
  },
  {
   "cell_type": "markdown",
   "metadata": {},
   "source": [
    "### Kmeans clustering on AUDIT_raw_scaled with k=3"
   ]
  },
  {
   "cell_type": "code",
   "execution_count": null,
   "metadata": {},
   "outputs": [],
   "source": [
    "#choose k=3 clusters and fit data\n",
    "km_3 = KMeans(n_clusters=3,random_state=99)\n",
    "km_3.fit(AUDIT_raw_scaled)\n",
    "#new df for cluster info\n",
    "data_allgroups_auditqs_clusters = data_allgroups_auditqs\n",
    "data_allgroups_auditqs_clusters = data_allgroups_auditqs_clusters.reset_index()\n",
    "data_allgroups_auditqs_clusters['kmeans_cluster'] = [\"cluster_\" + str(label) for label in km_3.labels_ ]\n",
    "print(data_allgroups_auditqs_clusters.shape)\n",
    "data_allgroups_auditqs_clusters.head(1)"
   ]
  },
  {
   "cell_type": "code",
   "execution_count": null,
   "metadata": {},
   "outputs": [],
   "source": [
    "#merge with orig df so each TBIID entry has its corr cluster assignment added\n",
    "data_clusters = pd.merge(data_first, data_allgroups_auditqs_clusters[['TBIID', 'kmeans_cluster']], on=['TBIID'], how='outer')\n",
    "print(data_clusters.shape)\n",
    "print(data_clusters['kmeans_cluster'].value_counts())\n",
    "data_clusters.head(1)"
   ]
  },
  {
   "cell_type": "code",
   "execution_count": null,
   "metadata": {
    "scrolled": false
   },
   "outputs": [],
   "source": [
    "#viz cluster grouping and auditc answers - seems to be low(1), high freq(2), and binge clusters(0)\n",
    "auditc_cols = ['auditc', 'AUDIT1', 'AUDIT2', 'AUDIT3']\n",
    "for variable in auditc_cols:\n",
    "    try:\n",
    "        plt.figure(figsize=(7,7))\n",
    "        g = sns.barplot(x='kmeans_cluster', y=variable, data=data_clusters[data_clusters['VisitSeq'] == 1], ci=68, palette=\"rocket\", order=[\"cluster_0\", \"cluster_1\", \"cluster_2\"])\n",
    "        plt.show()\n",
    "    except:\n",
    "        pass"
   ]
  },
  {
   "cell_type": "code",
   "execution_count": null,
   "metadata": {},
   "outputs": [],
   "source": [
    "#rename clusters for easier viz understanding\n",
    "data_clusters.replace({'kmeans_cluster': {'cluster_0':'Often', 'cluster_1':'Heavy','cluster_2':'Low',}}, inplace=True)\n",
    "#look at counts in each cluster for each group (is there a difference in cluster patterns between groups?)\n",
    "data_clusters[data_clusters['VisitSeq'] == 1].groupby(['kmeans_cluster']).count()['TBIID'].reset_index(name='count').sort_values(['kmeans_cluster'])"
   ]
  },
  {
   "cell_type": "code",
   "execution_count": null,
   "metadata": {},
   "outputs": [],
   "source": [
    "(data_clusters[data_clusters['VisitSeq'] == 1].groupby(['Group'])['kmeans_cluster'].value_counts() / data_clusters[data_clusters['VisitSeq'] == 1].groupby(['Group'])['kmeans_cluster'].count()).reset_index(name='percent').sort_values(['kmeans_cluster', 'Group'])"
   ]
  },
  {
   "cell_type": "code",
   "execution_count": null,
   "metadata": {},
   "outputs": [],
   "source": [
    "tsne = TSNE(n_components=2, perplexity=50, random_state=1234)\n",
    "tsne_features = tsne.fit_transform(AUDIT_raw_scaled)\n",
    "\n",
    "print(tsne_features.shape)\n",
    "tsne_df = pd.DataFrame(data = tsne_features, columns = ['tsne_0', 'tsne_1'], index = data_allgroups_auditqs_clusters.index)\n",
    "data_allgroups_auditqs_clusters_TSNE = pd.concat([data_allgroups_auditqs_clusters, tsne_df], axis = 1)\n",
    "data_allgroups_auditqs_clusters_TSNE.replace({'kmeans_cluster': {'cluster_0':'Often', 'cluster_1':'Heavy','cluster_2':'Low',}}, inplace=True)\n",
    "data_allgroups_auditqs_clusters_TSNE.head()"
   ]
  },
  {
   "cell_type": "code",
   "execution_count": null,
   "metadata": {
    "scrolled": false
   },
   "outputs": [],
   "source": [
    "plt.figure(figsize=(10,5))\n",
    "sns.scatterplot(x='tsne_0', y='tsne_1', data=data_allgroups_auditqs_clusters_TSNE, hue='kmeans_cluster')\n",
    "plt.legend(loc='center left', bbox_to_anchor=(1, .95))"
   ]
  },
  {
   "cell_type": "code",
   "execution_count": null,
   "metadata": {},
   "outputs": [],
   "source": []
  },
  {
   "cell_type": "markdown",
   "metadata": {},
   "source": [
    "### Save cluster data"
   ]
  },
  {
   "cell_type": "code",
   "execution_count": null,
   "metadata": {},
   "outputs": [],
   "source": [
    "data_clusters.head()"
   ]
  },
  {
   "cell_type": "code",
   "execution_count": null,
   "metadata": {},
   "outputs": [],
   "source": [
    "#select only visit 1\n",
    "data_clusters = data_clusters[data_clusters['VisitSeq'] == 1]\n",
    "data_clusters.to_csv('data_clusters.csv')"
   ]
  },
  {
   "cell_type": "code",
   "execution_count": null,
   "metadata": {},
   "outputs": [],
   "source": [
    "AUDIT_cluster_counts"
   ]
  },
  {
   "cell_type": "code",
   "execution_count": null,
   "metadata": {},
   "outputs": [],
   "source": [
    "#get AUDIT counts and percents for chi squared analysis and viz\n",
    "AUDIT_tot_counts = data_allgroups_auditqs_clusters.groupby('Group')['auditc'].value_counts().reset_index(name='count').sort_values(['Group', 'auditc'])\n",
    "AUDIT_1_counts = data_allgroups_auditqs_clusters.groupby('Group')['AUDIT1'].value_counts().reset_index(name='count').sort_values(['Group', 'AUDIT1'])\n",
    "AUDIT_2_counts = data_allgroups_auditqs_clusters.groupby('Group')['AUDIT2'].value_counts().reset_index(name='count').sort_values(['Group', 'AUDIT2'])\n",
    "AUDIT_3_counts = data_allgroups_auditqs_clusters.groupby('Group')['AUDIT3'].value_counts().reset_index(name='count').sort_values(['Group', 'AUDIT3'])\n",
    "AUDIT_tot_counts.to_csv('AUDIT_tot_counts.csv')\n",
    "AUDIT_1_counts.to_csv('AUDIT_1_counts.csv')\n",
    "AUDIT_2_counts.to_csv('AUDIT_2_counts.csv')\n",
    "AUDIT_3_counts.to_csv('AUDIT_3_counts.csv')\n",
    "\n",
    "AUDIT_tot_perc = (data_allgroups_auditqs_clusters.groupby('Group')['auditc'].value_counts() / data_allgroups_auditqs_clusters.groupby('Group')['auditc'].count()).reset_index(name='perc').sort_values(['Group', 'auditc'])\n",
    "AUDIT_1_perc = (data_allgroups_auditqs_clusters.groupby('Group')['AUDIT1'].value_counts() / data_allgroups_auditqs_clusters.groupby('Group')['AUDIT1'].count()).reset_index(name='perc').sort_values(['Group', 'AUDIT1'])\n",
    "AUDIT_2_perc = (data_allgroups_auditqs_clusters.groupby('Group')['AUDIT2'].value_counts() / data_allgroups_auditqs_clusters.groupby('Group')['AUDIT2'].count()).reset_index(name='perc').sort_values(['Group', 'AUDIT2'])\n",
    "AUDIT_3_perc = (data_allgroups_auditqs_clusters.groupby('Group')['AUDIT3'].value_counts() / data_allgroups_auditqs_clusters.groupby('Group')['AUDIT3'].count()).reset_index(name='perc').sort_values(['Group', 'AUDIT3'])\n",
    "AUDIT_tot_perc.to_csv('AUDIT_tot_perc.csv')\n",
    "AUDIT_1_perc.to_csv('AUDIT_1_perc.csv')\n",
    "AUDIT_2_perc.to_csv('AUDIT_2_perc.csv')\n",
    "AUDIT_3_perc.to_csv('AUDIT_3_perc.csv')"
   ]
  },
  {
   "cell_type": "code",
   "execution_count": null,
   "metadata": {},
   "outputs": [],
   "source": [
    "#get value counts for AUDIT-C for each cluster (not split by group)\n",
    "AUDIT_tot_counts_cluster = data_clusters.groupby(['kmeans_cluster'])['auditc'].value_counts().reset_index(name='count').sort_values(['kmeans_cluster', 'auditc'])\n",
    "AUDIT_1_counts_cluster = data_clusters.groupby(['kmeans_cluster'])['AUDIT1'].value_counts().reset_index(name='count').sort_values(['kmeans_cluster', 'AUDIT1'])\n",
    "AUDIT_2_counts_cluster = data_clusters.groupby(['kmeans_cluster'])['AUDIT2'].value_counts().reset_index(name='count').sort_values(['kmeans_cluster', 'AUDIT2'])\n",
    "AUDIT_3_counts_cluster = data_clusters.groupby(['kmeans_cluster'])['AUDIT3'].value_counts().reset_index(name='count').sort_values(['kmeans_cluster', 'AUDIT3'])\n",
    "AUDIT_tot_counts_cluster.to_csv('AUDIT_tot_counts_cluster.csv')\n",
    "AUDIT_1_counts_cluster.to_csv('AUDIT_1_counts_cluster.csv')\n",
    "AUDIT_2_counts_cluster.to_csv('AUDIT_2_counts_cluster.csv')\n",
    "AUDIT_3_counts_cluster.to_csv('AUDIT_3_counts_cluster.csv')\n",
    "\n",
    "AUDIT_tot_perc_cluster = (data_clusters.groupby(['kmeans_cluster'])['auditc'].value_counts() / data_clusters.groupby(['kmeans_cluster'])['auditc'].count()).reset_index(name='perc').sort_values(['kmeans_cluster', 'auditc'])\n",
    "AUDIT_1_perc_cluster = (data_clusters.groupby(['kmeans_cluster'])['AUDIT1'].value_counts() / data_clusters.groupby(['kmeans_cluster'])['AUDIT1'].count()).reset_index(name='perc').sort_values(['kmeans_cluster', 'AUDIT1'])\n",
    "AUDIT_2_perc_cluster = (data_clusters.groupby(['kmeans_cluster'])['AUDIT2'].value_counts() / data_clusters.groupby(['kmeans_cluster'])['AUDIT2'].count()).reset_index(name='perc').sort_values(['kmeans_cluster', 'AUDIT2'])\n",
    "AUDIT_3_perc_cluster = (data_clusters.groupby(['kmeans_cluster'])['AUDIT3'].value_counts()/ data_clusters.groupby(['kmeans_cluster'])['AUDIT3'].count()).reset_index(name='perc').sort_values(['kmeans_cluster', 'AUDIT3'])\n",
    "AUDIT_tot_perc_cluster.to_csv('AUDIT_tot_perc_cluster.csv')\n",
    "AUDIT_1_perc_cluster.to_csv('AUDIT_1_perc_cluster.csv')\n",
    "AUDIT_2_perc_cluster.to_csv('AUDIT_2_perc_cluster.csv')\n",
    "AUDIT_3_perc_cluster.to_csv('AUDIT_3_perc_cluster.csv')\n",
    "\n",
    "#get value counts by group for each cluster\n",
    "AUDIT_cluster_counts = data_clusters.groupby('Group')['kmeans_cluster'].value_counts().reset_index(name='count').sort_values(['Group', 'kmeans_cluster'])\n",
    "AUDIT_cluster_perc = (data_clusters.groupby('Group')['kmeans_cluster'].value_counts() / data_clusters.groupby('Group')['kmeans_cluster'].count()).reset_index(name='perc').sort_values(['Group', 'kmeans_cluster'])\n",
    "AUDIT_cluster_counts.to_csv('AUDIT_cluster_counts.csv')\n",
    "AUDIT_cluster_perc.to_csv('AUDIT_cluster_perc.csv')"
   ]
  }
 ],
 "metadata": {
  "kernelspec": {
   "display_name": "Python 3",
   "language": "python",
   "name": "python3"
  },
  "language_info": {
   "codemirror_mode": {
    "name": "ipython",
    "version": 3
   },
   "file_extension": ".py",
   "mimetype": "text/x-python",
   "name": "python",
   "nbconvert_exporter": "python",
   "pygments_lexer": "ipython3",
   "version": "3.6.10"
  },
  "toc": {
   "base_numbering": 1,
   "nav_menu": {},
   "number_sections": true,
   "sideBar": true,
   "skip_h1_title": false,
   "title_cell": "Table of Contents",
   "title_sidebar": "Contents",
   "toc_cell": false,
   "toc_position": {},
   "toc_section_display": true,
   "toc_window_display": true
  }
 },
 "nbformat": 4,
 "nbformat_minor": 2
}
